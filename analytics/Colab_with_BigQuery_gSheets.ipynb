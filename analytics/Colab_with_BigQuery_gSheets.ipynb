{
  "nbformat": 4,
  "nbformat_minor": 0,
  "metadata": {
    "colab": {
      "name": "Colab_with_BigQuery_gSheets.ipynb",
      "provenance": [],
      "collapsed_sections": []
    },
    "kernelspec": {
      "name": "python3",
      "display_name": "Python 3"
    }
  },
  "cells": [
    {
      "cell_type": "markdown",
      "metadata": {
        "id": "S6Me4u9PwxzV",
        "colab_type": "text"
      },
      "source": [
        "# Authenticate Google Colab\n",
        "Allows access to Google Cloud and Google Drive using your credentials"
      ]
    },
    {
      "cell_type": "code",
      "metadata": {
        "id": "9A4mYQhZE2Hf",
        "colab_type": "code",
        "colab": {
          "base_uri": "https://localhost:8080/",
          "height": 34
        },
        "outputId": "6b0e1b74-c846-4188-a0e9-8b8d9d6d3463"
      },
      "source": [
        "from google.colab import auth\n",
        "auth.authenticate_user()\n",
        "print('Authenticated')"
      ],
      "execution_count": 12,
      "outputs": [
        {
          "output_type": "stream",
          "text": [
            "Authenticated\n"
          ],
          "name": "stdout"
        }
      ]
    },
    {
      "cell_type": "markdown",
      "metadata": {
        "id": "WtbaDrwOxLVh",
        "colab_type": "text"
      },
      "source": [
        "# Retrieve BigQuery as a DataFrame\n",
        "[Getting started with BigQuery](https://colab.research.google.com/notebooks/bigquery.ipynb)"
      ]
    },
    {
      "cell_type": "markdown",
      "metadata": {
        "id": "b2tddSO5yqEp",
        "colab_type": "text"
      },
      "source": [
        "### via magics"
      ]
    },
    {
      "cell_type": "code",
      "metadata": {
        "id": "6SUrOVYhCbMu",
        "colab_type": "code",
        "colab": {}
      },
      "source": [
        "%%bigquery --project cptsrewards-hrd df\n",
        "SELECT \n",
        "  COUNT(*) as total_rows\n",
        "FROM `bigquery-public-data.samples.gsod`"
      ],
      "execution_count": 0,
      "outputs": []
    },
    {
      "cell_type": "code",
      "metadata": {
        "id": "8kt0PYseCuan",
        "colab_type": "code",
        "colab": {
          "base_uri": "https://localhost:8080/",
          "height": 80
        },
        "outputId": "b2042635-f404-4b67-9fcb-788f4bd9ec94"
      },
      "source": [
        "df.head()"
      ],
      "execution_count": 4,
      "outputs": [
        {
          "output_type": "execute_result",
          "data": {
            "text/html": [
              "<div>\n",
              "<style scoped>\n",
              "    .dataframe tbody tr th:only-of-type {\n",
              "        vertical-align: middle;\n",
              "    }\n",
              "\n",
              "    .dataframe tbody tr th {\n",
              "        vertical-align: top;\n",
              "    }\n",
              "\n",
              "    .dataframe thead th {\n",
              "        text-align: right;\n",
              "    }\n",
              "</style>\n",
              "<table border=\"1\" class=\"dataframe\">\n",
              "  <thead>\n",
              "    <tr style=\"text-align: right;\">\n",
              "      <th></th>\n",
              "      <th>min_date</th>\n",
              "      <th>max_date</th>\n",
              "    </tr>\n",
              "  </thead>\n",
              "  <tbody>\n",
              "    <tr>\n",
              "      <th>0</th>\n",
              "      <td>2019-10-01 00:00:03+00:00</td>\n",
              "      <td>2019-12-31 23:53:48+00:00</td>\n",
              "    </tr>\n",
              "  </tbody>\n",
              "</table>\n",
              "</div>"
            ],
            "text/plain": [
              "                   min_date                  max_date\n",
              "0 2019-10-01 00:00:03+00:00 2019-12-31 23:53:48+00:00"
            ]
          },
          "metadata": {
            "tags": []
          },
          "execution_count": 4
        }
      ]
    },
    {
      "cell_type": "markdown",
      "metadata": {
        "id": "2y-tiE_Cyvhe",
        "colab_type": "text"
      },
      "source": [
        "### via google-cloud-bigquery"
      ]
    },
    {
      "cell_type": "code",
      "metadata": {
        "id": "Q9DS3MViCuke",
        "colab_type": "code",
        "colab": {}
      },
      "source": [
        "from google.cloud import bigquery\n",
        "\n",
        "project_id = 'cptsrewards-hrd'\n",
        "client = bigquery.Client(project=project_id)\n",
        "\n",
        "query_string = \"\"\"\n",
        "SELECT \n",
        "  COUNT(*) as total_rows\n",
        "FROM `bigquery-public-data.samples.gsod`\n",
        "\"\"\"\n",
        "\n",
        "df = client.query(query_string).to_dataframe()"
      ],
      "execution_count": 0,
      "outputs": []
    },
    {
      "cell_type": "code",
      "metadata": {
        "id": "qPq5vgrdCusE",
        "colab_type": "code",
        "colab": {
          "base_uri": "https://localhost:8080/",
          "height": 462
        },
        "outputId": "0efc2edd-0c0d-4ede-c617-aa62440a4517"
      },
      "source": [
        "df.head(2)"
      ],
      "execution_count": 14,
      "outputs": [
        {
          "output_type": "execute_result",
          "data": {
            "text/html": [
              "<div>\n",
              "<style scoped>\n",
              "    .dataframe tbody tr th:only-of-type {\n",
              "        vertical-align: middle;\n",
              "    }\n",
              "\n",
              "    .dataframe tbody tr th {\n",
              "        vertical-align: top;\n",
              "    }\n",
              "\n",
              "    .dataframe thead th {\n",
              "        text-align: right;\n",
              "    }\n",
              "</style>\n",
              "<table border=\"1\" class=\"dataframe\">\n",
              "  <thead>\n",
              "    <tr style=\"text-align: right;\">\n",
              "      <th></th>\n",
              "      <th>visit_id</th>\n",
              "      <th>overlapping</th>\n",
              "      <th>visit_dtime</th>\n",
              "      <th>dwelltime</th>\n",
              "      <th>device_uuid</th>\n",
              "      <th>category</th>\n",
              "      <th>sub_category</th>\n",
              "      <th>chain</th>\n",
              "      <th>slat</th>\n",
              "      <th>slon</th>\n",
              "      <th>distance</th>\n",
              "      <th>addr</th>\n",
              "      <th>city</th>\n",
              "      <th>state</th>\n",
              "      <th>zip</th>\n",
              "      <th>country</th>\n",
              "      <th>country_code</th>\n",
              "      <th>sic_code</th>\n",
              "      <th>sic_code_id</th>\n",
              "      <th>location_id</th>\n",
              "      <th>min_slat</th>\n",
              "      <th>max_slat</th>\n",
              "      <th>min_slon</th>\n",
              "      <th>max_slon</th>\n",
              "      <th>vlat</th>\n",
              "      <th>vlon</th>\n",
              "      <th>min_vlat</th>\n",
              "      <th>max_vlat</th>\n",
              "      <th>min_vlon</th>\n",
              "      <th>max_vlon</th>\n",
              "      <th>isa_mall</th>\n",
              "      <th>stores_at_loc</th>\n",
              "      <th>source</th>\n",
              "      <th>in_store</th>\n",
              "      <th>isa_visit</th>\n",
              "    </tr>\n",
              "  </thead>\n",
              "  <tbody>\n",
              "    <tr>\n",
              "      <th>0</th>\n",
              "      <td>20191125_288198384709436f967c8636c3f56a8b_1574...</td>\n",
              "      <td>0</td>\n",
              "      <td>2019-11-25 15:17:00+00:00</td>\n",
              "      <td>75</td>\n",
              "      <td>28819838-4709-436F-967C-8636C3F56A8B</td>\n",
              "      <td></td>\n",
              "      <td></td>\n",
              "      <td>Aubuchon Hardware</td>\n",
              "      <td>44.259133</td>\n",
              "      <td>-72.576042</td>\n",
              "      <td>84.7</td>\n",
              "      <td>40 Main Street</td>\n",
              "      <td>Montpelier</td>\n",
              "      <td>VT</td>\n",
              "      <td>05602</td>\n",
              "      <td></td>\n",
              "      <td></td>\n",
              "      <td></td>\n",
              "      <td></td>\n",
              "      <td></td>\n",
              "      <td>44.259034</td>\n",
              "      <td>44.259232</td>\n",
              "      <td>-72.576165</td>\n",
              "      <td>-72.575918</td>\n",
              "      <td>44.259890</td>\n",
              "      <td>-72.575919</td>\n",
              "      <td>44.259308</td>\n",
              "      <td>44.260437</td>\n",
              "      <td>-72.576920</td>\n",
              "      <td>-72.575653</td>\n",
              "      <td>0</td>\n",
              "      <td>1</td>\n",
              "      <td>stihl</td>\n",
              "      <td>0</td>\n",
              "      <td>0</td>\n",
              "    </tr>\n",
              "    <tr>\n",
              "      <th>1</th>\n",
              "      <td>20191010_767e2e687af81cab7c656bb19da00555_1570...</td>\n",
              "      <td>0</td>\n",
              "      <td>2019-10-10 16:10:57+00:00</td>\n",
              "      <td>166</td>\n",
              "      <td>767E2E68-7AF8-1CAB-7C65-6BB19DA00555</td>\n",
              "      <td></td>\n",
              "      <td></td>\n",
              "      <td>Aubuchon Hardware</td>\n",
              "      <td>43.837702</td>\n",
              "      <td>-70.440305</td>\n",
              "      <td>65.1</td>\n",
              "      <td>777 Roosevelt Trail</td>\n",
              "      <td>Windham</td>\n",
              "      <td>ME</td>\n",
              "      <td>04062</td>\n",
              "      <td></td>\n",
              "      <td></td>\n",
              "      <td></td>\n",
              "      <td></td>\n",
              "      <td></td>\n",
              "      <td>43.837603</td>\n",
              "      <td>43.837801</td>\n",
              "      <td>-70.440429</td>\n",
              "      <td>-70.440181</td>\n",
              "      <td>43.838245</td>\n",
              "      <td>-70.440001</td>\n",
              "      <td>43.837952</td>\n",
              "      <td>43.838509</td>\n",
              "      <td>-70.440453</td>\n",
              "      <td>-70.439705</td>\n",
              "      <td>0</td>\n",
              "      <td>1</td>\n",
              "      <td>stihl</td>\n",
              "      <td>0</td>\n",
              "      <td>0</td>\n",
              "    </tr>\n",
              "    <tr>\n",
              "      <th>2</th>\n",
              "      <td>20191220_94dfdc2721cb43a1bb5ec4e654f22333_1576...</td>\n",
              "      <td>0</td>\n",
              "      <td>2019-12-20 17:23:15+00:00</td>\n",
              "      <td>60</td>\n",
              "      <td>94DFDC27-21CB-43A1-BB5E-C4E654F22333</td>\n",
              "      <td></td>\n",
              "      <td></td>\n",
              "      <td>Woodward Enterprises Inc.</td>\n",
              "      <td>39.448910</td>\n",
              "      <td>-75.720770</td>\n",
              "      <td>101.4</td>\n",
              "      <td>226 W Main St</td>\n",
              "      <td>Middletown</td>\n",
              "      <td>DE</td>\n",
              "      <td>19709</td>\n",
              "      <td></td>\n",
              "      <td></td>\n",
              "      <td></td>\n",
              "      <td></td>\n",
              "      <td></td>\n",
              "      <td>39.448811</td>\n",
              "      <td>39.449009</td>\n",
              "      <td>-75.720894</td>\n",
              "      <td>-75.720646</td>\n",
              "      <td>39.449537</td>\n",
              "      <td>-75.719913</td>\n",
              "      <td>39.449459</td>\n",
              "      <td>39.449604</td>\n",
              "      <td>-75.719986</td>\n",
              "      <td>-75.719788</td>\n",
              "      <td>0</td>\n",
              "      <td>1</td>\n",
              "      <td>stihl</td>\n",
              "      <td>0</td>\n",
              "      <td>0</td>\n",
              "    </tr>\n",
              "    <tr>\n",
              "      <th>3</th>\n",
              "      <td>20191216_fc0aa98fa5414153aff4c91942ba44a3_1576...</td>\n",
              "      <td>0</td>\n",
              "      <td>2019-12-16 11:27:41+00:00</td>\n",
              "      <td>161</td>\n",
              "      <td>FC0AA98F-A541-4153-AFF4-C91942BA44A3</td>\n",
              "      <td></td>\n",
              "      <td></td>\n",
              "      <td>Gorham Ace Hardware</td>\n",
              "      <td>43.680250</td>\n",
              "      <td>-70.441160</td>\n",
              "      <td>138.0</td>\n",
              "      <td>57 Main Street</td>\n",
              "      <td>Gorham</td>\n",
              "      <td>ME</td>\n",
              "      <td>04038</td>\n",
              "      <td></td>\n",
              "      <td></td>\n",
              "      <td></td>\n",
              "      <td></td>\n",
              "      <td></td>\n",
              "      <td>43.680151</td>\n",
              "      <td>43.680349</td>\n",
              "      <td>-70.441284</td>\n",
              "      <td>-70.441036</td>\n",
              "      <td>43.681482</td>\n",
              "      <td>-70.441371</td>\n",
              "      <td>43.680939</td>\n",
              "      <td>43.681808</td>\n",
              "      <td>-70.441681</td>\n",
              "      <td>-70.441139</td>\n",
              "      <td>0</td>\n",
              "      <td>1</td>\n",
              "      <td>stihl</td>\n",
              "      <td>0</td>\n",
              "      <td>0</td>\n",
              "    </tr>\n",
              "    <tr>\n",
              "      <th>4</th>\n",
              "      <td>20191012_4c45988e9fd3612cffe55c310edbc6db_1570...</td>\n",
              "      <td>0</td>\n",
              "      <td>2019-10-12 20:57:22+00:00</td>\n",
              "      <td>44</td>\n",
              "      <td>4C45988E-9FD3-612C-FFE5-5C310EDBC6DB</td>\n",
              "      <td></td>\n",
              "      <td></td>\n",
              "      <td>Annie's Ace Hardware - Brookland</td>\n",
              "      <td>38.931630</td>\n",
              "      <td>-76.994670</td>\n",
              "      <td>75.1</td>\n",
              "      <td>3405 8th Street Ne</td>\n",
              "      <td>Washington</td>\n",
              "      <td>DC</td>\n",
              "      <td>20017</td>\n",
              "      <td></td>\n",
              "      <td></td>\n",
              "      <td></td>\n",
              "      <td></td>\n",
              "      <td></td>\n",
              "      <td>38.931531</td>\n",
              "      <td>38.931729</td>\n",
              "      <td>-76.994794</td>\n",
              "      <td>-76.994546</td>\n",
              "      <td>38.932261</td>\n",
              "      <td>-76.994980</td>\n",
              "      <td>38.931976</td>\n",
              "      <td>38.932358</td>\n",
              "      <td>-76.995644</td>\n",
              "      <td>-76.994713</td>\n",
              "      <td>0</td>\n",
              "      <td>1</td>\n",
              "      <td>stihl</td>\n",
              "      <td>0</td>\n",
              "      <td>0</td>\n",
              "    </tr>\n",
              "  </tbody>\n",
              "</table>\n",
              "</div>"
            ],
            "text/plain": [
              "                                            visit_id  ...  isa_visit\n",
              "0  20191125_288198384709436f967c8636c3f56a8b_1574...  ...          0\n",
              "1  20191010_767e2e687af81cab7c656bb19da00555_1570...  ...          0\n",
              "2  20191220_94dfdc2721cb43a1bb5ec4e654f22333_1576...  ...          0\n",
              "3  20191216_fc0aa98fa5414153aff4c91942ba44a3_1576...  ...          0\n",
              "4  20191012_4c45988e9fd3612cffe55c310edbc6db_1570...  ...          0\n",
              "\n",
              "[5 rows x 35 columns]"
            ]
          },
          "metadata": {
            "tags": []
          },
          "execution_count": 14
        }
      ]
    },
    {
      "cell_type": "markdown",
      "metadata": {
        "id": "FETbfF1oy2tz",
        "colab_type": "text"
      },
      "source": [
        "### via pandas-gbq"
      ]
    },
    {
      "cell_type": "code",
      "metadata": {
        "id": "KDwPsHLpygVc",
        "colab_type": "code",
        "colab": {}
      },
      "source": [
        "import pandas as pd\n",
        "\n",
        "project_id = 'cptsrewards-hrd'\n",
        "query_string = \"\"\"\n",
        "SELECT \n",
        "  COUNT(*) as total_rows\n",
        "FROM `bigquery-public-data.samples.gsod`\n",
        "\"\"\"\n",
        "\n",
        "df = pd.io.gbq.read_gbq(query_string, project_id=project_id)"
      ],
      "execution_count": 0,
      "outputs": []
    },
    {
      "cell_type": "code",
      "metadata": {
        "id": "ahy4-ANJygfs",
        "colab_type": "code",
        "colab": {
          "base_uri": "https://localhost:8080/",
          "height": 233
        },
        "outputId": "0175f7ca-255b-40f2-aafd-7ac28e5a19a8"
      },
      "source": [
        "df.head(2)"
      ],
      "execution_count": 26,
      "outputs": [
        {
          "output_type": "execute_result",
          "data": {
            "text/html": [
              "<div>\n",
              "<style scoped>\n",
              "    .dataframe tbody tr th:only-of-type {\n",
              "        vertical-align: middle;\n",
              "    }\n",
              "\n",
              "    .dataframe tbody tr th {\n",
              "        vertical-align: top;\n",
              "    }\n",
              "\n",
              "    .dataframe thead th {\n",
              "        text-align: right;\n",
              "    }\n",
              "</style>\n",
              "<table border=\"1\" class=\"dataframe\">\n",
              "  <thead>\n",
              "    <tr style=\"text-align: right;\">\n",
              "      <th></th>\n",
              "      <th>visit_id</th>\n",
              "      <th>overlapping</th>\n",
              "      <th>visit_dtime</th>\n",
              "      <th>dwelltime</th>\n",
              "      <th>device_uuid</th>\n",
              "      <th>category</th>\n",
              "      <th>sub_category</th>\n",
              "      <th>chain</th>\n",
              "      <th>slat</th>\n",
              "      <th>slon</th>\n",
              "      <th>distance</th>\n",
              "      <th>addr</th>\n",
              "      <th>city</th>\n",
              "      <th>state</th>\n",
              "      <th>zip</th>\n",
              "      <th>country</th>\n",
              "      <th>country_code</th>\n",
              "      <th>sic_code</th>\n",
              "      <th>sic_code_id</th>\n",
              "      <th>location_id</th>\n",
              "      <th>min_slat</th>\n",
              "      <th>max_slat</th>\n",
              "      <th>min_slon</th>\n",
              "      <th>max_slon</th>\n",
              "      <th>vlat</th>\n",
              "      <th>vlon</th>\n",
              "      <th>min_vlat</th>\n",
              "      <th>max_vlat</th>\n",
              "      <th>min_vlon</th>\n",
              "      <th>max_vlon</th>\n",
              "      <th>isa_mall</th>\n",
              "      <th>stores_at_loc</th>\n",
              "      <th>source</th>\n",
              "      <th>in_store</th>\n",
              "      <th>isa_visit</th>\n",
              "    </tr>\n",
              "  </thead>\n",
              "  <tbody>\n",
              "    <tr>\n",
              "      <th>0</th>\n",
              "      <td>20191125_288198384709436f967c8636c3f56a8b_1574...</td>\n",
              "      <td>0</td>\n",
              "      <td>2019-11-25 15:17:00+00:00</td>\n",
              "      <td>75</td>\n",
              "      <td>28819838-4709-436F-967C-8636C3F56A8B</td>\n",
              "      <td></td>\n",
              "      <td></td>\n",
              "      <td>Aubuchon Hardware</td>\n",
              "      <td>44.259133</td>\n",
              "      <td>-72.576042</td>\n",
              "      <td>84.7</td>\n",
              "      <td>40 Main Street</td>\n",
              "      <td>Montpelier</td>\n",
              "      <td>VT</td>\n",
              "      <td>05602</td>\n",
              "      <td></td>\n",
              "      <td></td>\n",
              "      <td></td>\n",
              "      <td></td>\n",
              "      <td></td>\n",
              "      <td>44.259034</td>\n",
              "      <td>44.259232</td>\n",
              "      <td>-72.576165</td>\n",
              "      <td>-72.575918</td>\n",
              "      <td>44.259890</td>\n",
              "      <td>-72.575919</td>\n",
              "      <td>44.259308</td>\n",
              "      <td>44.260437</td>\n",
              "      <td>-72.576920</td>\n",
              "      <td>-72.575653</td>\n",
              "      <td>0</td>\n",
              "      <td>1</td>\n",
              "      <td>stihl</td>\n",
              "      <td>0</td>\n",
              "      <td>0</td>\n",
              "    </tr>\n",
              "    <tr>\n",
              "      <th>1</th>\n",
              "      <td>20191010_767e2e687af81cab7c656bb19da00555_1570...</td>\n",
              "      <td>0</td>\n",
              "      <td>2019-10-10 16:10:57+00:00</td>\n",
              "      <td>166</td>\n",
              "      <td>767E2E68-7AF8-1CAB-7C65-6BB19DA00555</td>\n",
              "      <td></td>\n",
              "      <td></td>\n",
              "      <td>Aubuchon Hardware</td>\n",
              "      <td>43.837702</td>\n",
              "      <td>-70.440305</td>\n",
              "      <td>65.1</td>\n",
              "      <td>777 Roosevelt Trail</td>\n",
              "      <td>Windham</td>\n",
              "      <td>ME</td>\n",
              "      <td>04062</td>\n",
              "      <td></td>\n",
              "      <td></td>\n",
              "      <td></td>\n",
              "      <td></td>\n",
              "      <td></td>\n",
              "      <td>43.837603</td>\n",
              "      <td>43.837801</td>\n",
              "      <td>-70.440429</td>\n",
              "      <td>-70.440181</td>\n",
              "      <td>43.838245</td>\n",
              "      <td>-70.440001</td>\n",
              "      <td>43.837952</td>\n",
              "      <td>43.838509</td>\n",
              "      <td>-70.440453</td>\n",
              "      <td>-70.439705</td>\n",
              "      <td>0</td>\n",
              "      <td>1</td>\n",
              "      <td>stihl</td>\n",
              "      <td>0</td>\n",
              "      <td>0</td>\n",
              "    </tr>\n",
              "  </tbody>\n",
              "</table>\n",
              "</div>"
            ],
            "text/plain": [
              "                                            visit_id  ...  isa_visit\n",
              "0  20191125_288198384709436f967c8636c3f56a8b_1574...  ...          0\n",
              "1  20191010_767e2e687af81cab7c656bb19da00555_1570...  ...          0\n",
              "\n",
              "[2 rows x 35 columns]"
            ]
          },
          "metadata": {
            "tags": []
          },
          "execution_count": 26
        }
      ]
    },
    {
      "cell_type": "markdown",
      "metadata": {
        "id": "h0q81_mmzbY0",
        "colab_type": "text"
      },
      "source": [
        "# Google Sheets\n",
        "[External data: Local files, Drive, Sheets, and Cloud Storage](https://colab.research.google.com/notebooks/io.ipynb)\n",
        "<br>\n",
        "[From Pandas to Google Sheets](https://www.danielecook.com/from-pandas-to-google-sheets/)"
      ]
    },
    {
      "cell_type": "markdown",
      "metadata": {
        "id": "ZtJdsAX50c5I",
        "colab_type": "text"
      },
      "source": [
        "### Export/Update Google Sheets"
      ]
    },
    {
      "cell_type": "code",
      "metadata": {
        "id": "gozUkyAzyglh",
        "colab_type": "code",
        "colab": {}
      },
      "source": [
        "# Authenticate gspread\n",
        "import gspread\n",
        "from oauth2client.client import GoogleCredentials\n",
        "\n",
        "gc = gspread.authorize(GoogleCredentials.get_application_default())"
      ],
      "execution_count": 0,
      "outputs": []
    },
    {
      "cell_type": "code",
      "metadata": {
        "id": "fMyV9MR4Cuw9",
        "colab_type": "code",
        "colab": {}
      },
      "source": [
        "# Definte functions to transform pandas to google sheets\n",
        "def iter_pd(df):\n",
        "    for val in df.columns:\n",
        "        yield val\n",
        "    for row in df.to_numpy():\n",
        "        for val in row:\n",
        "            if pd.isna(val):\n",
        "                yield \"\"\n",
        "            else:\n",
        "                yield val\n",
        "\n",
        "def pandas_to_sheets(pandas_df, sheet, clear = True):\n",
        "    # Casts all data as string to avoid loading to sheet problems\n",
        "    df_string = pandas_df.astype('str')\n",
        "    # Updates all values in a workbook to match a pandas dataframe\n",
        "    if clear:\n",
        "        sheet.clear()\n",
        "    (row, col) = pandas_df.shape\n",
        "    cells = sheet.range(\"A1:{}\".format(gspread.utils.rowcol_to_a1(row + 1, col)))\n",
        "    for cell, val in zip(cells, iter_pd(df_string)):\n",
        "        cell.value = val\n",
        "    sheet.update_cells(cells)"
      ],
      "execution_count": 0,
      "outputs": []
    },
    {
      "cell_type": "markdown",
      "metadata": {
        "id": "KV8XRDyQ1UIz",
        "colab_type": "text"
      },
      "source": [
        "The spreadsheet key is the red part of the url as show below\n",
        "<br>\n",
        "![](https://miro.medium.com/max/1775/1*Hu8a8Lg2Zxyy_6LKjod_1Q.png)"
      ]
    },
    {
      "cell_type": "code",
      "metadata": {
        "id": "4siVz2z4dfIf",
        "colab_type": "code",
        "colab": {}
      },
      "source": [
        "# Set Workbook\n",
        "wb = gc.open_by_key(\"example\")\n",
        "# Set Worksheet\n",
        "target_sheet = wb.worksheet(\"testing\")\n",
        "\n",
        "pandas_to_sheets(df, target_sheet)"
      ],
      "execution_count": 0,
      "outputs": []
    },
    {
      "cell_type": "markdown",
      "metadata": {
        "id": "22IJ48jI2OeW",
        "colab_type": "text"
      },
      "source": [
        "### Gspread Examples\n",
        "[https://awesomeopensource.com/project/burnash/gspread](https://awesomeopensource.com/project/burnash/gspread)"
      ]
    },
    {
      "cell_type": "markdown",
      "metadata": {
        "id": "uoJmfoI-34ih",
        "colab_type": "text"
      },
      "source": [
        "#### Opening a Spreadsheet"
      ]
    },
    {
      "cell_type": "code",
      "metadata": {
        "id": "-FjP8Y24egoW",
        "colab_type": "code",
        "colab": {}
      },
      "source": [
        "# You can open a spreadsheet by its title as it appears in Google Docs\n",
        "sh = gc.open('My poor gym results') # <-- Look ma, no keys!\n",
        "\n",
        "# If you want to be specific, use a key (which can be extracted from\n",
        "# the spreadsheet's url)\n",
        "sht1 = gc.open_by_key('0BmgG6nO_6dprdS1MN3d3MkdPa142WFRrdnRRUWl1UFE')\n",
        "\n",
        "# Or, if you feel really lazy to extract that key, paste the entire url\n",
        "sht2 = gc.open_by_url('https://docs.google.com/spreadsheet/ccc?key=0Bm...FE&hl')"
      ],
      "execution_count": 0,
      "outputs": []
    },
    {
      "cell_type": "markdown",
      "metadata": {
        "id": "22Qo2TPW3-XZ",
        "colab_type": "text"
      },
      "source": [
        "#### Creating a Spreadsheet"
      ]
    },
    {
      "cell_type": "code",
      "metadata": {
        "id": "bFbTMBg0egwF",
        "colab_type": "code",
        "colab": {}
      },
      "source": [
        "sh = gc.create('A new spreadsheet')\n",
        "\n",
        "# But that new spreadsheet will be visible only to your script's account.\n",
        "# To be able to access newly created spreadsheet you *must* share it"
      ],
      "execution_count": 0,
      "outputs": []
    },
    {
      "cell_type": "markdown",
      "metadata": {
        "id": "S-SQBFeW4KeI",
        "colab_type": "text"
      },
      "source": [
        "#### Selecting a Worksheet"
      ]
    },
    {
      "cell_type": "code",
      "metadata": {
        "id": "a4hrjAWoegzb",
        "colab_type": "code",
        "colab": {}
      },
      "source": [
        "# Select worksheet by index. Worksheet indexes start from zero\n",
        "worksheet = sh.get_worksheet(0)\n",
        "\n",
        "# By title\n",
        "worksheet = sh.worksheet(\"January\")\n",
        "\n",
        "# Most common case: Sheet1\n",
        "worksheet = sh.sheet1\n",
        "\n",
        "# Get a list of all worksheets\n",
        "worksheet_list = sh.worksheets()"
      ],
      "execution_count": 0,
      "outputs": []
    },
    {
      "cell_type": "markdown",
      "metadata": {
        "id": "Gc9YFkUq4Pb2",
        "colab_type": "text"
      },
      "source": [
        "#### Creating a Worksheet"
      ]
    },
    {
      "cell_type": "code",
      "metadata": {
        "id": "BhDPyZs24Q3i",
        "colab_type": "code",
        "colab": {}
      },
      "source": [
        "worksheet = sh.add_worksheet(title=\"A worksheet\", rows=\"100\", cols=\"20\")"
      ],
      "execution_count": 0,
      "outputs": []
    }
  ]
}