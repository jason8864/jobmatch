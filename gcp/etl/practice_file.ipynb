{
 "cells": [
  {
   "cell_type": "code",
   "execution_count": 1,
   "metadata": {},
   "outputs": [],
   "source": [
    "import json"
   ]
  },
  {
   "cell_type": "code",
   "execution_count": null,
   "metadata": {},
   "outputs": [],
   "source": [
    "# job_titles = ['data+scientist', 'product+manager', 'data+analyst', 'full+stack+developer', 'frontend+developer', 'backend+developer', 'senior+developer',\n",
    "#               'ux+designer', 'ad+operations', 'human+resource', 'people+operations', 'technical+recruiter']\n",
    "# job_locations = ['New+York', 'Chicago', 'San+Francisco', 'Austin', 'Seattle',\n",
    "#                  'Los+Angeles', 'Philadelphia', 'Atlanta', 'Dallas', 'Pittsburgh',\n",
    "#                  'Portland', 'Phoenix', 'Denver', 'Houston', 'Miami',\n",
    "#                  'Charlottesville', 'Richmond', 'Baltimore', 'Harrisonburg', 'San+Antonio', 'San+Diego', 'San+Jose'\n",
    "#                  'Austin', 'Jacksonville', 'Indianapolis', 'Columbus', 'Fort+Worth', 'Charlotte', 'Detroit', 'El+Paso',\n",
    "#                  'Memphis', 'Boston', 'Nashville', 'Louisville', 'Milwaukee', 'Las+Vegas', 'Albuquerque', 'Tucson',\n",
    "#                  'Fresno', 'Sacramento', 'Long+Beach', 'Mesa', 'Virginia+Beach', 'Norfolk', 'Atlanta', 'Colorado+Springs',\n",
    "#                  'Raleigh', 'Omaha', 'Oakland', 'Tulsa', 'Minneapolis', 'Cleveland', 'Wichita', 'Arlington', 'New+Orleans',\n",
    "#                  'Bakersfield', 'Tampa', 'Honolulu', 'Anaheim', 'Aurora', 'Santa+Ana', 'Riverside', 'Corpus+Christi', 'Pittsburgh',\n",
    "#                  'Lexington', 'Anchorage', 'Cincinnati', 'Baton+Rouge', 'Chesapeake', 'Alexandria', 'Fairfax', 'Herndon',\n",
    "#                  'Reston', 'Roanoke']"
   ]
  },
  {
   "cell_type": "code",
   "execution_count": null,
   "metadata": {},
   "outputs": [],
   "source": [
    "{ \"titles\":\"'data+scientist'\", \n",
    "\"locations\":\"'New+York', 'Chicago', 'San+Francisco', 'Austin', 'Seattle','Los+Angeles', 'Philadelphia', 'Atlanta', 'Dallas', 'Pittsburgh','Portland', 'Phoenix', 'Denver', 'Houston', 'Miami','Charlottesville', 'Richmond', 'Baltimore', 'Harrisonburg', 'San+Antonio', 'San+Diego', 'San+Jose','Austin', 'Jacksonville', 'Indianapolis', 'Columbus', 'Fort+Worth', 'Charlotte', 'Detroit', 'El+Paso','Memphis', 'Boston', 'Nashville', 'Louisville', 'Milwaukee', 'Las+Vegas', 'Albuquerque', 'Tucson','Fresno', 'Sacramento', 'Long+Beach', 'Mesa', 'Virginia+Beach', 'Norfolk', 'Atlanta', 'Colorado+Springs','Raleigh', 'Omaha', 'Oakland', 'Tulsa', 'Minneapolis', 'Cleveland', 'Wichita', 'Arlington', 'New+Orleans','Bakersfield', 'Tampa', 'Honolulu', 'Anaheim', 'Aurora', 'Santa+Ana', 'Riverside', 'Corpus+Christi', 'Pittsburgh','Lexington', 'Anchorage', 'Cincinnati', 'Baton+Rouge', 'Chesapeake', 'Alexandria', 'Fairfax', 'Herndon','Reston', 'Roanoke'\"}"
   ]
  },
  {
   "cell_type": "code",
   "execution_count": 2,
   "metadata": {},
   "outputs": [],
   "source": [
    "x = '''\n",
    "{ \"titles\":\"'data+scientist', 'product+manager', 'data+analyst', 'full+stack+developer'\", \n",
    "\"locations\":\"'New+York', 'Chicago', 'San+Francisco', 'Austin', 'Seattle'\"}\n",
    "'''\n",
    "y = json.loads(x)\n"
   ]
  },
  {
   "cell_type": "code",
   "execution_count": 3,
   "metadata": {},
   "outputs": [
    {
     "data": {
      "text/plain": [
       "\"'data+scientist', 'product+manager', 'data+analyst', 'full+stack+developer'\""
      ]
     },
     "execution_count": 3,
     "metadata": {},
     "output_type": "execute_result"
    }
   ],
   "source": [
    "y['titles']"
   ]
  },
  {
   "cell_type": "code",
   "execution_count": null,
   "metadata": {},
   "outputs": [],
   "source": []
  },
  {
   "cell_type": "code",
   "execution_count": 6,
   "metadata": {},
   "outputs": [],
   "source": [
    "my_titles = y['titles']"
   ]
  },
  {
   "cell_type": "code",
   "execution_count": 13,
   "metadata": {},
   "outputs": [],
   "source": [
    "def string_to_array(input_string):\n",
    "    input_string = input_string.replace(\"'\", \"\")\n",
    "    input_string = input_string.replace(\" \", \"\")\n",
    "    array = input_string.split(',')\n",
    "    return array"
   ]
  },
  {
   "cell_type": "code",
   "execution_count": 7,
   "metadata": {},
   "outputs": [],
   "source": [
    "titles_split = my_titles.split(',')"
   ]
  },
  {
   "cell_type": "code",
   "execution_count": 14,
   "metadata": {},
   "outputs": [
    {
     "data": {
      "text/plain": [
       "['data+scientist', 'product+manager', 'data+analyst', 'full+stack+developer']"
      ]
     },
     "execution_count": 14,
     "metadata": {},
     "output_type": "execute_result"
    }
   ],
   "source": [
    "string_to_array(my_titles)"
   ]
  },
  {
   "cell_type": "code",
   "execution_count": null,
   "metadata": {},
   "outputs": [],
   "source": []
  },
  {
   "cell_type": "code",
   "execution_count": 12,
   "metadata": {},
   "outputs": [
    {
     "data": {
      "text/plain": [
       "\" 'product+manager'\""
      ]
     },
     "execution_count": 12,
     "metadata": {},
     "output_type": "execute_result"
    }
   ],
   "source": [
    "titles_split[1]"
   ]
  },
  {
   "cell_type": "markdown",
   "metadata": {},
   "source": [
    "testing for scraping desc"
   ]
  },
  {
   "cell_type": "code",
   "execution_count": 1,
   "metadata": {},
   "outputs": [],
   "source": [
    "import pandas as pd\n",
    "from bs4 import BeautifulSoup\n",
    "import urllib.request\n",
    "import os"
   ]
  },
  {
   "cell_type": "code",
   "execution_count": 2,
   "metadata": {},
   "outputs": [],
   "source": [
    "gcp_creds_path = '/Users/jason/Documents/Jason/JobMatch/job-match-271401-74d3c9eb9112.json'\n",
    "if os.path.exists(gcp_creds_path):\n",
    "    os.environ['GOOGLE_APPLICATION_CREDENTIALS'] = r'/Users/jason/Documents/Jason/JobMatch/job-match-271401-74d3c9eb9112.json'\n"
   ]
  },
  {
   "cell_type": "code",
   "execution_count": 3,
   "metadata": {},
   "outputs": [],
   "source": [
    "def retrieve_job_id():\n",
    "    query_string = \"\"\"\n",
    "    select job_id from job_search.job_id_new_list\n",
    "    where rand()<0.001\n",
    "    \"\"\"\n",
    "    df = pd.read_gbq(query=query_string)\n",
    "    return df.job_id.to_list()"
   ]
  },
  {
   "cell_type": "code",
   "execution_count": 4,
   "metadata": {},
   "outputs": [
    {
     "name": "stderr",
     "output_type": "stream",
     "text": [
      "/Users/jason/opt/anaconda3/envs/jobmatch/lib/python3.8/site-packages/pandas_gbq/gbq.py:552: UserWarning: A progress bar was requested, but there was an error loading the tqdm library. Please install tqdm to use the progress bar functionality.\n",
      "  df = rows_iter.to_dataframe(\n"
     ]
    }
   ],
   "source": [
    "job_id_list = retrieve_job_id()"
   ]
  },
  {
   "cell_type": "code",
   "execution_count": 5,
   "metadata": {},
   "outputs": [
    {
     "name": "stdout",
     "output_type": "stream",
     "text": [
      "['7c6f54b549481202', 'd1be7ae650a6d119', 'c45a192c62490863', '2993111a1b43c732', '99fed6511fd6f35c', '4847b0f1c1ff3138', '7c454ee4d47df4be', '1355ac91c881eb8e', 'b3b461970b747d5a', 'b8a6477a2c111b32', 'b1e34f5d923e0b45', '5f5cd9a8c70a8fcb', '11f0b266e30d9b8b', '199d23e2494d288d', '7a7880da86061846', 'b73f6f771a5560f9', 'c50a338831544bc9', '43086e42a91be573', '76c0fadc60aa020b', '70a788dd4ef7247a', 'db764f535381a8cc', '2df7755de5ce62e5', 'ecd52aa053abbe71', '5cbcbaa1f9000869', '3cc428ebf00de924', 'de536684d8d2d9f3', '612871888b08a0bd', 'e715f76bb771d6e9', '63e667b6adc764f4', '039330152eede9ef', '24c3e358e5c0756b']\n"
     ]
    }
   ],
   "source": [
    "print(job_id_list)"
   ]
  },
  {
   "cell_type": "code",
   "execution_count": 6,
   "metadata": {},
   "outputs": [],
   "source": [
    "job_id = job_id_list[5]\n",
    "job_desc_url = 'https://www.indeed.com/viewjob?jk='+job_id\n",
    "soup = BeautifulSoup(urllib.request.urlopen(job_desc_url).read(), 'html.parser')"
   ]
  },
  {
   "cell_type": "code",
   "execution_count": 12,
   "metadata": {},
   "outputs": [
    {
     "name": "stdout",
     "output_type": "stream",
     "text": [
      "<meta content=\"http://www.indeed.com/viewjob?from=appsharedroid&amp;jk=4847b0f1c1ff3138\" id=\"indeed-share-url\"/>\n"
     ]
    }
   ],
   "source": [
    "found = soup.find('meta', attrs={'id': 'indeed-share-url'})\n",
    "print(found)"
   ]
  },
  {
   "cell_type": "code",
   "execution_count": 15,
   "metadata": {},
   "outputs": [
    {
     "data": {
      "text/plain": [
       "'4847b0f1c1ff3138'"
      ]
     },
     "execution_count": 15,
     "metadata": {},
     "output_type": "execute_result"
    }
   ],
   "source": [
    "found['content'].split('=')[-1]"
   ]
  },
  {
   "cell_type": "code",
   "execution_count": 9,
   "metadata": {},
   "outputs": [
    {
     "data": {
      "text/plain": [
       "<html dir=\"ltr\" lang=\"en\">\n",
       "<head>\n",
       "<title>Senior Microsoft Active Directory Migration Engineer - Boston, MA - Indeed.com</title><meta charset=\"utf-8\"/><meta content=\"ie=edge\" http-equiv=\"x-ua-compatible\"/><meta content=\"notranslate\" name=\"google\"/><meta content=\"width=device-width, initial-scale=1\" name=\"viewport\"/><meta content=\"noindex\" name=\"robots\"/><meta content=\"http://www.indeed.com/viewjob?from=appsharedroid&amp;jk=4847b0f1c1ff3138\" id=\"indeed-share-url\"/><meta content=\"Senior Microsoft Active Directory Migration Engineer\" id=\"indeed-share-message\"/><meta content=\"simple\" id=\"indeed-share-type\"/><meta content=\"Senior Microsoft Active Directory Migration Engineer - Boston, MA - Indeed.com\" property=\"og:title\"/><meta content=\"Senior Microsoft Active Directory Migration Engineer - Boston, MA - Indeed.com\" name=\"twitter:title\"/><meta content=\"summary_large_image\" name=\"twitter:card\"/><meta content=\"@indeed\" name=\"twitter:site\"/><meta content=\"CB5 Solutions LLC\" property=\"og:description\"/><meta content=\"CB5 Solutions LLC\" name=\"twitter:description\"/><meta content=\"http://www.indeed.com/m/images/indeed_logo_1200x630.png\" property=\"og:image\"/><meta content=\"1200\" property=\"og:image:width\"/><meta content=\"630\" property=\"og:image:height\"/><meta content=\"http://www.indeed.com/m/images/indeed_logo_1200x630.png\" name=\"twitter:image\"/><meta content=\"http://www.indeed.com/viewjob?from=socialmediatagsbig&amp;jk=4847b0f1c1ff3138\" property=\"og:url\"/><script src=\"https://d3fw5vlhllyvee.cloudfront.net/mosaic-common/dist/bad5dbde195971a7e2c9/scripts/shim.js\" type=\"text/javascript\"></script><link href=\"/m/s/e9613fba7833c2b8bb9c/styles/viewjob-ltr.css\" rel=\"stylesheet\"/>\n",
       "<style>\n",
       ".inwrap .popover-input-locationtst{height:42px;border-radius:3px;border-style:solid;border-width:2px;padding-left:6px;margin-top:5px;font-size:14px}body .popover-form-locationtst .popover-input-locationtst[disabled],body .popover-form-locationtst .popover-input-locationtst[disabled]:active,body .popover-form-locationtst .popover-input-locationtst[disabled]:focus{border-color:#d6d6d6;color:#909090;box-shadow:none}:root .icl-TextInput-control,:root .popover-input-locationtst{color:#2d2d2d;border-color:#d4d2d0;color:#2d2d2d !important}:root .icl-TextInput-control:active,:root .icl-TextInput-control:focus,:root .popover-input-locationtst:active,:root .popover-input-locationtst:focus{border-color:#1c56ac !important}:root #cmp-root #cmp-salary-search .cmp-salary-search-form button,:root .icl-Button--branded,:root .icl-Button--primary,:root .icl-Button--primary.cta_button.blue,:root body.janus #popover-foreground .cleanuptst-indeed-serp-button,:root body.janus .footerCta.greyBar [dir] .icl-Button.cta_button.blue,:root body.janus table #vjs-container .indeed-apply-button,:root body.janus table #vjs-container .indeed-apply-button-placeholder{background-color:#1c56ac !important;border-color:#1c56ac !important;transition:background-color 200ms ease-out,border-color 200ms ease-out}:root #cmp-root #cmp-salary-search .cmp-salary-search-form button:hover,:root .icl-Button--branded:hover,:root .icl-Button--primary.cta_button.blue:hover,:root .icl-Button--primary:hover,:root body.janus #popover-foreground .cleanuptst-indeed-serp-button:hover,:root body.janus .footerCta.greyBar [dir] .icl-Button.cta_button.blue:hover,:root body.janus table #vjs-container .indeed-apply-button-placeholder:hover,:root body.janus table #vjs-container .indeed-apply-button:hover{background-color:#092c5d !important;border-color:#092c5d !important}:root #cmp-root #cmp-salary-search .cmp-salary-search-form button:active,:root .icl-Button--branded:active,:root .icl-Button--primary.cta_button.blue:active,:root .icl-Button--primary:active,:root body.janus #popover-foreground .cleanuptst-indeed-serp-button:active,:root body.janus .footerCta.greyBar [dir] .icl-Button.cta_button.blue:active,:root body.janus table #vjs-container .indeed-apply-button-placeholder:active,:root body.janus table #vjs-container .indeed-apply-button:active{background-color:#092c5d !important;color:#fff !important;border-color:#092c5d !important}:root #cmp-root #cmp-salary-search .cmp-salary-search-form button:focus,:root .icl-Button--branded:focus,:root .icl-Button--primary.cta_button.blue:focus,:root .icl-Button--primary:focus,:root body.janus #popover-foreground .cleanuptst-indeed-serp-button:focus,:root body.janus .footerCta.greyBar [dir] .icl-Button.cta_button.blue:focus,:root body.janus table #vjs-container .indeed-apply-button-placeholder:focus,:root body.janus table #vjs-container .indeed-apply-button:focus{background-color:#1c56ac !important;box-shadow:inset 0 1px 0.25rem rgba(0,0,0,0.1),0 0 0 2px #fff,0 0 0 3px #1c56ac;border-color:#1c56ac !important}:root #cmp-root #cmp-salary-search .cmp-salary-search-form button:focus svg.icl-Icon,:root .icl-Button--branded:focus svg.icl-Icon,:root .icl-Button--primary.cta_button.blue:focus svg.icl-Icon,:root .icl-Button--primary:focus svg.icl-Icon,:root body.janus #popover-foreground .cleanuptst-indeed-serp-button:focus svg.icl-Icon,:root body.janus .footerCta.greyBar [dir] .icl-Button.cta_button.blue:focus svg.icl-Icon,:root body.janus table #vjs-container .indeed-apply-button-placeholder:focus svg.icl-Icon,:root body.janus table #vjs-container .indeed-apply-button:focus svg.icl-Icon{fill:#1c56ac !important}:root .icl-Button--secondary{border-color:#1c56ac !important;color:#1c56ac !important;transition:background-color 180ms ease-out,border-color 180ms ease-out}:root .icl-Button--secondary:active,:root .icl-Button--secondary:focus,:root .icl-Button--secondary:hover{background-color:unset !important}:root .icl-Button--secondary:active,:root .icl-Button--secondary:hover{border-color:#092c5d !important;color:#092c5d !important}:root .icl-Button--secondary:focus{box-shadow:inset 0 1px 0.25rem rgba(0,0,0,0.1),0 0 0 2px #fff,0 0 0 3px #1c56ac;border-color:#1c56ac !important}:root #cmp-root #cmp-footer input[type='submit'],:root .icl-Button--tertiary{border-color:#d4d2d0 !important;color:#1c56ac !important;transition:background-color 180ms ease-out,border-color 180ms ease-out}:root #cmp-root #cmp-footer input[type='submit']:active,:root #cmp-root #cmp-footer input[type='submit']:focus,:root #cmp-root #cmp-footer input[type='submit']:hover,:root .icl-Button--tertiary:active,:root .icl-Button--tertiary:focus,:root .icl-Button--tertiary:hover{background-color:unset !important}:root #cmp-root #cmp-footer input[type='submit']:active,:root #cmp-root #cmp-footer input[type='submit']:hover,:root .icl-Button--tertiary:active,:root .icl-Button--tertiary:hover{border-color:#949494 !important;color:#092c5d !important}:root #cmp-root #cmp-footer input[type='submit']:focus,:root .icl-Button--tertiary:focus{box-shadow:inset 0 1px 0.25rem rgba(0,0,0,0.1),0 0 0 2px #fff,0 0 0 3px #1c56ac}:root .icl-Icon--blue{fill:#1c56ac}:root .icl-Card--hasBorder,:root .jobsearch-JobComponent-bottomDivider{border-color:#f3f2f1}:root .jamodal-gdpr,:root .mosaic-provider-reportcontent .report-content-legal-tos{color:#767676}:root #jamodal-email{color:#2d2d2d !important}:root #jamodal-email:active,:root #jamodal-email:focus{border-color:#1c56ac !important}:root .jamodal-heading{color:#2d2d2d}:root .jamodal-heading-container{border-bottom:2px solid #faf9f8}:root .jobalertsavedjobs-callout-container .icl-Callout,:root body .icl-Callout{border-top:6px solid;border-top-color:#4ac9ff}:root .jobalertsavedjobs-callout-container .icl-Callout--caretEnd:after,:root .jobalertsavedjobs-callout-container .icl-Callout--caretStart:after,:root body .icl-Callout--caretEnd:after,:root body .icl-Callout--caretStart:after{border-bottom-color:#4ac9ff}:root #cmp-root #cmp-discovery a,:root #cmp-root #cmp-page .cmp-breadcrumb li a,:root #cmp-root .sal-job-openings-link,:root .femp_links,:root .femp_links div,:root a:not(.icl-Button),:root a:not(.icl-Button):link,:root body.janus #resultsBody #pageContent #resultsCol .result .sign-in-container .ws_content a{color:#1c56ac !important}:root .ws_content{border:none;background-color:#faf9f8 !important}:root .jobsearch-ViewJobLayout .icl-Button--whatWhere,:root body.janus table #jobsearch.jsf .inwrapBorder .input_submit{background-color:#1c56ac !important;border-color:#1c56ac !important;transition:background-color 200ms ease-out,border-color 200ms ease-out;font-size:0.875rem;font-weight:600}:root .jobsearch-ViewJobLayout .icl-Button--whatWhere:hover,:root body.janus table #jobsearch.jsf .inwrapBorder .input_submit:hover{background-color:#092c5d !important;border-color:#092c5d !important}:root .jobsearch-ViewJobLayout .icl-Button--whatWhere:active,:root body.janus table #jobsearch.jsf .inwrapBorder .input_submit:active{background-color:#092c5d !important;color:#fff !important;border-color:#092c5d !important}:root .jobsearch-ViewJobLayout .icl-Button--whatWhere:focus,:root body.janus table #jobsearch.jsf .inwrapBorder .input_submit:focus{background-color:#1c56ac !important;box-shadow:inset 0 1px 0.25rem rgba(0,0,0,0.1),0 0 0 2px #fff,0 0 0 3px #1c56ac;border-color:#1c56ac !important}:root .jobsearch-ViewJobLayout .icl-Button--whatWhere:focus svg.icl-Icon,:root body.janus table #jobsearch.jsf .inwrapBorder .input_submit:focus svg.icl-Icon{fill:#1c56ac !important}:root .icl-Ratings-starsWrapper{filter:grayscale(1) brightness(0.59)}:root .ratings,:root .ratings .rating{background-image:url(data:image/svg+xml;base64,PHN2ZyB4bWxucz0iaHR0cDovL3d3dy53My5vcmcvMjAwMC9zdmciIHdpZHRoPSIxMiIgaGVpZ2h0PSIyMyIgdmlld0JveD0iMCAwIDEyIDIzIj4KICA8ZyBmaWxsPSJub25lIiBmaWxsLXJ1bGU9ImV2ZW5vZGQiPgogICAgPHBvbHlnb24gZmlsbD0iIzc2NzY3NiIgcG9pbnRzPSIxMiAxNS4zNDQgNy42ODYgMTQuOTcyIDYgMTEgNC4zMTQgMTQuOTc4IDAgMTUuMzQ0IDMuMjc2IDE4LjE4MiAyLjI5MiAyMi40IDYgMjAuMTYyIDkuNzA4IDIyLjQgOC43MyAxOC4xODIiLz4KICAgIDxwYXRoIGZpbGw9IiNGRkYiIHN0cm9rZT0iIzc2NzY3NiIgZD0iTTEwLjc4MDE0MjUsNC43NDA2NjIyMSBMNy4zNDMzMzMzMSw0LjQ0NDMwMDc2IEw2LjAwMDM3Mzk4LDEuMjgwNDc1ODggTDQuNjU2NzE5MDYsNC40NTA3MjkxMSBMMS4yMjMwODcyNCw0Ljc0MjAyOTQ5IEwzLjgzMTUwNDA5LDcuMDAxNzAwNDkgTDMuMDQ4MTQ0NzIsMTAuMzU5NjE3NCBMNi4wMDAwMjc3NCw4LjU3Nzk4NTU3IEw4Ljk1Mzc3OSwxMC4zNjA3NjkgTDguMTc0OTY5MDEsNy4wMDE3MDA0OSBMMTAuNzgwMTQyNSw0Ljc0MDY2MjIxIFoiLz4KICA8L2c+Cjwvc3ZnPgo=)}:root .icl-CloseButton .icl-Icon{fill:#767676}:root body.janus #femp_list .femp_item a,:root body.janus #femp_list .femp_item a.jobtitle,:root body.janus #jobalerts #jobalertmessage a,:root body.janus #jobalerts #jobalertmessage a.jobtitle,:root body.janus #jobalertswrapper .ja_rec_ui_tst_box a,:root body.janus #jobalertswrapper .ja_rec_ui_tst_box a.jobtitle,:root body.janus #tjobalerts #tjobalertmessage a,:root body.janus #tjobalerts #tjobalertmessage a.jobtitle,:root body.janus #tjobalertswrapper .ja_rec_ui_tst_box a,:root body.janus #tjobalertswrapper .ja_rec_ui_tst_box a.jobtitle,:root body.janus #univsrch-salary-v3 #univsrch-salary-eval a,:root body.janus #univsrch-salary-v3 #univsrch-salary-eval a.jobtitle{color:#1c56ac !important}:root .serpvj-earlyApplyMessage-icon svg{display:none}:root .serpvj-earlyApplyMessage-icon::before{background-image:url(data:image/svg+xml,%3Csvg%20width%3D%2220%22%20height%3D%2220%22%20viewBox%3D%220%200%2020%2020%22%20fill%3D%22none%22%20xmlns%3D%22http%3A%2F%2Fwww.w3.org%2F2000%2Fsvg%22%3E%0A%3Crect%20width%3D%2220%22%20height%3D%2220%22%20rx%3D%2210%22%20fill%3D%22%23774EBE%22%2F%3E%0A%3Cpath%20fill-rule%3D%22evenodd%22%20clip-rule%3D%22evenodd%22%20d%3D%22M6.5%205V7.77747H6.50504L6.5%207.78296L8.88067%2010.0004L6.5%2012.2225L6.50504%2012.228H6.5V15H13.6429V12.228H13.637L13.6429%2012.2225L11.2613%2010.0004L13.6429%207.78296L13.637%207.77747H13.6429V5H6.5ZM7.90337%2012.7982L10.0782%2010.7698L12.2387%2012.7982V13.7363H7.90337V12.7982Z%22%20fill%3D%22white%22%2F%3E%0A%3C%2Fsvg%3E);background-repeat:no-repeat;content:'';display:inline-block;width:20px;height:20px}:root .serp-earlyApplyMessage-icon svg{display:none}:root .serp-earlyApplyMessage-icon::before{background-image:url(data:image/svg+xml;base64,PHN2ZyB3aWR0aD0iMTYiIGhlaWdodD0iMTYiIHZpZXdCb3g9IjAgMCAxNiAxNiIgZmlsbD0ibm9uZSIgeG1sbnM9Imh0dHA6Ly93d3cudzMub3JnLzIwMDAvc3ZnIj4KPHJlY3Qgd2lkdGg9IjE2IiBoZWlnaHQ9IjE2IiByeD0iOCIgZmlsbD0iIzc3NEVCRSIvPgo8cGF0aCBmaWxsLXJ1bGU9ImV2ZW5vZGQiIGNsaXAtcnVsZT0iZXZlbm9kZCIgZD0iTTUuMjAwMiA0VjYuMjIxOThINS4yMDQyM0w1LjIwMDIgNi4yMjYzN0w3LjEwNDczIDguMDAwMzFMNS4yMDAyIDkuNzc4MDJMNS4yMDQyMyA5Ljc4MjQxSDUuMjAwMlYxMkgxMC45MTQ1VjkuNzgyNDFIMTAuOTA5OEwxMC45MTQ1IDkuNzc4MDJMOS4wMDkyNyA4LjAwMDMxTDEwLjkxNDUgNi4yMjYzN0wxMC45MDk4IDYuMjIxOThIMTAuOTE0NVY0SDUuMjAwMlpNNi4zMjI5IDEwLjIzODVMOC4wNjI3MyA4LjYxNThMOS43OTExMyAxMC4yMzg1VjEwLjk4OUg2LjMyMjlWMTAuMjM4NVoiIGZpbGw9IndoaXRlIi8+Cjwvc3ZnPgo=);background-repeat:no-repeat;content:'';display:inline-block;width:16px;height:16px}:root .jobsearch-EmployerResponsive-icon,:root body.janus .serpvj-ResponsiveEmployer .serpvj-ResponsiveEmployer-icon{background-image:url(\"data:image/svg+xml,%3Csvg width='16' height='16' xmlns='http://www.w3.org/2000/svg'%3E%3Cg fill='none' fill-rule='evenodd'%3E%3Crect fill='%234691a3' fill-rule='nonzero' width='16' height='16' rx='8'/%3E%3Cpath fill='%23FFF' d='M6.6 4L5 8.741h2.533L6.867 12 11 6.814H8.333L9.666 4z'/%3E%3C/g%3E%3C/svg%3E\");background-repeat:no-repeat;width:16px;height:16px}:root .jobsearch-EmployerResponsive-icon svg,:root body.janus .serpvj-ResponsiveEmployer .serpvj-ResponsiveEmployer-icon svg{visibility:hidden}:root .serp-ResponsiveEmployer .serp-ResponsiveEmployer-icon{background-image:url(data:image/svg+xml;base64,PHN2ZyB3aWR0aD0iMTYiIGhlaWdodD0iMTYiIHZpZXdCb3g9IjAgMCAxNiAxNiIgZmlsbD0ibm9uZSIgeG1sbnM9Imh0dHA6Ly93d3cudzMub3JnLzIwMDAvc3ZnIj4KPHJlY3Qgd2lkdGg9IjE2IiBoZWlnaHQ9IjE2IiByeD0iOCIgZmlsbD0iIzQ2OTFBMyIvPgo8cGF0aCBmaWxsLXJ1bGU9ImV2ZW5vZGQiIGNsaXAtcnVsZT0iZXZlbm9kZCIgZD0iTTYuNzE5NCAzLjE5OTk1TDQuNzk5OCA4Ljg4OTI3SDcuODM5OTZMNy4wNDAwNSAxMi44TDExLjk5OTggNi41NzcxNEg4Ljc5OTMyTDEwLjM5OTEgMy4xOTk5NUg2LjcxOTRaIiBmaWxsPSJ3aGl0ZSIvPgo8L3N2Zz4K);background-repeat:no-repeat;width:16px;height:16px}:root .serp-ResponsiveEmployer .serp-ResponsiveEmployer-icon svg{visibility:hidden}:root #resultsBody #pageContent #resultsCol .row .serp-ResponsiveEmployer .serp-ResponsiveEmployer-heading{line-height:unset}:root body.janus #resultsBody #pageContent #resultsCol .result .jobCardShelfContainer .jobCardShelf .jobCardShelfItem .jobCardShelfIcon svg g[fill='#816BFF']{fill:#774ebe}:root body.janus #resultsBody #pageContent #resultsCol .result .jobCardShelfContainer .jobCardShelf .jobCardShelfItem .jobCardShelfIcon #icon\\/ResponsiveEmployer16px-Copy #Rectangle-Copy-4{fill:#4691a3}:root .jobCardShelfIcon rect[fill=\"#DB183F\"],:root .serpvj-UrgentlyHiringMessage-icon rect[fill=\"#DB183F\"]{fill:#9c2f5f !important}:root span.ratingsDisplay svg{display:none}:root span.ratingsDisplay::after{background-image:url(data:image/svg+xml,%3Csvg%20width%3D%2213%22%20height%3D%2213%22%20viewBox%3D%220%200%2013%2013%22%20fill%3D%22none%22%20xmlns%3D%22http%3A%2F%2Fwww.w3.org%2F2000%2Fsvg%22%3E%0A%3Cpath%20fill-rule%3D%22evenodd%22%20clip-rule%3D%22evenodd%22%20d%3D%22M12.6396%205.1167L8.32565%204.7447L6.63965%200.772705L4.95365%204.75071L0.639648%205.1167L3.91565%207.95471L2.93165%2012.1727L6.63965%209.9347L10.3476%2012.1727L9.36965%207.95471L12.6396%205.1167Z%22%20fill%3D%22%23767676%22%2F%3E%0A%3C%2Fsvg%3E);background-repeat:no-repeat;content:'';display:inline-block;width:13px;height:13px;vertical-align:-0.07rem}:root .icl-IconDecorative--subscriptions{margin-top:3px;background-image:url(data:image/svg+xml;base64,PHN2ZyB3aWR0aD0iMTYiIGhlaWdodD0iMTYiIHZpZXdCb3g9IjAgMCAxNiAxNiIgZmlsbD0ibm9uZSIgeG1sbnM9Imh0dHA6Ly93d3cudzMub3JnLzIwMDAvc3ZnIj4KPHBhdGggZD0iTTguMTIyNjIgOS4wMTc4OEwxNC4xMjI2IDQuMDAyNTRMMS44Mzg2MiAzLjc1ODU0TDguMTIyNjIgOS4wMTc4OFoiIGZpbGw9IiNGRkQzNUMiLz4KPG1hc2sgaWQ9Im1hc2swIiBtYXNrLXR5cGU9ImFscGhhIiBtYXNrVW5pdHM9InVzZXJTcGFjZU9uVXNlIiB4PSIxIiB5PSIzIiB3aWR0aD0iMTQiIGhlaWdodD0iNyI+CjxwYXRoIGQ9Ik04LjEyMjYyIDkuMDE3ODhMMTQuMTIyNiA0LjAwMjU0TDEuODM4NjIgMy43NTg1NEw4LjEyMjYyIDkuMDE3ODhaIiBmaWxsPSJ3aGl0ZSIvPgo8L21hc2s+CjxnIG1hc2s9InVybCgjbWFzazApIj4KPHJlY3Qgd2lkdGg9IjE2IiBoZWlnaHQ9IjE2IiB0cmFuc2Zvcm09InRyYW5zbGF0ZSgwIC0wLjAwMDEyMjA3KSIgZmlsbD0iI0JEMTBFMCIvPgo8cmVjdCB5PSItMC4wMDAxMjIwNyIgd2lkdGg9IjE2IiBoZWlnaHQ9IjE2IiBmaWxsPSIjNEFDOUZGIi8+CjwvZz4KPHBhdGggZmlsbC1ydWxlPSJldmVub2RkIiBjbGlwLXJ1bGU9ImV2ZW5vZGQiIGQ9Ik0xLjU2Njg5IDIuOTIzNzFMMS41Njk1MiAxMi45MjM3SDE0LjIzMjlMMTQuMjMzNiA3LjkyMjcyVjIuOTIzNzFIMS41NjY4OVpNMi44Nzk1NyA0LjIzNjk5SDEyLjkyMDlMNy44OTQ2NSA4LjQ0MDgxTDIuODc5NTcgNC4yMzY5OVpNMi44ODAyMyA1LjA4NjY4TDcuODk0NjUgOS4yOTcwN0wxMi45MjAyIDUuMDkzMjVWMTEuNjEwNEgyLjg4MTU0TDIuODgwMjMgNS4wODY2OFoiIGZpbGw9IiMyRDJEMkQiLz4KPC9zdmc+Cg==) !important}:root #footer .footerCta.greyBar{background-color:#faf9f8 !important;color:#2d2d2d;font-size:1.125rem}:root #footer #secondary_nav a{color:#2d2d2d !important}:root .body.janus .footerCta.greyBar{background-color:#faf9f8 !important}:root .invalid_location h2{padding-left:1rem}:root body.janus #alertemail{color:#2d2d2d !important;border:2px solid #d4d2d0 !important}:root body.janus #alertemail:active,:root body.janus #alertemail:focus{border-color:#1c56ac !important}:root #jobalerttext span{color:#da363e !important}:root #jobalerts.jaui .member{color:#2d2d2d}:root #popover-foreground .popover-heading-container{border-bottom:2px solid #d4d2d0}:root .popover-heading,:root .popover-small-locationtst,:root .popover-value-text{color:#2d2d2d}:root body.janus #popover-foreground .popover-small.caption{color:#767676 !important}:root .popover-value-img .icl-Icon.check>g>path{fill:#9c2f5f}:root body .gnav .gnav-PageLink.with-border.is-highlighted,:root body .gnav .gnav-PageLink.with-border.is-highlighted,:root body .gnav .gnav-PageLink.with-border:active,:root body .gnav .gnav-PageLink.with-border:active{border-bottom-color:#1c56ac !important}:root body .gnav .gnav-PageLink.with-border:hover,:root body .gnav .gnav-ProfileNavLinks-link.with-border:hover{border-bottom-color:#092c5d !important}:root body .gnav .gnav-PageLink-text{color:#2d2d2d !important}:root body .gnav .gnav-DesktopHeader{border-bottom:1px solid #faf9f8 !important}:root body .gnav .gnav-Separator.gnav-Separator--grey{border-color:#faf9f8;font-weight:100}:root body .gnav .gnav-PageLink.with-border{margin-bottom:-1px !important}:root body .gnav .gnav-LoggedOutAccountLink-text{color:#1c56ac}:root body .gnav .gnav-MobileHeader-links .gnav-LoggedOutAccountLink-text{color:#fff}html body.janus table .icl-Button--primary:focus:focus{box-shadow:inset 0 1px 0.25rem rgba(0,0,0,0.1),0 0 0 2px #fff,0 0 0 3px #1c56ac}html body.janus table .icl-Button--primary:focus:active{box-shadow:inset 0 1px 0.25rem rgba(0,0,0,0.1),0 0 0 2px #fff,0 0 0 3px #1c56ac}html body.janus table .icl-Button--primary:focus:hover:focus{outline:0;box-shadow:inset 0 1px 0.25rem rgba(0,0,0,0.1),0 0 0 2px #fff,0 0 0 3px #1c56ac}html body.janus table .icl-Button--primary:focus:hover:focus:active{box-shadow:none;outline:0}html body.janus table #jobsearch.jsf .inwrapBorder .input_submit:focus,html body.janus table .footerCta.greyBar [dir] .icl-Button.cta_button.blue:focus,html body.janus table .jaform div#jobalertmessage #alertsubmit:focus{box-shadow:inset 0 1px 0.25rem rgba(0,0,0,0.1),0 0 0 2px #fff,0 0 0 3px #1c56ac !important}html body.janus table #jobsearch.jsf .inwrapBorder .input_submit:active,html body.janus table .footerCta.greyBar [dir] .icl-Button.cta_button.blue:active,html body.janus table .jaform div#jobalertmessage #alertsubmit:active{box-shadow:inset 0 1px 0.25rem rgba(0,0,0,0.1),0 0 0 2px #fff,0 0 0 3px #1c56ac !important}html body.janus table #jobsearch.jsf .inwrapBorder .input_submit:hover:focus,html body.janus table .footerCta.greyBar [dir] .icl-Button.cta_button.blue:hover:focus,html body.janus table .jaform div#jobalertmessage #alertsubmit:hover:focus{outline:0 !important;box-shadow:inset 0 1px 0.25rem rgba(0,0,0,0.1),0 0 0 2px #fff,0 0 0 3px #1c56ac !important}html body.janus table #jobsearch.jsf .inwrapBorder .input_submit:hover:focus:active,html body.janus table .footerCta.greyBar [dir] .icl-Button.cta_button.blue:hover:focus:active,html body.janus table .jaform div#jobalertmessage #alertsubmit:hover:focus:active{box-shadow:none !important;outline:0 !important}html body.janus table #popover-foreground .cleanuptst-indeed-serp-button:active:focus,html body.janus table #popover-foreground .cleanuptst-indeed-serp-button:focus:focus{box-shadow:inset 0 1px 0.25rem rgba(0,0,0,0.1),0 0 0 2px #fff,0 0 0 3px #1c56ac !important}html body.janus table #popover-foreground .cleanuptst-indeed-serp-button:active:active,html body.janus table #popover-foreground .cleanuptst-indeed-serp-button:focus:active{box-shadow:inset 0 1px 0.25rem rgba(0,0,0,0.1),0 0 0 2px #fff,0 0 0 3px #1c56ac !important}html body.janus table #popover-foreground .cleanuptst-indeed-serp-button:active:hover:focus,html body.janus table #popover-foreground .cleanuptst-indeed-serp-button:focus:hover:focus{outline:0 !important;box-shadow:inset 0 1px 0.25rem rgba(0,0,0,0.1),0 0 0 2px #fff,0 0 0 3px #1c56ac !important}html body.janus table #popover-foreground .cleanuptst-indeed-serp-button:active:hover:focus:active,html body.janus table #popover-foreground .cleanuptst-indeed-serp-button:focus:hover:focus:active{box-shadow:none !important;outline:0 !important}html body.janus table #vjs-container .indeed-apply-button:focus,html body.janus table #vjs-container .state-picker-button:focus,html body.janus table #vjs-container .view-apply-button:focus{box-shadow:inset 0 1px 0.25rem rgba(0,0,0,0.1),0 0 0 2px #fff,0 0 0 3px #1c56ac !important}html body.janus table #vjs-container .indeed-apply-button:active,html body.janus table #vjs-container .state-picker-button:active,html body.janus table #vjs-container .view-apply-button:active{box-shadow:inset 0 1px 0.25rem rgba(0,0,0,0.1),0 0 0 2px #fff,0 0 0 3px #1c56ac !important}html body.janus table #vjs-container .indeed-apply-button:hover:focus,html body.janus table #vjs-container .state-picker-button:hover:focus,html body.janus table #vjs-container .view-apply-button:hover:focus{outline:0 !important;box-shadow:inset 0 1px 0.25rem rgba(0,0,0,0.1),0 0 0 2px #fff,0 0 0 3px #1c56ac !important}html body.janus table #vjs-container .indeed-apply-button:hover:focus:active,html body.janus table #vjs-container .state-picker-button:hover:focus:active,html body.janus table #vjs-container .view-apply-button:hover:focus:active{box-shadow:none !important;outline:0 !important}:root body.janus table #vjs-container button.state-picker-button:focus{box-shadow:inset 0 1px 0.25rem rgba(0,0,0,0.1),0 0 0 2px #fff,0 0 0 3px #1c56ac !important}:root body.janus table #vjs-container button.state-picker-button:active{box-shadow:inset 0 1px 0.25rem rgba(0,0,0,0.1),0 0 0 2px #fff,0 0 0 3px #1c56ac !important}:root body.janus table #vjs-container button.state-picker-button:hover:focus{outline:0 !important;box-shadow:inset 0 1px 0.25rem rgba(0,0,0,0.1),0 0 0 2px #fff,0 0 0 3px #1c56ac !important}:root body.janus table #vjs-container button.state-picker-button:hover:focus:active{box-shadow:none !important;outline:0 !important}html body #indeedApplyButtonContainer .icl-Button:focus,html body .icl-WhatWhere .icl-WhatWhere-buttonWrapper .icl-Button--whatWhere:focus{box-shadow:inset 0 1px 0.25rem rgba(0,0,0,0.1),0 0 0 2px #fff,0 0 0 3px #1c56ac}html body #indeedApplyButtonContainer .icl-Button:active,html body .icl-WhatWhere .icl-WhatWhere-buttonWrapper .icl-Button--whatWhere:active{box-shadow:inset 0 1px 0.25rem rgba(0,0,0,0.1),0 0 0 2px #fff,0 0 0 3px #1c56ac}html body #indeedApplyButtonContainer .icl-Button:hover:focus,html body .icl-WhatWhere .icl-WhatWhere-buttonWrapper .icl-Button--whatWhere:hover:focus{outline:0;box-shadow:inset 0 1px 0.25rem rgba(0,0,0,0.1),0 0 0 2px #fff,0 0 0 3px #1c56ac}html body #indeedApplyButtonContainer .icl-Button:hover:focus:active,html body .icl-WhatWhere .icl-WhatWhere-buttonWrapper .icl-Button--whatWhere:hover:focus:active{box-shadow:none;outline:0}html body #jobsearch-ViewJobButtons-container .icl-Button--primary:focus,html body #jobsearch-ViewJobButtons-container .icl-Button--secondary:focus{box-shadow:inset 0 1px 0.25rem rgba(0,0,0,0.1),0 0 0 2px #fff,0 0 0 3px #1c56ac !important}html body #jobsearch-ViewJobButtons-container .icl-Button--primary:active,html body #jobsearch-ViewJobButtons-container .icl-Button--secondary:active{box-shadow:inset 0 1px 0.25rem rgba(0,0,0,0.1),0 0 0 2px #fff,0 0 0 3px #1c56ac !important}html body #jobsearch-ViewJobButtons-container .icl-Button--primary:hover:focus,html body #jobsearch-ViewJobButtons-container .icl-Button--secondary:hover:focus{outline:0 !important;box-shadow:inset 0 1px 0.25rem rgba(0,0,0,0.1),0 0 0 2px #fff,0 0 0 3px #1c56ac !important}html body #jobsearch-ViewJobButtons-container .icl-Button--primary:hover:focus:active,html body #jobsearch-ViewJobButtons-container .icl-Button--secondary:hover:focus:active{box-shadow:none !important;outline:0 !important}html body #companyFollowForm .icl-Button:focus,html body .jobsearch-ViewJobLayout-rightRail .icl-Button--secondary:focus:focus{box-shadow:inset 0 1px 0.25rem rgba(0,0,0,0.1),0 0 0 2px #fff,0 0 0 3px #1c56ac !important}html body #companyFollowForm .icl-Button:active,html body .jobsearch-ViewJobLayout-rightRail .icl-Button--secondary:focus:active{box-shadow:inset 0 1px 0.25rem rgba(0,0,0,0.1),0 0 0 2px #fff,0 0 0 3px #1c56ac !important}html body #companyFollowForm .icl-Button:hover:focus,html body .jobsearch-ViewJobLayout-rightRail .icl-Button--secondary:focus:hover:focus{outline:0 !important;box-shadow:inset 0 1px 0.25rem rgba(0,0,0,0.1),0 0 0 2px #fff,0 0 0 3px #1c56ac !important}html body #companyFollowForm .icl-Button:hover:focus:active,html body .jobsearch-ViewJobLayout-rightRail .icl-Button--secondary:focus:hover:focus:active{box-shadow:none !important;outline:0 !important}html body .jobsearch-Footer .icl-Button--primary:focus:focus{box-shadow:inset 0 1px 0.25rem rgba(0,0,0,0.1),0 0 0 2px #fff,0 0 0 3px #1c56ac}html body .jobsearch-Footer .icl-Button--primary:focus:active{box-shadow:inset 0 1px 0.25rem rgba(0,0,0,0.1),0 0 0 2px #fff,0 0 0 3px #1c56ac}html body .jobsearch-Footer .icl-Button--primary:focus:hover:focus{outline:0;box-shadow:inset 0 1px 0.25rem rgba(0,0,0,0.1),0 0 0 2px #fff,0 0 0 3px #1c56ac}html body .jobsearch-Footer .icl-Button--primary:focus:hover:focus:active{box-shadow:none;outline:0}html body.janus table .jaform #alertemail:active,html body.janus table .jaform #alertemail:focus{border:1px solid #1c56ac !important}html body.janus table #jobsearch .inwrap #what.input_text:active,html body.janus table #jobsearch .inwrap #what.input_text:focus,html body.janus table #jobsearch .inwrap #where.input_text:active,html body.janus table #jobsearch .inwrap #where.input_text:focus{border:1px solid #1c56ac !important}html body.janus table #jobsearch .inwrap .ac-input-focused.ac-renderer-open #what.input_text,html body.janus table #jobsearch .inwrap .ac-input-focused.ac-renderer-open #where.input_text{border-color:#1c56ac}html body.janus #radius_update #distance_selector:active,html body.janus #radius_update #distance_selector:focus{border-color:#1c56ac}:root body.janus #acdiv.acd ul,:root body.janus #acdiv_where_alert.acd ul,:root body.janus #what_acdiv.acd ul{border-color:#1c56ac !important}:root body.janus .ac-renderer-open #acdiv.acd ul,:root body.janus .ac-renderer-open #acdiv_where_alert.acd ul,:root body.janus .ac-renderer-open #what_acdiv.acd ul{border-top-color:#d6d6d6 !important}body .popover-location-margin .ac-input-focused.ac-renderer-open #popover-location{border-color:#1c56ac !important}:root .filters a span.rbLabel{color:#2d2d2d !important}.filters .toggle a{text-decoration:none}.toggle button[id^=\"toggle\"]{outline:0}.toggle button[id^=\"toggle\"]:focus{box-shadow:inset 0 1px 0.25rem rgba(0,0,0,0.1),0 0 0 2px #fff,0 0 0 3px #1c56ac !important}.toggle button[id^=\"toggle\"]:active{box-shadow:inset 0 1px 0.25rem rgba(0,0,0,0.1),0 0 0 2px #fff,0 0 0 3px #1c56ac !important}.toggle button[id^=\"toggle\"]:hover:focus{outline:0 !important;box-shadow:inset 0 1px 0.25rem rgba(0,0,0,0.1),0 0 0 2px #fff,0 0 0 3px #1c56ac !important}.toggle button[id^=\"toggle\"]:hover:focus:active{box-shadow:none !important;outline:0 !important}.toggle button[id^=\"toggle\"].blue:active,.toggle button[id^=\"toggle\"].blue:focus,.toggle button[id^=\"toggle\"].blue:hover{background:#dbdee3;border-color:#2c55a6}body #toggle-new{border-left-color:#2c55a6}body .filters .dropdown-button.dd-target{border-color:#d4d2d0}body .filters .dropdown-button.dd-target:focus{box-shadow:inset 0 1px 0.25rem rgba(0,0,0,0.1),0 0 0 2px #fff,0 0 0 3px #1c56ac !important}body .filters .dropdown-button.dd-target:active{box-shadow:inset 0 1px 0.25rem rgba(0,0,0,0.1),0 0 0 2px #fff,0 0 0 3px #1c56ac !important}body .filters .dropdown-button.dd-target:hover:focus{outline:0 !important;box-shadow:inset 0 1px 0.25rem rgba(0,0,0,0.1),0 0 0 2px #fff,0 0 0 3px #1c56ac !important}body .filters .dropdown-button.dd-target:hover:focus:active{box-shadow:none !important;outline:0 !important}body .filters .dropdown-button.dd-target:not(.blue):hover{border:0;padding-left:18px;padding-right:14px}body .filters .dropdown-button.dd-target.dd-active{border-color:#ececec;background:#ececec}body .filters .dropdown-button.dd-target.dd-active:active,body .filters .dropdown-button.dd-target.dd-active:focus,body .filters .dropdown-button.dd-target.dd-active:hover{background:#ececec;border:none;padding-left:18px;padding-right:14px}body .filters .dropdown-button.dd-target.blue:hover{background:#dbdee3;border:2px solid #2c55a6}body .filters .dropdown-button.dd-target.blue.dd-active{border-color:#2c55a6;background:#dbdee3}body .filters .dropdown-button.dd-target.blue.dd-active:active,body .filters .dropdown-button.dd-target.blue.dd-active:focus,body .filters .dropdown-button.dd-target.blue.dd-active:hover{background:#edf1f8;border:2px solid #2c55a6;padding-left:16px;padding-right:12px}body .filters .dropdown-button.dd-target.blue.dd-active .arrow-drop-down path{fill:#2c55a6}body .filters .dd-target.blue,body .toggle button.blue{background:#edf1f8;border:2px solid #1c56ac;color:#1c56ac}body .filters .dd-target.blue .arrow-drop-down path,body .toggle button.blue .arrow-drop-down path{fill:#1c56ac}body .filters .dropdown-content .dd-menu-option:hover{background-color:#edf1f8 !important}body .filters .dropdown-content.dd-menu{margin-top:47px}.dropdown-button .filters-close img{display:none}.dropdown-button .filters-close:before{content:'';display:inline-block;background-image:url(\"data:image/svg+xml,%3Csvg xmlns='http://www.w3.org/2000/svg' width='16' height='16' fill='none'%3E%3Cmask id='a' maskUnits='userSpaceOnUse' x='3' y='3' width='10' height='10'%3E%3Cpath d='M13 3.958L12.042 3 8 7.042 3.958 3 3 3.958 7.042 8 3 12.042l.958.958L8 8.958 12.042 13l.958-.958L8.958 8 13 3.958z' fill='%23fff'/%3E%3C/mask%3E%3Cg mask='url(%23a)'%3E%3Cpath d='M16 0H0v16h16V0z' fill='%231c56ac'/%3E%3C/g%3E%3C/svg%3E\");width:16px;height:16px;vertical-align:bottom}html body.janus .serp-ResponsiveEmployer div.serp-ResponsiveEmployer-icon::before,html body.janus .serpvj-ResponsiveEmployer div.serpvj-ResponsiveEmployer-icon::before{background-image:url(\"data:image/svg+xml,%3Csvg width='20' height='20' viewBox='0 0 20 20' fill='none' xmlns='http://www.w3.org/2000/svg'%3E%3Crect width='20' height='20' rx='10' fill='%234691a3'/%3E%3Cpath fill-rule='evenodd' clip-rule='evenodd' d='M8.39949 4L6 11.1116H9.80019L8.80031 16L15 8.22149H10.9994L12.9992 4H8.39949Z' fill='white'/%3E%3C/svg%3E%0A\")}html div.serp-earlyApplyMessage-icon::before,html div.serpvj-earlyApplyMessage-icon::before{background-image:url(\"data:image/svg+xml,%3Csvg width='20' height='20' fill='none' xmlns='http://www.w3.org/2000/svg'%3E%3Crect width='20' height='20' rx='10' fill='%23774EBE'/%3E%3Cpath fill-rule='evenodd' clip-rule='evenodd' d='M6.5 5v2.777h.005l-.005.006L8.88 10 6.5 12.223l.005.005H6.5V15h7.143v-2.772h-.006l.006-.005L11.26 10l2.382-2.217-.006-.006h.006V5H6.5zm1.403 7.798l2.175-2.028 2.16 2.028v.938H7.904v-.938z' fill='%23fff'/%3E%3C/svg%3E\")}html .jobsearch-EmployerResponsive-icon::before{background-image:url(\"data:image/svg+xml,%3Csvg width='20' height='20' viewBox='0 0 20 20' fill='none' xmlns='http://www.w3.org/2000/svg'%3E%3Crect width='20' height='20' rx='10' fill='%234691a3'/%3E%3Cpath fill-rule='evenodd' clip-rule='evenodd' d='M8.39949 4L6 11.1116H9.80019L8.80031 16L15 8.22149H10.9994L12.9992 4H8.39949Z' fill='white'/%3E%3C/svg%3E%0A\")}:root body.janus table #auxCol div #alertsubmit:hover,:root body.janus table #auxCol div #balertsubmit:hover,:root body.janus table #auxCol div #talertsubmit:hover{color:#092c5d !important}:root body.janus table #auxCol div #alertsubmit:active,:root body.janus table #auxCol div #alertsubmit:focus,:root body.janus table #auxCol div #balertsubmit:active,:root body.janus table #auxCol div #balertsubmit:focus,:root body.janus table #auxCol div #talertsubmit:active,:root body.janus table #auxCol div #talertsubmit:focus{border-color:#1c56ac !important}:root body.janus .embedded-labels-what-where-test #what_container.ac-input-focused,:root body.janus .embedded-labels-what-where-test #where_container.ac-input-focused{border:1px solid #1c56ac !important}:root body.janus .embedded-labels-what-where-test #acdiv.acd ul#acdiv_list,:root body.janus .embedded-labels-what-where-test #what_acdiv.acd ul#what_acdiv_list{border:1px solid #1c56ac !important}:root body.janus .embedded-labels-what-where-test #what_container.ac-renderer-open,:root body.janus .embedded-labels-what-where-test #where_container.ac-renderer-open{border:1px solid #1c56ac}:root .jobsearch-ViewJobLayout .icl-Card-headline--hasBorder,:root .jobsearch-ViewJobLayout .jobsearch-Footer,:root .jobsearch-ViewJobLayout .jobsearch-StickyContainerDivider-line{border-color:#f3f2f1}:root .jobsearch-ViewJobLayout .npb{color:#1c56ac}:root .jobsearch-ViewJobLayout .icl-WhatWhere-advSearchWrapper .icl-WhatWhere-advSearchLink,:root .jobsearch-ViewJobLayout .jobsearch-CompanyAvatar-cta{color:#767676 !important}:root .jobsearch-ViewJobLayout .icl-Ratings-count,:root .jobsearch-ViewJobLayout .icl-WhatWhere--sm .icl-TextInput-label--whatWhere,:root .jobsearch-ViewJobLayout .jobsearch-EmployerResponsive-description,:root .jobsearch-ViewJobLayout .jobsearch-JobInfoHeader-title{color:#2d2d2d !important}:root .jobsearch-ViewJobLayout .jobsearch-ViewJobLayout-rowSpacingLine{background-color:#faf9f8}:root .jobsearch-ViewJobLayout .icl-Card-headline{border-top:none;color:#2d2d2d}:root .jobsearch-ViewJobLayout .iclcom-ResumePromoCard-subtitle,:root .jobsearch-ViewJobLayout .jobsearch-CompanyAvatar-description{color:#767676}:root .jobsearch-ViewJobLayout .iclcom-ResumeSimpleFooter{background-color:#faf9f8}:root .jobsearch-ViewJobLayout .iclcom-ResumeSimpleFooter .icl-Heading3{color:#2d2d2d}:root .jobsearch-ViewJobLayout #gnav-footer-container{color:#2d2d2d;font-size:0.6875rem !important}:root .jobsearch-ViewJobLayout #gnav-footer-container .icl-GlobalFooter-link{color:#2d2d2d !important;font-size:0.6875rem !important;text-decoration:none}:root .jobsearch-ViewJobLayout .icl-u-textColor--error{color:#da363e !important}:root body.janus{background-color:#faf9f8}:root body.janus #jobsearch .sl{color:#767676 !important}:root body.janus #jobsearch .inwrap #what.input_text,:root body.janus #jobsearch .inwrap #where.input_text{color:#2d2d2d !important}:root body.janus #jobsearch .inwrap #what.input_text:active,:root body.janus #jobsearch .inwrap #what.input_text:focus,:root body.janus #jobsearch .inwrap #where.input_text:active,:root body.janus #jobsearch .inwrap #where.input_text:focus{border-color:#1c56ac !important}:root body.janus #jobsearch #what_label_top,:root body.janus #jobsearch #where_label_top{color:#2d2d2d !important}:root body.janus #jobsearch #what_label,:root body.janus #jobsearch #where_label{color:#767676 !important}:root body.janus table[role='banner']{border-color:#faf9f8}:root body.janus .jsf #acdiv.acd ul,:root body.janus .jsf #acdiv_where_alert.acd ul,:root body.janus .jsf #what_acdiv.acd ul{border:1px solid #1c56ac !important;color:#2d2d2d}:root body.janus li.ac-active{background-color:#edf1f8 !important;color:#2d2d2d !important}:root body.janus #acdiv.acd li.ac-active:active,:root body.janus #acdiv.acd li.ac-active:hover,:root body.janus #acdiv_where_alert.acd li.ac-active:active,:root body.janus #acdiv_where_alert.acd li.ac-active:hover,:root body.janus #what_acdiv.acd li.ac-active:active,:root body.janus #what_acdiv.acd li.ac-active:hover{color:#2d2d2d !important}:root body.janus #acdiv.acd ul li.ac-active:hover,:root body.janus #what_acdic.acd ul li.ac-active:hover{color:#2d2d2d !important}:root body.janus .headerTipBubbleA11y{border-top:none}:root body.janus .headerTipBubble{color:#fff !important;background-color:#2d2d2d}:root body.janus .headerTipBubble:after{border-color:#2d2d2d transparent}:root body.janus #resultsBody #pageContent #resultsCol .row.vjs-highlight{background-color:unset;border:1px solid #1c56ac !important}:root body.janus #resultsBody #pageContent #resultsCol .row:hover a.jobtitle{text-decoration:underline}:root body.janus #resultsBody #pageContent #resultsCol .row .sjcl .ratingsDisplay .ratingNumber,:root body.janus #resultsBody #pageContent #resultsCol .row a.jobtitle{color:#2d2d2d !important;text-decoration:none}:root body.janus #resultsBody #pageContent #resultsCol .row.result{border-top-width:2px;border-color:#f3f2f1;border-left:none}:root body.janus #resultsBody #pageContent #resultsCol .row .summary{color:#767676 !important;line-height:20px !important}:root body.janus #resultsBody #pageContent #resultsCol .row .more_actions{background:#faf9f8}:root body.janus #resultsBody #pageContent #resultsCol .row .mat{color:#767676}:root body.janus #resultsBody #pageContent #resultsCol .row .holisticSalary .salary{background-color:unset;padding:0}:root body.janus .result .company a{color:#2d2d2d !important;font-weight:500}:root body.janus #pageContent #resultsBody #resultsCol .row .slNoUnderline{font-size:0.75rem !important}:root body.janus #resultsBody #pageContent #resultsCol .result .result-link-bar-container .result-link-bar .save-job-link{color:#1c56ac !important}:root body.janus .cmp-cta,:root body.janus .iaLabel,:root body.janus .jobCardShelfItem .iaLabel .row .iaP .iaLabel,:root body.janus .row .new,:root body.janus .rsList .nji,:root body.janus .rsi .nji{color:#9c2f5f !important}:root body.janus #searchCountPages,:root body.janus #vjs-footer #indeedApplyAdaContainer,:root body.janus .currentSearchLabel-a11y-contrast-color,:root body.janus .result .more-link,:root body.janus .result-link-bar .date,:root body.janus .result-link-bar a[href*='/myjobs?from=serp'],:root body.janus .result-link-bar-container .sl,:root body.janus .row .myjobs-serp-link,:root body.janus .row .result-link-source,:root body.janus .row .sdn,:root body.janus .row .sponsoredGray{color:#767676 !important}:root body.janus #resultsBody #pageContent #resultsCol .row.unifiedRow{color:unset !important}:root body.janus #resultsBody #pageContent #resultsCol .row.unifiedRow>.title{color:transparent}:root body.janus #resultsCol .pagination a .pn{color:#1c56ac !important}:root body.janus #resultsCol .pagination b{color:#2d2d2d}:root body.janus .serp-helpIcon svg path{fill:#767676}:root body.janus .close-link.closeLink{background-image:url(data:image/svg+xml;base64,PHN2ZyB3aWR0aD0iMTQiIGhlaWdodD0iMTQiIHZpZXdCb3g9IjAgMCAxNCAxNCIgZmlsbD0ibm9uZSIgeG1sbnM9Imh0dHA6Ly93d3cudzMub3JnLzIwMDAvc3ZnIj4KPHBhdGggZmlsbC1ydWxlPSJldmVub2RkIiBjbGlwLXJ1bGU9ImV2ZW5vZGQiIGQ9Ik0xNCAxLjQxTDEyLjU5IDBMNyA1LjU5TDEuNDEgMEwwIDEuNDFMNS41OSA3TDAgMTIuNTlMMS40MSAxNEw3IDguNDFMMTIuNTkgMTRMMTQgMTIuNTlMOC40MSA3TDE0IDEuNDFaIiBmaWxsPSIjNzY3Njc2Ii8+Cjwvc3ZnPg==)}:root body.janus .relatedQuerySpacing ~ div>span{color:#1c56ac !important}:root body.janus #auxCol #recentsearches .rsh,:root body.janus #auxCol .ja_rec_confirm_ui_tst,:root body.janus #femp_list .femp_header,:root body.janus #jobalerts .jobalertlabel,:root body.janus #pageContent .relatedQuerySpacing .grayText,:root body.janus #resultsCol #primePromo,:root body.janus #resultsCol #resumePromo,:root body.janus #resultsCol .dupetext,:root body.janus #tjobalerts .jobalertlabel,:root body.janus #univsrch-salary-v3 #univsrch-salary-title,:root body.janus .ITABrandInlineUnit-cmpName,:root body.janus .cmp-rvw-cnt,:root body.janus .company,:root body.janus .footerCta.greyBar,:root body.janus .gaj_heading,:root body.janus .icl-Heading1,:root body.janus .messageContainer .message,:root body.janus .more_actions,:root body.janus .relatedQuerySpacing ~ div,:root body.janus .salaryText,:root body.janus .ws_content{color:#2d2d2d !important}:root body.janus .jobAlertFormLabel-a11y-contrast-color,:root body.janus .rbList li a .rbCount{color:#767676 !important}:root body.janus #refineresults #activefilters{border-color:#9c2f5f}:root body.janus #refineresultscol{border-right-color:#faf9f8}:root body.janus #refineresultscol .more_link span:before{background-image:url(data:image/svg+xml;base64,PHN2ZyB3aWR0aD0iMjAiIGhlaWdodD0iMjAiIHZpZXdCb3g9IjAgMCAyMCAyMCIgZmlsbD0ibm9uZSIgeG1sbnM9Imh0dHA6Ly93d3cudzMub3JnLzIwMDAvc3ZnIj4KPHBhdGggZD0iTTE5IDEwQzE5IDE0Ljk3MDYgMTQuOTcwNiAxOSAxMCAxOUM1LjAyOTQ0IDE5IDEgMTQuOTcwNiAxIDEwQzEgNS4wMjk0NCA1LjAyOTQ0IDEgMTAgMUMxNC45NzA2IDEgMTkgNS4wMjk0NCAxOSAxMFoiIHN0cm9rZT0iI0YzRjJGMSIgc3Ryb2tlLXdpZHRoPSIyIi8+CjxwYXRoIGZpbGwtcnVsZT0iZXZlbm9kZCIgY2xpcC1ydWxlPSJldmVub2RkIiBkPSJNOSA1VjlINVYxMUg5VjE1SDExLjAwMVYxMUgxNVY5SDExLjAwMVY1SDlaIiBmaWxsPSIjMTg1MEExIi8+Cjwvc3ZnPgo=)}:root body.janus table #refineresultscol .rbSection .more_link span{color:#1c56ac !important}:root body.janus table #refineresultscol .rbSection .more_link span:after{background-image:url(\"data:image/svg+xml,%3Csvg width='10' height='6' fill='none' xmlns='http://www.w3.org/2000/svg'%3E%3Cpath d='M8.44.44L5 3.88 1.56.44.5 1.5 5 6l4.5-4.5L8.44.44z' fill='%231c56ac'/%3E%3C/svg%3E\")}:root body.janus table #refineresultscol .rbSection .more_link span:hover{border-color:#1c56ac}:root body.janus #auxCol #femp_list{border-top:none}:root body.janus #auxCol #femp_list .femp_header{color:#2d2d2d !important;font-weight:bold}:root body.janus #auxCol #femp_list .femp_item a.jobtitle,:root body.janus #auxCol #femp_list body.janus #auxCol #recentsearches .rsList a .femp_item a{color:#1c56ac !important;font-weight:unset}:root body.janus #auxCol #femp_list .femp_desc{color:#767676}:root body.janus #recentsearches .rsh,:root body.janus .jobalerts_title{font-weight:bold !important}:root body.janus #auxCol #recentsearches .rsList a,:root body.janus #jobalerts #jobalertmessage a{color:#1c56ac !important}:root body.janus #auxCol .ja_rec_confirm_ui_tst{border-top:none !important}:root body.janus #auxCol #recentsearches .rsh,:root body.janus #auxCol .ja_rec_confirm_ui_tst,:root body.janus #femp_list .femp_header,:root body.janus #jobalerts .jobalertlabel,:root body.janus #tjobalerts .jobalertlabel,:root body.janus #univsrch-salary-v3 #univsrch-salary-title{border-color:#faf9f8}:root body.janus table #auxCol div#femp_list,:root body.janus table #auxCol div#picard-profile-completeness-widget,:root body.janus table #auxCol div#recentsearches,:root body.janus table #univsrch-salary-v3 div#univsrch-salary-info,:root body.janus table .cmp_display div.cmp_info,:root body.janus table .rezcta_display div.rezcta_info,:root body.janus table div#jobalertswrapper,:root body.janus table div.rightRail{box-shadow:none}:root body.janus #auxCol{padding-left:1rem !important;padding-top:1rem !important}:root body.janus #auxCol #alertsubmit{border-color:#d4d2d0 !important;color:#1c56ac !important;transition:background-color 180ms ease-out,border-color 180ms ease-out}:root body.janus #auxCol #alertsubmit:active,:root body.janus #auxCol #alertsubmit:focus,:root body.janus #auxCol #alertsubmit:hover{background-color:unset !important}:root body.janus #auxCol #alertsubmit:active,:root body.janus #auxCol #alertsubmit:hover{border-color:#949494 !important;color:#092c5d !important}:root body.janus #auxCol #alertsubmit:focus{box-shadow:inset 0 1px 0.25rem rgba(0,0,0,0.1),0 0 0 2px #fff,0 0 0 3px #1c56ac}:root body.janus #vjs-container{margin-left:-0.5rem !important;margin-top:1rem !important}:root body.janus #vjs-container #vjs-header{border-top:none;border-bottom-color:#f3f2f1}:root body.janus #vjs-container #vjs-desc,:root body.janus #vjs-container #vjs-jobinfo,:root body.janus #vjs-container #vjs-jobtitle,:root body.janus #vjs-container .serpvj-earlyApplyMessage-text{color:#2d2d2d}:root body.janus #vjs-container #apply-button-container .indeed-apply-button{background-color:#1c56ac !important;border-color:#1c56ac !important;transition:background-color 200ms ease-out,border-color 200ms ease-out}:root body.janus #vjs-container #apply-button-container .indeed-apply-button:hover{background-color:#092c5d !important;border-color:#092c5d !important}:root body.janus #vjs-container #apply-button-container .indeed-apply-button:active{background-color:#092c5d !important;color:#fff !important;border-color:#092c5d !important}:root body.janus #vjs-container #apply-button-container .indeed-apply-button:focus{background-color:#1c56ac !important;box-shadow:inset 0 1px 0.25rem rgba(0,0,0,0.1),0 0 0 2px #fff,0 0 0 3px #1c56ac;border-color:#1c56ac !important}:root body.janus #vjs-container #apply-button-container .indeed-apply-button:focus svg.icl-Icon{fill:#1c56ac !important}:root body.janus #vjs-container #apply-button-container .indeed-apply-button:active .indeed-apply-button-label{opacity:1 !important}:root body.janus #vjs-container .view-apply-button{background-color:#1c56ac !important;border-color:#1c56ac !important;transition:background-color 200ms ease-out,border-color 200ms ease-out;padding:0.5rem 2.5rem !important}:root body.janus #vjs-container .view-apply-button:hover{background-color:#092c5d !important;border-color:#092c5d !important}:root body.janus #vjs-container .view-apply-button:active{background-color:#092c5d !important;color:#fff !important;border-color:#092c5d !important}:root body.janus #vjs-container .view-apply-button:focus{background-color:#1c56ac !important;box-shadow:inset 0 1px 0.25rem rgba(0,0,0,0.1),0 0 0 2px #fff,0 0 0 3px #1c56ac;border-color:#1c56ac !important}:root body.janus #vjs-container .view-apply-button:focus svg.icl-Icon{fill:#1c56ac !important}:root body.janus #vjs-container button.state-picker-button{border-color:#1c56ac !important;transition:background-color 200ms ease-out,border-color 200ms ease-out;color:#1c56ac !important}:root body.janus #vjs-container button.state-picker-button:hover{border-color:#092c5d !important}:root body.janus #vjs-container button.state-picker-button:active{background-color:#fff !important;border-color:#092c5d !important}:root body.janus #vjs-container button.state-picker-button:active svg.icl-Icon{fill:#092c5d !important}:root body.janus #vjs-container button.state-picker-button:focus{box-shadow:inset 0 1px 0.25rem rgba(0,0,0,0.1),0 0 0 2px #fff,0 0 0 3px #1c56ac;border-color:#1c56ac !important}:root body.janus #vjs-container button.state-picker-button:focus svg.icl-Icon{fill:#1c56ac !important}:root body.janus #vjs-container button.state-picker-button:active .state-picker-text{color:#092c5d !important}:root body.janus #vjs-container button.state-picker-button:hover .state-picker-text{color:#092c5d !important}:root body.janus #vjs-container button.state-picker-button:focus .state-picker-icon svg,:root body.janus #vjs-container button.state-picker-button:hover .state-picker-icon svg{fill:#092c5d}:root body.janus #vjs-container .date,:root body.janus #vjs-container .old-date,:root body.janus #vjs-container .sdn{color:#767676}:root body.janus #jobalerts,:root body.janus #recentsearches{border:none !important}:root body.janus body .vjs-expired{color:#da363e}.jobsearch-ViewJobLayout{border-top:none !important}.jobsearch-JobComponent-embeddedHeader:after{background-color:#faf9f8}body.janus #resultsBody #pageContent #resultsCol .result .jobCardShelfContainer .jobCardShelf .iaLabel.iaIconActive{color:#2d2d2d !important}body.janus #resultsBody #pageContent #resultsCol .result .jobCardShelfContainer .jobCardShelf .jobCardShelfItem svg rect{fill:#1c56ac}body.janus #resultsBody #pageContent #resultsCol .result .jobCardShelfContainer .jobCardShelf .jobCardShelfItem svg g g g[fill='#816BFF'] rect{fill:#774ebe}\n",
       "</style>\n",
       "<style>\n",
       "[dir] body .icl-Button,[dir] body .icl-Button--primary{border-radius:0.5rem}body #recentSearches .icl-NavigationList-action{border-radius:0.5rem}.jobsearch-PopularSearchesPillBoxes-pillBox{border-radius:0.5rem}body.janus form#jobsearch .inwrapBorder .input_submit{border-radius:0.5rem !important}body.janus table #alertsubmit,body.janus table #balertsubmit,body.janus table #talertsubmit{border-radius:0.5rem !important}body.janus table .footerCta.greyBar [dir] .icl-Button.cta_button.blue{border-radius:0.5rem !important}body.janus table #vjs-container .indeed-apply-button,body.janus table #vjs-container .indeed-apply-button-placeholder{border-radius:0.5rem !important}body.janus table #vjs-container .view-apply-button{border-radius:0.5rem !important}body.janus table #vjs-container .state-picker-button{border-radius:0.5rem}body.janus table #indeed_apply .state-picker-button.dd-target,body.janus table #state-picker-container .state-picker-button.dd-target{border-radius:0.5rem !important}body.janus table #popover-foreground .cleanuptst-indeed-serp-button{border-radius:0.5rem !important}body .filters .dropdown-button.dd-target{border-radius:0.5rem}.filters #toggle-new{border-radius:0 0.5rem 0.5rem 0}.filters #toggle-all{border-radius:0.5rem 0 0 0.5rem}[dir] .icl-WhatWhere .icl-TextInput-control{border-radius:0.5rem;border:1px solid #d6d6d6;color:#2d2d2d}[dir] .icl-WhatWhere .icl-TextInput-control:active,[dir] .icl-WhatWhere .icl-TextInput-control:focus{box-shadow:0 0.5rem 1rem rgba(0,0,0,0.08);border-color:#085ff7;outline:0}[dir] .icl-WhatWhere .icl-TextInput-control:-moz-placeholder,[dir] .icl-WhatWhere .icl-TextInput-control:-ms-input-placeholder,[dir] .icl-WhatWhere .icl-TextInput-control::-moz-placeholder,[dir] .icl-WhatWhere .icl-TextInput-control::-webkit-input-placeholder{color:#646464}[dir] .icl-WhatWhere .icl-Autocomplete-list{box-shadow:0 0.5rem 1rem rgba(0,0,0,0.08);border-radius:0 0 0.5rem 0.5rem;border:1px solid #085ff7;margin-top:0;border-top-color:#d6d6d6 !important}[dir] .icl-WhatWhere .icl-Autocomplete-option.has-focus,[dir] .icl-WhatWhere .icl-Autocomplete-option:hover{background-color:#eef4fe;cursor:pointer}[dir] .icl-WhatWhere .icl-Autocomplete-text,[dir] .icl-WhatWhere .icl-Autocomplete-text b,[dir] .icl-WhatWhere .icl-Autocomplete-text strong{color:#2d2d2d}[dir] .icl-WhatWhere .icl-Autocomplete.is-open .icl-TextInput-control{border-radius:0.5rem 0.5rem 0 0;border-color:#085ff7;margin-bottom:-1px}.jobsearch-Layout .icl-TextInput-control{min-height:44px}body.janus table #jobsearch .inwrap #what.input_text,body.janus table #jobsearch .inwrap #where.input_text{border-radius:0.5rem !important;border:1px solid #d6d6d6 !important;color:#2d2d2d !important;min-height:36px !important}body.janus table #jobsearch .inwrap #what.input_text:active,body.janus table #jobsearch .inwrap #what.input_text:focus,body.janus table #jobsearch .inwrap #where.input_text:active,body.janus table #jobsearch .inwrap #where.input_text:focus{box-shadow:0 0.5rem 1rem rgba(0,0,0,0.08);border-color:#085ff7 !important;outline:0}body.janus table #jobsearch .inwrap #what.input_text:-moz-placeholder,body.janus table #jobsearch .inwrap #what.input_text:-ms-input-placeholder,body.janus table #jobsearch .inwrap #what.input_text::-moz-placeholder,body.janus table #jobsearch .inwrap #what.input_text::-webkit-input-placeholder,body.janus table #jobsearch .inwrap #where.input_text:-moz-placeholder,body.janus table #jobsearch .inwrap #where.input_text:-ms-input-placeholder,body.janus table #jobsearch .inwrap #where.input_text::-moz-placeholder,body.janus table #jobsearch .inwrap #where.input_text::-webkit-input-placeholder{color:#646464 !important}#what_acdiv{max-width:300px}body.janus .jsf #what_acdiv.acd ul,body.janus .jsf [role=\"search\"] #acdiv ul,body.janus table #acdiv.acd ul,body.janus table #acdiv_where_alert.acd ul,body.janus table #what_acdiv.acd ul{box-shadow:0 0.5rem 1rem rgba(0,0,0,0.08);border-radius:0 0 0.5rem 0.5rem;border:1px solid #085ff7 !important;color:#2d2d2d;margin-top:0}body.janus li.ac-active{background-color:#eef4fe !important;color:#2d2d2d !important;cursor:pointer}#jobsearch [role=\"search\"] .ac-input-focused.ac-renderer-open #what.input_text,#jobsearch [role=\"search\"] .ac-input-focused.ac-renderer-open #where.input_text{border-radius:0.5rem 0.5rem 0 0 !important;border-color:#085ff7 !important;margin-bottom:-1px}.popover-location-margin .ac-input-focused.ac-renderer-open #popover-location{border-radius:0.5rem 0.5rem 0 0 !important;border-color:#085ff7 !important;margin-bottom:-1px}:root body.janus .jsf [role=\"search\"] #acdiv .ac-renderer,:root body.janus .jsf [role=\"search\"] #what_acdiv.acd .ac-renderer{border-top-color:#d6d6d6 !important}:root body.janus #acdiv.acd ul,:root body.janus #acdiv_where_alert.acd ul,:root body.janus #what_acdiv.acd ul{border-top-color:#d6d6d6 !important}body.janus table .jaform #alertemail,body.janus table .jaform #balertemail,body.janus table .jaform #talertemail{border-radius:0.5rem !important;border:1px solid #d6d6d6 !important;color:#2d2d2d !important}body.janus table .jaform #alertemail:active,body.janus table .jaform #alertemail:focus,body.janus table .jaform #balertemail:active,body.janus table .jaform #balertemail:focus,body.janus table .jaform #talertemail:active,body.janus table .jaform #talertemail:focus{box-shadow:0 0.5rem 1rem rgba(0,0,0,0.08);border-color:#085ff7 !important;outline:0}body.janus table .jaform #alertemail:-moz-placeholder,body.janus table .jaform #alertemail:-ms-input-placeholder,body.janus table .jaform #alertemail::-moz-placeholder,body.janus table .jaform #alertemail::-webkit-input-placeholder,body.janus table .jaform #balertemail:-moz-placeholder,body.janus table .jaform #balertemail:-ms-input-placeholder,body.janus table .jaform #balertemail::-moz-placeholder,body.janus table .jaform #balertemail::-webkit-input-placeholder,body.janus table .jaform #talertemail:-moz-placeholder,body.janus table .jaform #talertemail:-ms-input-placeholder,body.janus table .jaform #talertemail::-moz-placeholder,body.janus table .jaform #talertemail::-webkit-input-placeholder{color:#646464 !important}.popover-form-locationtst #popover-email{border-radius:0.5rem;border:1px solid #d6d6d6;color:#2d2d2d;padding:0.5rem 1rem}.popover-form-locationtst #popover-email:active,.popover-form-locationtst #popover-email:focus{box-shadow:0 0.5rem 1rem rgba(0,0,0,0.08);border-color:#085ff7;outline:0}.popover-form-locationtst #popover-email:-moz-placeholder,.popover-form-locationtst #popover-email:-ms-input-placeholder,.popover-form-locationtst #popover-email::-moz-placeholder,.popover-form-locationtst #popover-email::-webkit-input-placeholder{color:#646464}.popover-form-locationtst #popover-email[disabled],.popover-form-locationtst #popover-email[disabled]:active,.popover-form-locationtst #popover-email[disabled]:focus{border-color:#d6d6d6;color:#909090;box-shadow:none}.popover-form-locationtst #popover-location{border-radius:0.5rem;border:1px solid #d6d6d6;color:#2d2d2d;padding:0.5rem 1rem;min-height:42px}.popover-form-locationtst #popover-location:active,.popover-form-locationtst #popover-location:focus{box-shadow:0 0.5rem 1rem rgba(0,0,0,0.08);border-color:#085ff7;outline:0}.popover-form-locationtst #popover-location:-moz-placeholder,.popover-form-locationtst #popover-location:-ms-input-placeholder,.popover-form-locationtst #popover-location::-moz-placeholder,.popover-form-locationtst #popover-location::-webkit-input-placeholder{color:#646464}body.janus #radius_update #distance_selector{border-radius:0.5rem;border:1px solid #d6d6d6;color:#2d2d2d;-moz-appearance:none;-webkit-appearance:none;appearance:none;background-color:#ececec;background-image:url(\"data:image/svg+xml,%3Csvg width='10' height='5' fill='none' xmlns='http://www.w3.org/2000/svg'%3E%3Cpath d='M0 0l5 5 5-5H0z' fill='%232D2D2D'/%3E%3C/svg%3E\");background-repeat:no-repeat;background-position:right 1rem top 50%,0 0;color:#2d2d2d;cursor:pointer;padding:0.5rem 1.9rem 0.5rem 1rem;height:36px}body.janus #radius_update #distance_selector:active,body.janus #radius_update #distance_selector:focus{box-shadow:0 0.5rem 1rem rgba(0,0,0,0.08);border-color:#085ff7;outline:0}body.janus #radius_update #distance_selector:-moz-placeholder,body.janus #radius_update #distance_selector:-ms-input-placeholder,body.janus #radius_update #distance_selector::-moz-placeholder,body.janus #radius_update #distance_selector::-webkit-input-placeholder{color:#646464}body.janus #radius_update #distance_selector::-ms-expand{display:none}[dir] body .icl-Button--primary{background-color:#085ff7;border-color:transparent;color:#fff}[dir] body .icl-Button--primary:hover{background:#0750cf;border-color:transparent;box-shadow:inset 0 1px 0.25rem rgba(0,0,0,0.2);color:#fff;cursor:pointer}[dir] body .icl-Button--primary:focus{background:#0750cf;border-color:transparent;box-shadow:inset 0 1px 0.25rem rgba(0,0,0,0.2),0 0 0 2px #fff,0 0 0 3px #085ff7;color:#fff;outline:0}[dir] body .icl-Button--primary:active{background:#0648bc;border-color:transparent;box-shadow:inset 0 1px 0.25rem rgba(0,0,0,0.2);color:#fff}[dir] body .icl-Button--primary:hover:focus{outline:0;box-shadow:inset 0 1px 0.25rem rgba(0,0,0,0.2),0 0 0 2px #fff,0 0 0 3px #085ff7}[dir] body .icl-Button--primary:hover:focus:active{box-shadow:none;outline:0}[dir] body .icl-Button--secondary{background-color:#ececec !important;border-color:transparent !important;color:#2d2d2d !important;border:0 !important;padding:0.5rem 20px !important}[dir] body .icl-Button--secondary:hover{background:#e3e3e3 !important;border-color:transparent !important;box-shadow:inset 0 1px 0.25rem rgba(0,0,0,0.1) !important;color:#2d2d2d !important;cursor:pointer}[dir] body .icl-Button--secondary:focus{background:#e3e3e3 !important;border-color:transparent !important;box-shadow:inset 0 1px 0.25rem rgba(0,0,0,0.1),0 0 0 2px #fff,0 0 0 3px #085ff7 !important;color:#2d2d2d !important;outline:0 !important}[dir] body .icl-Button--secondary:active{background:#d9d9d9 !important;border-color:transparent !important;box-shadow:inset 0 1px 0.25rem rgba(0,0,0,0.1);color:#2d2d2d !important}[dir] body .icl-Button--secondary:hover:focus{outline:0 !important;box-shadow:inset 0 1px 0.25rem rgba(0,0,0,0.1),0 0 0 2px #fff,0 0 0 3px #085ff7 !important}[dir] body .icl-Button--secondary:hover:focus:active{box-shadow:none !important;outline:0 !important}body #recentSearches .icl-NavigationList-rightMostAction{font-weight:bold;padding:0.5rem;line-height:1 !important;color:#2d2d2d !important;background:#fff !important}body #recentSearches .icl-NavigationList-rightMostAction:hover{background:#e3e3e3 !important}body #recentSearches .icl-NavigationList-rightMostAction:focus{box-shadow:0 0 0 2px #fff,0 0 0 3px #085ff7}body #recentSearches .icl-NavigationList-rightMostAction:active{background:#d9d9d9 !important}@media (min-width: 62em){#recentSearches .icl-NavigationList-actionText{font-size:1rem}}.icl-NavigationList-actionText{font-size:1rem}html .jobsearch-PopularSearchesPillBoxes-pillBox{background-color:#ececec;border-color:transparent;color:#2d2d2d;min-height:48px;border:0;display:inline-flex;align-items:center}html .jobsearch-PopularSearchesPillBoxes-pillBox:hover{background:#e3e3e3;border-color:transparent;box-shadow:inset 0 1px 0.25rem rgba(0,0,0,0.1);color:#2d2d2d;cursor:pointer}html .jobsearch-PopularSearchesPillBoxes-pillBox:focus{background:#e3e3e3;border-color:transparent;box-shadow:inset 0 1px 0.25rem rgba(0,0,0,0.1),0 0 0 2px #fff,0 0 0 3px #085ff7;color:#2d2d2d;outline:0}html .jobsearch-PopularSearchesPillBoxes-pillBox:active{background:#d9d9d9;border-color:transparent;box-shadow:inset 0 1px 0.25rem rgba(0,0,0,0.1);color:#2d2d2d}html .jobsearch-PopularSearchesPillBoxes-pillBox:hover:focus{outline:0;box-shadow:inset 0 1px 0.25rem rgba(0,0,0,0.1),0 0 0 2px #fff,0 0 0 3px #085ff7}html .jobsearch-PopularSearchesPillBoxes-pillBox:hover:focus:active{box-shadow:none;outline:0}body.janus table #jobsearch.jsf .inwrapBorder .input_submit{background-color:#085ff7 !important;border-color:transparent !important;color:#fff !important}body.janus table #jobsearch.jsf .inwrapBorder .input_submit:hover{background:#0750cf !important;border-color:transparent !important;box-shadow:inset 0 1px 0.25rem rgba(0,0,0,0.2) !important;color:#fff !important;cursor:pointer}body.janus table #jobsearch.jsf .inwrapBorder .input_submit:focus{background:#0750cf !important;border-color:transparent !important;box-shadow:inset 0 1px 0.25rem rgba(0,0,0,0.2),0 0 0 2px #fff,0 0 0 3px #085ff7 !important;color:#fff !important;outline:0 !important}body.janus table #jobsearch.jsf .inwrapBorder .input_submit:active{background:#0648bc !important;border-color:transparent !important;box-shadow:inset 0 1px 0.25rem rgba(0,0,0,0.2);color:#fff !important}body.janus table #jobsearch.jsf .inwrapBorder .input_submit:hover:focus{outline:0 !important;box-shadow:inset 0 1px 0.25rem rgba(0,0,0,0.2),0 0 0 2px #fff,0 0 0 3px #085ff7 !important}body.janus table #jobsearch.jsf .inwrapBorder .input_submit:hover:focus:active{box-shadow:none !important;outline:0 !important}body.janus #jobalertmessage #balertsubmit,body.janus #jobalertmessage #talertsubmit,body.janus .rsList li a{color:#2164f3 !important;font-size:12px;padding-right:8px}body.janus table #vjs-container .state-picker-button{background-color:#ececec !important;border-color:transparent !important;color:#2d2d2d !important;min-width:44px;height:44px;border:0 !important}body.janus table #vjs-container .state-picker-button:hover{background:#e3e3e3 !important;border-color:transparent !important;box-shadow:inset 0 1px 0.25rem rgba(0,0,0,0.1) !important;color:#2d2d2d !important;cursor:pointer}body.janus table #vjs-container .state-picker-button:focus{background:#e3e3e3 !important;border-color:transparent !important;box-shadow:inset 0 1px 0.25rem rgba(0,0,0,0.1),0 0 0 2px #fff,0 0 0 3px #085ff7 !important;color:#2d2d2d !important;outline:0 !important}body.janus table #vjs-container .state-picker-button:active{background:#d9d9d9 !important;border-color:transparent !important;box-shadow:inset 0 1px 0.25rem rgba(0,0,0,0.1);color:#2d2d2d !important}body.janus table #vjs-container .state-picker-button:hover:focus{outline:0 !important;box-shadow:inset 0 1px 0.25rem rgba(0,0,0,0.1),0 0 0 2px #fff,0 0 0 3px #085ff7 !important}body.janus table #vjs-container .state-picker-button:hover:focus:active{box-shadow:none !important;outline:0 !important}body.janus table #vjs-container .state-picker-button svg.icl-Icon path{fill:#2d2d2d}.state-picker-button .dd-button-arrow{border-top:5px solid #2d2d2d}body.janus table #indeed_apply .state-picker-button.dd-target,body.janus table #state-picker-container .state-picker-button.dd-target{background-color:#ececec !important;border-color:transparent !important;color:#2d2d2d !important;height:44px;border:0 !important}body.janus table #indeed_apply .state-picker-button.dd-target:hover,body.janus table #state-picker-container .state-picker-button.dd-target:hover{background:#e3e3e3 !important;border-color:transparent !important;box-shadow:inset 0 1px 0.25rem rgba(0,0,0,0.1) !important;color:#2d2d2d !important;cursor:pointer}body.janus table #indeed_apply .state-picker-button.dd-target:focus,body.janus table #state-picker-container .state-picker-button.dd-target:focus{background:#e3e3e3 !important;border-color:transparent !important;box-shadow:inset 0 1px 0.25rem rgba(0,0,0,0.1),0 0 0 2px #fff,0 0 0 3px #085ff7 !important;color:#2d2d2d !important;outline:0 !important}body.janus table #indeed_apply .state-picker-button.dd-target:active,body.janus table #state-picker-container .state-picker-button.dd-target:active{background:#d9d9d9 !important;border-color:transparent !important;box-shadow:inset 0 1px 0.25rem rgba(0,0,0,0.1);color:#2d2d2d !important}body.janus table #indeed_apply .state-picker-button.dd-target:hover:focus,body.janus table #state-picker-container .state-picker-button.dd-target:hover:focus{outline:0 !important;box-shadow:inset 0 1px 0.25rem rgba(0,0,0,0.1),0 0 0 2px #fff,0 0 0 3px #085ff7 !important}body.janus table #indeed_apply .state-picker-button.dd-target:hover:focus:active,body.janus table #state-picker-container .state-picker-button.dd-target:hover:focus:active{box-shadow:none !important;outline:0 !important}body.janus table #indeed_apply .state-picker-button.dd-target.dd-active,body.janus table #state-picker-container .state-picker-button.dd-target.dd-active{background:#4b4b4b}body.janus table #indeed_apply .state-picker-button.dd-target.dd-active svg.icl-Icon path,body.janus table #state-picker-container .state-picker-button.dd-target.dd-active svg.icl-Icon path{fill:#fff}body.janus table #indeed_apply .state-picker-button.dd-target.dd-active .dd-button-arrow,body.janus table #state-picker-container .state-picker-button.dd-target.dd-active .dd-button-arrow{border-bottom-color:#fff}body.janus table #vjs-header #indeed_apply .state-picker-button.dd-target:focus,body.janus table #vjs-header #state-picker-container .state-picker-button.dd-target:focus{background:#4b4b4b !important}body.janus table #vjs-header #indeed_apply .state-picker-button.dd-target:focus svg.icl-Icon path,body.janus table #vjs-header #state-picker-container .state-picker-button.dd-target:focus svg.icl-Icon path{fill:#fff}body.janus table #vjs-header #indeed_apply .state-picker-button.dd-target:focus .dd-button-arrow,body.janus table #vjs-header #state-picker-container .state-picker-button.dd-target:focus .dd-button-arrow{border-top-color:#fff}body.janus #vjs-header #state-picker-container .dd-menu{border:1px solid #ececec;box-shadow:0 8px 16px rgba(0,0,0,0.08);border-radius:0.5rem;margin-top:8px}body.janus table #state-picker-container .dd-menu .dd-menu-option:not(:last-of-type){border-bottom:0}body.janus table #state-picker-container .dd-menu .dd-menu-option:hover{background-color:#ebf2fe !important}body.janus table #vjs-container .view-apply-button{background-color:#085ff7 !important;border-color:transparent !important;color:#fff !important}body.janus table #vjs-container .view-apply-button:hover{background:#0750cf !important;border-color:transparent !important;box-shadow:inset 0 1px 0.25rem rgba(0,0,0,0.2) !important;color:#fff !important;cursor:pointer}body.janus table #vjs-container .view-apply-button:focus{background:#0750cf !important;border-color:transparent !important;box-shadow:inset 0 1px 0.25rem rgba(0,0,0,0.2),0 0 0 2px #fff,0 0 0 3px #085ff7 !important;color:#fff !important;outline:0 !important}body.janus table #vjs-container .view-apply-button:active{background:#0648bc !important;border-color:transparent !important;box-shadow:inset 0 1px 0.25rem rgba(0,0,0,0.2);color:#fff !important}body.janus table #vjs-container .view-apply-button:hover:focus{outline:0 !important;box-shadow:inset 0 1px 0.25rem rgba(0,0,0,0.2),0 0 0 2px #fff,0 0 0 3px #085ff7 !important}body.janus table #vjs-container .view-apply-button:hover:focus:active{box-shadow:none !important;outline:0 !important}body.janus table #vjs-container .indeed-apply-button,body.janus table #vjs-container .indeed-apply-button-placeholder{background-color:#ff5a1f !important;border-color:transparent !important;color:#fff !important}body.janus table #vjs-container .indeed-apply-button-placeholder:hover,body.janus table #vjs-container .indeed-apply-button:hover{background:#d64c1a !important;border-color:transparent !important;box-shadow:inset 0 1px 0.25rem rgba(0,0,0,0.1) !important;color:#fff !important;cursor:pointer}body.janus table #vjs-container .indeed-apply-button-placeholder:focus,body.janus table #vjs-container .indeed-apply-button:focus{background:#d64c1a !important;border-color:transparent !important;box-shadow:inset 0 1px 0.25rem rgba(0,0,0,0.1),0 0 0 2px #fff,0 0 0 3px #085ff7 !important;color:#fff !important;outline:0 !important}body.janus table #vjs-container .indeed-apply-button-placeholder:active,body.janus table #vjs-container .indeed-apply-button:active{background:#cc4819 !important;border-color:transparent !important;box-shadow:inset 0 1px 0.25rem rgba(0,0,0,0.1);color:#fff !important}body.janus table #vjs-container .indeed-apply-button-placeholder:hover:focus,body.janus table #vjs-container .indeed-apply-button:hover:focus{outline:0 !important;box-shadow:inset 0 1px 0.25rem rgba(0,0,0,0.1),0 0 0 2px #fff,0 0 0 3px #085ff7 !important}body.janus table #vjs-container .indeed-apply-button-placeholder:hover:focus:active,body.janus table #vjs-container .indeed-apply-button:hover:focus:active{box-shadow:none !important;outline:0 !important}#vjs-container #apply-button-container .indeed-apply-button:active .indeed-apply-button-label,#vjs-container #apply-button-container .indeed-apply-state-clicked .indeed-apply-button-label{opacity:1 !important}body.janus table .footerCta.greyBar [dir] .icl-Button.cta_button.blue{background-color:#085ff7 !important;border-color:transparent !important;color:#fff !important}body.janus table .footerCta.greyBar [dir] .icl-Button.cta_button.blue:hover{background:#0750cf !important;border-color:transparent !important;box-shadow:inset 0 1px 0.25rem rgba(0,0,0,0.2) !important;color:#fff !important;cursor:pointer}body.janus table .footerCta.greyBar [dir] .icl-Button.cta_button.blue:focus{background:#0750cf !important;border-color:transparent !important;box-shadow:inset 0 1px 0.25rem rgba(0,0,0,0.2),0 0 0 2px #fff,0 0 0 3px #085ff7 !important;color:#fff !important;outline:0 !important}body.janus table .footerCta.greyBar [dir] .icl-Button.cta_button.blue:active{background:#0648bc !important;border-color:transparent !important;box-shadow:inset 0 1px 0.25rem rgba(0,0,0,0.2);color:#fff !important}body.janus table .footerCta.greyBar [dir] .icl-Button.cta_button.blue:hover:focus{outline:0 !important;box-shadow:inset 0 1px 0.25rem rgba(0,0,0,0.2),0 0 0 2px #fff,0 0 0 3px #085ff7 !important}body.janus table .footerCta.greyBar [dir] .icl-Button.cta_button.blue:hover:focus:active{box-shadow:none !important;outline:0 !important}.icl-WhatWhere .icl-WhatWhere-buttonWrapper .icl-Button--whatWhere{background-color:#085ff7;border-color:transparent;color:#fff}.icl-WhatWhere .icl-WhatWhere-buttonWrapper .icl-Button--whatWhere:hover{background:#0750cf;border-color:transparent;box-shadow:inset 0 1px 0.25rem rgba(0,0,0,0.2);color:#fff;cursor:pointer}.icl-WhatWhere .icl-WhatWhere-buttonWrapper .icl-Button--whatWhere:focus{background:#0750cf;border-color:transparent;box-shadow:inset 0 1px 0.25rem rgba(0,0,0,0.2),0 0 0 2px #fff,0 0 0 3px #085ff7;color:#fff;outline:0}.icl-WhatWhere .icl-WhatWhere-buttonWrapper .icl-Button--whatWhere:active{background:#0648bc;border-color:transparent;box-shadow:inset 0 1px 0.25rem rgba(0,0,0,0.2);color:#fff}.icl-WhatWhere .icl-WhatWhere-buttonWrapper .icl-Button--whatWhere:hover:focus{outline:0;box-shadow:inset 0 1px 0.25rem rgba(0,0,0,0.2),0 0 0 2px #fff,0 0 0 3px #085ff7}.icl-WhatWhere .icl-WhatWhere-buttonWrapper .icl-Button--whatWhere:hover:focus:active{box-shadow:none;outline:0}.jobsearch-ViewJobLayout-whatWhere .icl-WhatWhere .icl-TextInput-control{min-height:36px}#indeedApplyButtonContainer .icl-Button{background-color:#ff5a1f;border-color:transparent;color:#fff}#indeedApplyButtonContainer .icl-Button:hover{background:#d64c1a;border-color:transparent;box-shadow:inset 0 1px 0.25rem rgba(0,0,0,0.1);color:#fff;cursor:pointer}#indeedApplyButtonContainer .icl-Button:focus{background:#d64c1a;border-color:transparent;box-shadow:inset 0 1px 0.25rem rgba(0,0,0,0.1),0 0 0 2px #fff,0 0 0 3px #085ff7;color:#fff;outline:0}#indeedApplyButtonContainer .icl-Button:active{background:#cc4819;border-color:transparent;box-shadow:inset 0 1px 0.25rem rgba(0,0,0,0.1);color:#fff}#indeedApplyButtonContainer .icl-Button:hover:focus{outline:0;box-shadow:inset 0 1px 0.25rem rgba(0,0,0,0.1),0 0 0 2px #fff,0 0 0 3px #085ff7}#indeedApplyButtonContainer .icl-Button:hover:focus:active{box-shadow:none;outline:0}@media (max-width: 991px){#saveJobButtonContainer button{min-height:54px}}@media (min-width: 992px){#saveJobButtonContainer button{min-height:44px}}#companyFollowForm .icl-Button{background-color:#ececec !important;border-color:transparent !important;color:#2d2d2d !important;min-height:36px;border:0 !important}#companyFollowForm .icl-Button:hover{background:#e3e3e3 !important;border-color:transparent !important;box-shadow:inset 0 1px 0.25rem rgba(0,0,0,0.1) !important;color:#2d2d2d !important;cursor:pointer}#companyFollowForm .icl-Button:focus{background:#e3e3e3 !important;border-color:transparent !important;box-shadow:inset 0 1px 0.25rem rgba(0,0,0,0.1),0 0 0 2px #fff,0 0 0 3px #085ff7 !important;color:#2d2d2d !important;outline:0 !important}#companyFollowForm .icl-Button:active{background:#d9d9d9 !important;border-color:transparent !important;box-shadow:inset 0 1px 0.25rem rgba(0,0,0,0.1);color:#2d2d2d !important}#companyFollowForm .icl-Button:hover:focus{outline:0 !important;box-shadow:inset 0 1px 0.25rem rgba(0,0,0,0.1),0 0 0 2px #fff,0 0 0 3px #085ff7 !important}#companyFollowForm .icl-Button:hover:focus:active{box-shadow:none !important;outline:0 !important}.filters .toggle a{text-decoration:none}.filters #toggle-all,.filters #toggle-new{background-color:#ececec;border-color:transparent;color:#2d2d2d;outline:0}.filters #toggle-all:hover,.filters #toggle-new:hover{background:#e3e3e3;border-color:transparent;box-shadow:inset 0 1px 0.25rem rgba(0,0,0,0.1);color:#2d2d2d;cursor:pointer}.filters #toggle-all:focus,.filters #toggle-new:focus{background:#e3e3e3;border-color:transparent;box-shadow:inset 0 1px 0.25rem rgba(0,0,0,0.1),0 0 0 2px #fff,0 0 0 3px #085ff7;color:#2d2d2d;outline:0}.filters #toggle-all:active,.filters #toggle-new:active{background:#d9d9d9;border-color:transparent;box-shadow:inset 0 1px 0.25rem rgba(0,0,0,0.1);color:#2d2d2d}.filters #toggle-all:hover:focus,.filters #toggle-new:hover:focus{outline:0;box-shadow:inset 0 1px 0.25rem rgba(0,0,0,0.1),0 0 0 2px #fff,0 0 0 3px #085ff7}.filters #toggle-all:hover:focus:active,.filters #toggle-new:hover:focus:active{box-shadow:none;outline:0}.filters #toggle-all:not(.blue):active,.filters #toggle-all:not(.blue):focus,.filters #toggle-all:not(.blue):hover,.filters #toggle-new:not(.blue):active,.filters #toggle-new:not(.blue):focus,.filters #toggle-new:not(.blue):hover{background:#e3e3e3;border:none;padding:13px 20px}.filters #toggle-all.blue,.filters #toggle-new.blue{background:#646464;border-color:#646464;color:#fff}.filters #toggle-all.blue:active,.filters #toggle-all.blue:focus,.filters #toggle-all.blue:hover,.filters #toggle-new.blue:active,.filters #toggle-new.blue:focus,.filters #toggle-new.blue:hover{background:#3f3f3f;border-color:#3f3f3f;color:#fff}body #toggle-new{border-left-color:#646464}body .filters #toggle-all:not(.blue):active,body .filters #toggle-all:not(.blue):focus,body .filters #toggle-all:not(.blue):hover{padding-right:18px}body table .filters .dropdown-button.dd-target{background-color:#ececec;border-color:transparent;color:#2d2d2d}body table .filters .dropdown-button.dd-target:hover{background:#e3e3e3;border-color:transparent;box-shadow:inset 0 1px 0.25rem rgba(0,0,0,0.1);color:#2d2d2d;cursor:pointer}body table .filters .dropdown-button.dd-target:focus{background:#e3e3e3;border-color:transparent;box-shadow:inset 0 1px 0.25rem rgba(0,0,0,0.1),0 0 0 2px #fff,0 0 0 3px #085ff7;color:#2d2d2d;outline:0}body table .filters .dropdown-button.dd-target:active{background:#d9d9d9;border-color:transparent;box-shadow:inset 0 1px 0.25rem rgba(0,0,0,0.1);color:#2d2d2d}body table .filters .dropdown-button.dd-target:hover:focus{outline:0;box-shadow:inset 0 1px 0.25rem rgba(0,0,0,0.1),0 0 0 2px #fff,0 0 0 3px #085ff7}body table .filters .dropdown-button.dd-target:hover:focus:active{box-shadow:none;outline:0}body table .filters .dropdown-button.dd-target:focus,body table .filters .dropdown-button.dd-target:hover{border:0;padding-left:18px;padding-right:14px}body table .filters .dropdown-button.dd-target.dd-active:focus-within{background:#e3e3e3}body table .filters .dropdown-button.dd-target.blue:hover{background:#3f3f3f;border:2px solid #3f3f3f;color:#fff;padding-left:16px;padding-right:12px}body table .filters .dropdown-button.dd-target.blue.dd-active{border-color:#646464;background:#646464;color:#fff}body table .filters .dropdown-button.dd-target.blue.dd-active:active,body table .filters .dropdown-button.dd-target.blue.dd-active:focus,body table .filters .dropdown-button.dd-target.blue.dd-active:hover{background:#3f3f3f;border:2px solid #3f3f3f;color:#fff;padding-left:16px;padding-right:12px}body table .filters .dropdown-button.dd-target.blue.dd-active .arrow-drop-down path{fill:#fff}body table .filters .dropdown-button.dd-target .icl-Icon--blue{fill:#2d2d2d}body .toggle button.blue,body table .filters .dd-target.blue{background:#646464;border:2px solid #646464;color:#fff}body .toggle button.blue .arrow-drop-down path,body table .filters .dd-target.blue .arrow-drop-down path{fill:#fff}body .dropdown-button .filters-close img{display:none}body .dropdown-button .filters-close:before{content:'';display:inline-block;background-image:url(\"data:image/svg+xml,%3Csvg xmlns='http://www.w3.org/2000/svg' width='16' height='16' fill='none'%3E%3Cmask id='a' maskUnits='userSpaceOnUse' x='3' y='3' width='10' height='10'%3E%3Cpath d='M13 3.958L12.042 3 8 7.042 3.958 3 3 3.958 7.042 8 3 12.042l.958.958L8 8.958 12.042 13l.958-.958L8.958 8 13 3.958z' fill='%23fff'/%3E%3C/mask%3E%3Cg mask='url(%23a)'%3E%3Cpath d='M16 0H0v16h16V0z' fill='%23FFFFFF'/%3E%3C/g%3E%3C/svg%3E\");width:16px;height:16px;vertical-align:bottom}body .filters .dropdown-content .dd-menu-option:hover{background-color:#ecf2fd !important}:root body.janus #auxCol div #alertsubmit,:root body.janus #auxCol div #balertsubmit,:root body.janus #auxCol div #talertsubmit{border-width:1px !important;background-color:#fff !important;border-color:#d9d9d9 !important}:root body.janus #auxCol div #alertsubmit:hover,:root body.janus #auxCol div #balertsubmit:hover,:root body.janus #auxCol div #talertsubmit:hover{background:#f5f5f5 !important;border-color:#d9d9d9 !important;color:#085ff7 !important;cursor:pointer}:root body.janus #auxCol div #alertsubmit:focus,:root body.janus #auxCol div #balertsubmit:focus,:root body.janus #auxCol div #talertsubmit:focus{background:#fff !important;border-color:#085ff7 !important;box-shadow:none !important;outline:0 !important}:root body.janus #auxCol div #alertsubmit:active,:root body.janus #auxCol div #balertsubmit:active,:root body.janus #auxCol div #talertsubmit:active{background:#ebebeb !important;border-color:#085ff7 !important;box-shadow:inset 0 1px 0.25rem rgba(0,0,0,0.1)}body.janus .indeed-serp-button:active .indeed-serp-button-label{opacity:1 !important}html body.janus table #auxCol .jaform div#jobalertmessage #alertsubmit:active,html body.janus table #auxCol .jaform div#jobalertmessage #alertsubmit:focus{box-shadow:none !important}body.janus div #alertsubmit:hover,body.janus div #balertsubmit:hover,body.janus div #talertsubmit:hover{color:#085ff7}body #no-left-rail-spacer{background:0 0 !important}body.janus table #recentsearches.no-left-rail{border-top:1px solid #ececec !important}[dir] .gnav div.gnav-DesktopHeader.is-small-header{border-bottom:0 !important}body.janus table[role=banner]{border-bottom:1px solid #ececec;padding-bottom:1rem !important;padding-top:12px !important}body.janus td#branding-td{display:none}[dir=\"ltr\"] body.janus td#refineresultscol,[dir=\"ltr\"] body.janus td#resultsCol{border-right:0 solid}[dir=\"rtl\"] body.janus td#refineresultscol,[dir=\"rtl\"] body.janus td#resultsCol{border-left:0 solid}body.janus #resultsCol div#primePromo,body.janus #resultsCol div#resumePromo{padding-left:1.5rem !important}.secondRow h1#jobsInLocation{margin-left:1.5rem}body.janus #resultsCol .showing{margin-left:0.5rem}body.janus #refineresultscol div#refineresults{padding-top:12px}body.janus #resultsCol .related_searches,body.janus #resultsCol div.pagination{padding-left:1.5rem}body.janus #resultsCol div.pagination{border-bottom:0 !important}body.janus div#vjs-header{border-top-width:0;border-bottom-width:1px;border-color:#ececec}:root body.janus table #vjs-container #vjs-header{border-bottom-color:#ececec}body.janus div#vjs-content{padding-top:24px}div#vjs-desc{padding-top:0}div#vjs-container{border:1px solid #ececec !important;border-radius:8px;margin:0 0 8px}body.janus #resultsCol div.resultsTop{margin-top:12px}body.janus td#refineresultscol{padding-top:18px}html body.ltr.janus,html body.rtl.janus{background-color:#fff}body.janus #resultsCol .result.row{border:1px solid #ececec;border-radius:8px;margin:0 0 8px}:root body.janus table#resultsBody #pageContent #resultsCol .result.row{border:1px solid #ececec}:root body.janus table#resultsBody #pageContent #resultsCol .result.row.vjs-highlight{border-color:#085ff7}body.janus #resultsBody #pageContent #resultsCol div.result{padding:1.5rem !important}body.janus div#vjs-header.vjs-header-shadow{box-shadow:0 2px 4px rgba(0,0,0,0.08) !important}body.janus #resultsCol .row.result.vjs-highlight{background-color:#fff;box-shadow:0 8px 16px rgba(0,0,0,0.08) !important;border:1px solid #085ff7 !important}body.janus td#resultsCol .jobtitle a,body.janus td#resultsCol .vjs-highlight a.jobtitle{color:#4b4b4b}body.janus #resultsBody #pageContent #resultsCol .clickcard:hover{box-shadow:0 2px 4px rgba(0,0,0,0.08)}body.janus #resultsCol div.clickcard:hover .jobtitle a,body.janus #resultsCol div.clickcard:hover a.jobtitle{color:#2d2d2d}#resultsBody #pageContent #resultsCol .row.unifiedRow>.title{font-size:0;display:flex;flex-direction:column-reverse}body.janus #resultsBody #pageContent #resultsCol .row .title span.new{font-size:0.75rem !important;line-height:0.75rem !important;padding-left:0;padding-bottom:0.25rem;color:#085ff7;font-weight:500}#resultsBody #pageContent #resultsCol .row.unifiedRow>.jobcard_logo+.title{padding-top:1rem}.jobcard_logo a img{max-height:32px;max-width:100%;width:auto}body.janus td#resultsCol .jobtitle a,body.janus td#resultsCol a.jobtitle{color:#2d2d2d}body.janus .result span.company{color:#2d2d2d !important}body.janus #resultsBody #pageContent #resultsCol .result div.summary,body.janus .result div.summary{color:#6f6f6f !important}#resultsBody #pageContent #resultsCol .row.unifiedRow div.summary{padding-top:1rem}.serp-ResponsiveEmployer+.summary{padding-top:1rem !important}body.janus #resultsBody #pageContent #resultsCol .result .jobCardShelfContainer+div.summary{padding-top:0.75rem}.salarySnippet+.summary{padding-top:1.25rem !important}body.janus #resultsBody #pageContent #resultsCol .result table.jobCardShelfContainer+div.summary{padding-top:1rem}.row .sjcl .salarySnippet span.salary,.row .snip .salary,.row.unifiedRow .salarySnippet span.salary{color:#2d2d2d !important}#resultsBody #pageContent #resultsCol .row .salarySnippet,.salarySnippet{padding-top:1rem !important}#resultsBody #pageContent #resultsCol .row .sjcl+div.salarySnippet{margin-top:0}body.janus div.result .company a,body.janus div.result .turnstileLink .slNoUnderline{color:#2d2d2d !important}.jobCardShelfIcon svg{height:20px;width:20px}body.janus #resultsBody #pageContent #resultsCol .result .jobCardShelfContainer .jobCardShelf td.jobCardShelfItem{padding-bottom:3px}body.janus #resultsBody #pageContent #resultsCol .result .jobCardShelfContainer .jobCardShelf .jobCardShelfItem span.jobCardShelfIcon{padding-right:0.5rem;vertical-align:middle}[dir=rtl] body.janus #resultsBody #pageContent #resultsCol .result .jobCardShelfContainer .jobCardShelf .jobCardShelfItem span.jobCardShelfIcon{padding-left:0.5rem;padding-right:0}body.janus #resultsBody #pageContent #resultsCol .result table.jobCardShelfContainer{padding-top:1rem}:root body.janus #Rectangle-Copy-4{fill:#085ff7}div.serp-ResponsiveEmployer{padding-top:16px !important}[dir=rtl] body.janus .serp-ResponsiveEmployer div.serp-ResponsiveEmployer-icon,[dir=rtl] body.janus .serpvj-ResponsiveEmployer div.serpvj-ResponsiveEmployer-icon{margin-left:13px;margin-right:0}body.janus .serp-ResponsiveEmployer div.serp-ResponsiveEmployer-icon,body.janus .serpvj-ResponsiveEmployer div.serpvj-ResponsiveEmployer-icon{margin-right:13px;margin-top:-4px}body.janus .serp-ResponsiveEmployer div.serp-ResponsiveEmployer-icon svg,body.janus .serpvj-ResponsiveEmployer div.serpvj-ResponsiveEmployer-icon svg{display:none}body.janus .serp-ResponsiveEmployer div.serp-ResponsiveEmployer-icon::before,body.janus .serpvj-ResponsiveEmployer div.serpvj-ResponsiveEmployer-icon::before{background-image:url(\"data:image/svg+xml,%3Csvg width='20' height='20' viewBox='0 0 20 20' fill='none' xmlns='http://www.w3.org/2000/svg'%3E%3Crect width='20' height='20' rx='10' fill='%23085FF7'/%3E%3Cpath fill-rule='evenodd' clip-rule='evenodd' d='M8.39949 4L6 11.1116H9.80019L8.80031 16L15 8.22149H10.9994L12.9992 4H8.39949Z' fill='white'/%3E%3C/svg%3E%0A\");background-repeat:no-repeat;content:'';display:inline-block;line-height:1.25rem;width:20px;height:20px;vertical-align:text-bottom}body.janus .serpvj-ResponsiveEmployer{margin-bottom:8px}body.janus .serpvj-ResponsiveEmployer div.serpvj-ResponsiveEmployer-icon{margin-top:-1px}.jobCardShelfIcon svg g g g{fill:#816bff}div.serp-earlyApplyMessage-text{color:#2d2d2d !important}div.serp-earlyApplyMessage{padding-top:16px !important}div.serp-earlyApplyMessage-icon svg,div.serpvj-earlyApplyMessage-icon svg{display:none}div.serp-earlyApplyMessage-icon::before,div.serpvj-earlyApplyMessage-icon::before{background-image:url(\"data:image/svg+xml,%3Csvg width='20' height='20' fill='none' xmlns='http://www.w3.org/2000/svg'%3E%3Crect width='20' height='20' rx='10' fill='%23816BFF'/%3E%3Cpath fill-rule='evenodd' clip-rule='evenodd' d='M6.5 5v2.777h.005l-.005.006L8.88 10 6.5 12.223l.005.005H6.5V15h7.143v-2.772h-.006l.006-.005L11.26 10l2.382-2.217-.006-.006h.006V5H6.5zm1.403 7.798l2.175-2.028 2.16 2.028v.938H7.904v-.938z' fill='%23fff'/%3E%3C/svg%3E\");background-repeat:no-repeat;content:'';display:inline-block;line-height:1.25rem;width:20px;height:20px;vertical-align:text-bottom}div.serp-earlyApplyMessage-icon{margin-right:13px;margin-top:-4px}div.serpvj-earlyApplyMessage-icon{margin-right:0.5rem;height:1.25rem;width:1.25rem}[dir=rtl] div.serp-earlyApplyMessage-icon{margin-right:0;margin-left:13px}[dir=rtl] div.serpvj-earlyApplyMessage-icon{margin-left:0.5rem}div.serpvj-UrgentlyHiringMessage,div.serpvj-earlyApplyMessage{margin-bottom:1rem;margin-top:0}.serp-UrgentlyHiringMessage-icon{height:20px;width:20px;margin-right:8px}.serp-UrgentlyHiringMessage-icon svg{width:20px;height:20px}#resultsBody #pageContent #resultsCol .row.unifiedRow>.serp-UrgentlyHiringMessage{height:20px;padding-top:0;margin-top:0.4rem}[dir=rtl] .serp-UrgentlyHiringMessage-icon{margin-right:0;margin-left:8px}#resultsBody #pageContent #resultsCol .row.unifiedRow .jobsearch-SerpJobCard-footer{padding-top:1rem}.ITABrandInline{border-top:0 !important;border-bottom:0 !important}.jobsearch-EmployerResponsive-icon{margin-right:8px}.jobsearch-EmployerResponsive-icon svg{display:none}.jobsearch-EmployerResponsive-icon::before{background-image:url(\"data:image/svg+xml,%3Csvg width='20' height='20' viewBox='0 0 20 20' fill='none' xmlns='http://www.w3.org/2000/svg'%3E%3Crect width='20' height='20' rx='10' fill='%23085FF7'/%3E%3Cpath fill-rule='evenodd' clip-rule='evenodd' d='M8.39949 4L6 11.1116H9.80019L8.80031 16L15 8.22149H10.9994L12.9992 4H8.39949Z' fill='white'/%3E%3C/svg%3E%0A\");background-repeat:no-repeat;content:'';display:inline-block;line-height:1.25rem;width:20px;height:20px;vertical-align:text-bottom}body.janus #auxCol div#femp_list,body.janus #auxCol div#picard-profile-completeness-widget,body.janus #auxCol div#recentsearches,body.janus #univsrch-salary-v3 div#univsrch-salary-info,body.janus .cmp_display div.cmp_info,body.janus .rezcta_display div.rezcta_info,body.janus div#jobalertswrapper,body.janus div.rightRail{margin-top:12px;border-top:1px solid #ececec;box-shadow:0 -4px 0 #ff5a1f}body.janus #auxCol div.jaui{border-top:0}body.janus div#jobalertswrapper{margin-top:4px}body.janus #auxCol div#femp_list,body.janus #auxCol div#picard-profile-completeness-widget,body.janus #auxCol div#recentsearches,body.janus #univsrch-salary-v3 div#univsrch-salary-info,body.janus .cmp_display div.cmp_info,body.janus .rezcta_display div.rezcta_info,body.janus div#jobalertswrapper,body.janus div.rightRail{border-bottom:1px solid #ececec !important;border-left:1px solid #ececec !important;border-right:1px solid #ececec !important}:root body.janus table #auxCol #recentsearches .rsh,:root body.janus table #jobalerts .jobalertlabel,:root body.janus table #vjs-container div#vjs-header,:root body.janus table#resultsBody #pageContent td#resultsCol .result.row,[dir] .jobsearch-ViewJobLayout-rightRail .icl-Card--hasBorder{border-color:#d4d2d0;border-width:1px}body div#vjs-container,body.janus table #auxCol div#recentsearches,body.janus table div#jobalertswrapper{border-color:#d4d2d0 !important}[dir] .jobsearch-ViewJobLayout-rightRail .icl-Card-headline--hasBorder{border-bottom-color:#d4d2d0}:root body.janus table div#vjs-container div#vjs-header{border-top-width:0}body.janus table#resultsBody #pageContent #resultsCol div.result{padding:1.25rem !important}#resultsBody #pageContent #resultsCol .row.unifiedRow .jobcard_logo{padding-top:0}body.janus td#resultsCol .jobtitle{margin-bottom:0}body.janus table#resultsBody #pageContent #resultsCol .result .title .jobtitle a,body.janus table#resultsBody #pageContent #resultsCol .result .title a.jobtitle{line-height:1.625rem !important}body.janus table#resultsBody #pageContent #resultsCol .result .company,body.janus table#resultsBody #pageContent #resultsCol .result .company a{line-height:1.5rem !important}table#resultsBody #pageContent #resultsCol .row .salarySnippet .salary{line-height:1 !important;display:inline-block}body.janus table#resultsBody #pageContent #resultsCol .result .salarySnippet .salary .salaryText{line-height:1.5rem !important;display:inline-block}#resultsBody #pageContent td#resultsCol .row .company,#resultsBody #pageContent td#resultsCol .row .location{line-height:1.5rem !important;display:inline-block}.location span[style*=\"font-size: smaller\"]{vertical-align:bottom}body.janus table#resultsBody #pageContent #resultsCol .result .jobCardShelfContainer .jobCardShelf td.jobCardShelfItem{padding-bottom:0.5rem}body.janus table#resultsBody #pageContent #resultsCol .result .jobCardShelfContainer .jobCardShelf .jobCardShelfItem{line-height:1}.jobCardShelfItem .jobCardShelfIcon{line-height:0}.iaLabel{line-height:1.25rem;display:inline-block}body.janus table#resultsBody #pageContent #resultsCol .result .jobCardShelfContainer .jobCardShelf .jobCardShelfItem span.jobCardShelfIcon{vertical-align:sub}table#resultsBody #pageContent #resultsCol .row .salarySnippet{padding-top:0.75rem !important}body.janus table#resultsBody #pageContent #resultsCol .result table.jobCardShelfContainer{padding-top:0.75rem}body .salarySnippet+.summary,body.janus table#resultsBody #pageContent #resultsCol .result .summary{padding-top:1rem !important}body.janus table#resultsBody #pageContent #resultsCol .result table.jobCardShelfContainer+div.summary{padding-top:0.5rem}body .salarySnippet+.summary,body.janus table#resultsBody #pageContent #resultsCol .result .jobCardShelfContainer+.summary{padding-top:0.5rem !important}body.janus table#resultsBody #pageContent #resultsCol .result .result-link-bar-container{padding-top:0.75rem}:root body.janus table div#vjs-container div#vjs-header{border-radius:8px 8px 0 0}@media (max-width: 991px){.is-embedded #saveJobButtonContainer button{min-height:44px}}.is-embedded #saveJobButtonContainer button.icl-Button .icl-ButtonIcon{top:0}body div.jobsearch-ViewJobLayout--embedded{border-top:none}[dir=\"ltr\"] button#toggle-new{border-left-color:transparent}.icl-WhatWhere .is-autocomplete-open .icl-TextInput-control{margin-bottom:-1px}[dir] .icl-Grid .icl-WhatWhere .is-autocomplete-open .icl-TextInput-control:focus{border-bottom-left-radius:0;border-bottom-right-radius:0}\n",
       "</style>\n",
       "<link href=\"https://d3fw5vlhllyvee.cloudfront.net/mosaic-common/dist/28bbbcf04ef013727046/styles/index.css\" rel=\"stylesheet\"/>\n",
       "<link href=\"https://d3fw5vlhllyvee.cloudfront.net/mosaic-provider-reportcontent/dist/d73ebeb0beb025302be8/css/ReportContent-client.css\" rel=\"stylesheet\"/>\n",
       "<link href=\"/images/favicon.ico\" rel=\"shortcut icon\"/>\n",
       "<link href=\"https://fonts.googleapis.com/css?family=Noto+Sans:regular,bold,italic\" rel=\"stylesheet\"/>\n",
       "<style>\n",
       "            html body.miniRefresh *,\n",
       "            html body.miniRefresh div .gnav *,\n",
       "            html body.miniRefresh div .gnav .icl-GlobalFooter-link {\n",
       "                font-family: 'Noto Sans', 'Helvetica Neue', Helvetica, Arial, sans-serif !important;\n",
       "            }\n",
       "        </style>\n",
       "</head>\n",
       "<body class=\"miniRefresh\">\n",
       "<script src=\"/m/s/900259d/static/scripts/i18n/en_US.min.js\" type=\"text/javascript\"></script><script>(function(_){_.__JS_ERROR__=[];_.onerror=function(){_.__JS_ERROR__.push(Array.prototype.slice.call(arguments))}})(window);(function(e){const n={homepage:\"mobtk\",viewjob:\"mobvjtk\",viewjobJapan:\"mobvjtk\",serp:\"mobtk\",serpJapan:\"mobtk\"};const o={homepage:\"hp\",viewjob:\"vj\",viewjobJapan:\"vjjp\",serp:\"srch\",serpJapan:\"srchjp\"};const t=function(e){return n[e]};const r=function(e){return o[e]};const a=function(e,n){return'\"eventName\":\"mobPageLoadInfo\",'+'\"type\":\"mobPageLoadInfo\",'+'\"pageId\":\"'+e+'\",\"'+t(e)+'\":\"'+n+'\",\"pageName\":\"'+r(e)+'\"'};const i=function(){return e.screen.orientation.type.indexOf(\"portrait\")>-1?\"portrait\":\"landscape\"};const c=function(){const n=e.devicePixelRatio||1;var o='\"pixelRatio\":'+n+\",\"+'\"scrWidth\":'+Math.floor(e.screen.width*n)+\",\"+'\"scrHeight\":'+Math.floor(e.screen.height*n);if(e.screen.orientation){o+=',\"scrOrientation\":\"'+i()+'\"'}return o};const p=function(e){return encodeURIComponent(e).replace(/%20/g,\"+\")};e.logPageLoadInfo=function(n,o,i){if(!Image){return}const s=r(n);const d=t(n);if(!s||!d){return}var f=a(n,o);if(i&&e.screen){f+=\",\"+c()}const g=\"/m/rpc/frontendlogging?logType=trackEvent&moduleName=event&application=indeedmobile\"+\"&pageId=\"+n+\"&data=\"+p(\"{\"+f+\"}\");const m=new Image;m.src=g;m.height=m.width=0;m.style.display=\"block\";document.body.appendChild(m)}})(window);window.logPageLoadInfo(\"viewjob\",\"1e6dauksuobol800\",  false );(function(t){function e(e){var n=e.target;while(n&&n!==t.documentElement){if(n.tagName===\"A\"){var r=n.getAttribute(\"data-href\");if(r!==null){n.setAttribute(\"href\",r);n.removeAttribute(\"data-href\")}return}n=n.parentNode}}if(t.addEventListener){\"ontouchstart\"in t?t.addEventListener(\"touchstart\",e):t.addEventListener(\"mousedown\",e)}})(document);window._initialData={\"base64EncodedJson\":\"eyJhIjp0cnVlLCJjIjp0cnVlLCJkIjpmYWxzZSwiZSI6dHJ1ZSwiZyI6Imh0dHA6Ly93d3cuaW5kZWVkLmNvbS9tL2Jhc2VjYW1wL3ZpZXdqb2I_ams9NDg0N2IwZjFjMWZmMzEzOCIsImgiOiJTZW5pb3IgTWljcm9zb2Z0IEFjdGl2ZSBEaXJlY3RvcnkgTWlncmF0aW9uIEVuZ2luZWVyIiwiaSI6IkJvc3RvbiwgTUEiLCJqIjoib3JnYW5pYyIsImwiOiIifQ\",\"baseInboxUrl\":\"https:\\u002F\\u002Finbox.indeed.com\",\"baseUrl\":\"https:\\u002F\\u002Fwww.indeed.com\",\"clientsideProctorGroups\":{\"mobcompanylinktst\":true,\"mobvjpsfeedbacktst\":false,\"jasx_track_multisession_noapplies\":false,\"sal_insights_tab_redesign_tst\":false,\"jasx_hidephonenumber_tst\":false},\"companyFollowForm\":{\"addAlertUrl\":\"\\u002Falert?a=add&alert_params=followCompany%3Dd651c224d40e7382&q=company%3A%27CB5+Solutions+LLC%27&alert_period=weekly&output=json&verified=0&tk=1e6dauksuobol800&hct=c6ce8635574b3b01ccac5f60b2f95045\",\"cancelText\":\"By creating a company alert you agree to our <a href=\\\"\\u002Flegal\\\" target=\\\"_blank\\\">Terms<\\u002Fa>. You can change your consent settings at any time by unsubscribing, or as detailed in our terms.\",\"checkAlertUrl\":\"\\u002Frpc\\u002Fjobalert?a=check&app=acme&q=company%3A%27CB5+Solutions+LLC%27&followCompany=d651c224d40e7382\",\"confirmationHeader\":\"Please check your email\",\"confirmationSubHeader\":\"we have sent a confirmation message\",\"confirmationText\":\"Click on the link in this email to start receiving your Company Alert.\",\"createAlertUrl\":\"\\u002Fmy\\u002Falerts?a=create&alert_params=followCompany%3Dd651c224d40e7382&alert_keywords=company%3A%27CB5+Solutions+LLC%27&alert_period=weekly&output=json&followCompany=d651c224d40e7382&hct=c6ce8635574b3b01ccac5f60b2f95045\",\"cta\":\"Get job updates from CB5 Solutions LLC\",\"duplicateEmailMessage\":\"You are already following this company.\",\"followButton\":{\"buttonSize\":\"sm\",\"buttonType\":\"tertiary\",\"children\":\"Follow\",\"disabled\":false,\"isBlock\":false,\"isResponsive\":false,\"size\":\"sm\"},\"followingText\":\"Following\",\"input\":{\"disabled\":false,\"errorText\":\"This field is required\",\"helpText\":null,\"id\":null,\"isSmall\":false,\"label\":\"My Email:\",\"name\":\"email\",\"type\":\"text\",\"value\":null},\"invalidEmailMessage\":\"Please provide a valid email address.\",\"saveButton\":{\"buttonSize\":null,\"buttonType\":\"secondary\",\"children\":\"Save\",\"disabled\":false,\"isBlock\":true,\"isResponsive\":false,\"size\":\"sm\"}},\"country\":\"US\",\"ctk\":\"1e6dauks3nn8i800\",\"dcmModel\":{\"category\":\"jobse0\",\"source\":\"6927552\",\"type\":\"organic\"},\"desktop\":true,\"desktopSponsoredJobSeenData\":\"tk=1e6dauksuobol800\",\"googleOneTapModel\":{\"baseSecureUrl\":\"https:\\u002F\\u002Fsecure.indeed.com\",\"googleClientID\":\"1047839414793-v442kdo3pt0vb43l8nu2c5sh9lf4bsnj.apps.googleusercontent.com\",\"redirectUrl\":\"https:\\u002F\\u002Fmy.indeed.com?from=googleonetapvj\"},\"indeedApplyButtonContainer\":{\"disabled\":false,\"earlyApplyMessageModel\":{\"recentAppliesResult\":{\"recentAppliesResponse\":{\"recentApplies\":{\"lastDayApplies\":3,\"lastHourApplies\":0,\"lastMonthApplies\":7,\"lastWeekApplies\":7},\"recentQualifiedApplies\":{\"lastDayApplies\":0,\"lastHourApplies\":0,\"lastMonthApplies\":1,\"lastWeekApplies\":1}},\"responseTime\":2,\"timedOut\":false},\"view\":null},\"employerResponsiveCard\":null,\"hasMessage\":false,\"indeedApplyAttributes\":{\"content\":\"data-indeed-apply-apiToken='aa102235a5ccb18bd3668c0e14aa3ea7e2503cfac2a7a9bf3d6549899e125af4' data-indeed-apply-jobTitle='Senior Microsoft Active Directory Migration Engineer' data-indeed-apply-jobId='bf258a609c95c55b9878' data-indeed-apply-jobLocation='Boston, MA' data-indeed-apply-jobCompanyName='CB5 Solutions LLC' data-indeed-apply-jobUrl='https:\\u002F\\u002Fwww.indeed.com\\u002Fviewjob?jk=4847b0f1c1ff3138' data-indeed-apply-questions='nigma:\\u002F\\u002FWmh2b15QEl1SE0ZQREtn?locale=en_US&amp;v=3' data-indeed-apply-postUrl='https:\\u002F\\u002Fdradisindeedapply.sandbox.indeed.net\\u002Fprocess-indeedapply' data-indeed-apply-coverletter='optional' data-indeed-apply-resume='required' data-indeed-apply-advnum='7420537485613910' data-indeed-apply-pingbackUrl='https:\\u002F\\u002Fgdc.indeed.com\\u002Fconv\\u002ForgIndApp?vjtk=1e6dauksuobol800&amp;jk=4847b0f1c1ff3138&amp;co=US' data-indeed-apply-noButtonUI='true' data-indeed-apply-continueUrl='http:\\u002F\\u002Fwww.indeed.com\\u002Fviewjob?jk=4847b0f1c1ff3138&amp;applied=1&amp;sita=1&amp;from=postapply' data-indeed-apply-onappliedstatus='_updateIndeedApplyStatus' data-indeed-apply-onready='_onButtonReady' data-indeed-apply-jk='4847b0f1c1ff3138' data-indeed-apply-clickhandler=\\\"window.top.postMessage({eventType: 'click'}, '*')\\\" data-indeed-apply-dismisshandler=\\\"window.top.postMessage({eventType: 'dismiss'}, '*')\\\" data-indeed-apply-inpageapplyhandler=\\\"window.top.postMessage({eventType: 'inpageapply'}, '*')\\\" data-indeed-apply-recentapplies='{\\\"all\\\":7,\\\"qualified\\\":1}'\",\"contentKind\":\"ATTRIBUTES\"},\"indeedApplyButtonModel\":{\"buttonSize\":\"block\",\"buttonType\":\"branded\",\"contentHtml\":\"Apply Now\",\"dataHref\":null,\"href\":\"\\u002F\",\"icon\":null,\"isBlock\":false,\"largeScreenSizeText\":null,\"openInNewTab\":false,\"referrerpolicy\":null,\"rel\":null,\"sanitizedHref\":null,\"sanitizedHtml\":null,\"sticky\":false,\"target\":null,\"title\":null,\"viewJobDisplay\":null},\"indeedApplyScriptAttributes\":{\"data-indeed-apply-qs\":\"vjtk=1e6dauksuobol800&twoPaneVjGroup=-1\"},\"indeedApplyScriptLocation\":\"https:\\u002F\\u002Fapply.indeed.com\\u002Findeedapply\\u002Fstatic\\u002Fscripts\\u002Fapp\\u002Fbootstrap.js?hl=en&co=US&source=idd\",\"manyAppliesMessageModel\":null,\"shouldUseButtonPlaceholder\":false,\"twoPaneVjGroup\":null,\"viewFormUrl\":null,\"viewFormUrlAttribute\":{\"content\":\"\",\"contentKind\":\"ATTRIBUTES\"}},\"indeedChatEmployerModel\":{\"chatEnabled\":false},\"jasJobViewPingModel\":{\"url\":\"https:\\u002F\\u002Fjas.indeednps.com\\u002F?jk=4847b0f1c1ff3138&ak=591bca66dbab185f0d82\"},\"jasxInputWhatWhereTstActive\":true,\"jobKey\":\"4847b0f1c1ff3138\",\"jobLocation\":\"Boston, MA\",\"jobSeenData\":\"tk=1e6dauksuobol800&context=viewjobrecs\",\"jobTitle\":\"Senior Microsoft Active Directory Migration Engineer\",\"language\":\"en\",\"locale\":\"en_US\",\"localeData\":{\"\":[null,\"Project-Id-Version: \\nReport-Msgid-Bugs-To: \\nPOT-Creation-Date: 2020-04-15 03:02-0500\\nPO-Revision-Date: 2020-04-01 21:41+0000\\nLast-Translator: Auto Generated <noreply@indeed.com>\\nLanguage-Team: English (United States) <https:\\u002F\\u002Fweblate.corp.indeed.com\\u002Fprojects\\u002Findeed\\u002Findeedmobile-i18n-content\\u002Fen_US\\u002F>\\nLanguage: en_US\\nMIME-Version: 1.0\\nContent-Type: text\\u002Fplain; charset=UTF-8\\nContent-Transfer-Encoding: 8bit\\nPlural-Forms: nplurals=2; plural=n != 1;\\nX-Generator: Weblate 3.9.1\\n\"]},\"mobtk\":\"1e6dauksuobol800\",\"notifications\":{\"inboxLinkEnabled\":false,\"messagesLabel\":\"Messages\",\"newMessagesCountPlurals\":[\"{0} new\",\"{0} new\"],\"notificationCenterEnabled\":false,\"updatingText\":\"checking...\"},\"pageId\":\"viewjob\",\"relatedLinks\":[{\"href\":\"\\u002Fjobs?q=Active+Directory+Engineer&from=vj&l=Boston%2C+MA\",\"linkText\":\"Active Directory Engineer jobs in Boston, MA\"},{\"href\":\"\\u002Fjobs?q=Solutions&from=vj&l=Boston%2C+MA\",\"linkText\":\"Jobs at Solutions in Boston, MA\"},{\"href\":\"\\u002Fsalary?q1=Active+Directory+Engineer&from=vj&l1=Boston%2C+MA\",\"linkText\":\"Active Directory Engineer salaries in Boston, MA\"}],\"reportJobForm\":{\"additionalInformationPlaceholder\":\"Additional information\",\"closeIconLabel\":\"Close\",\"disclaimer\":\"All Job Ads are subject to Indeed's <a target=\\\"_blank\\\" href=\\\"\\u002Flegal\\\">Terms of Service<\\u002Fa>. We allow users to flag postings that may be in violation of those terms. Job Ads may also be flagged by Indeed. However, no moderation system is perfect, and flagging a posting does not ensure that it will be removed.\",\"postHref\":\"\\u002Fm\\u002Frpc\\u002Flog\\u002Freport\\u002Fjob?jobKey=4847b0f1c1ff3138&mobvjtk=1e6dauksuobol800&isMobile=false&indeedcsrftoken=go8LU8O6OmbJLCcXpwYKWqXSpEcpU4bG\",\"radioButtonGroup\":{\"errorText\":null,\"helpText\":null,\"isDisabled\":false,\"label\":\"Report this job\",\"name\":null,\"radioButtons\":[{\"id\":null,\"isDisabled\":false,\"label\":\"It is offensive, discriminatory\",\"name\":\"offensive\",\"value\":\"offensive\"},{\"id\":null,\"isDisabled\":false,\"label\":\"It seems like a fake job\",\"name\":\"fake\",\"value\":\"fake\"},{\"id\":null,\"isDisabled\":false,\"label\":\"It is inaccurate\",\"name\":\"inaccurate\",\"value\":\"inaccurate\"},{\"id\":null,\"isDisabled\":false,\"label\":\"It is an advertisement\",\"name\":\"advertisement\",\"value\":\"advertisement\"},{\"id\":null,\"isDisabled\":false,\"label\":\"Other\",\"name\":\"other\",\"value\":\"other\"}],\"value\":null},\"submitButtonText\":\"Submit\",\"successHeadline\":\"Job successfully reported\",\"successText\":\"Thank you for helping us identify suspicious behavior on Indeed\"},\"salaryInfoModel\":{\"disclaimerIcon\":null,\"featureTokens\":[],\"indeedEstimateText\":null,\"salaryEstimationDisclaimer\":null,\"salarySource\":\"EXTRACTION\",\"salaryText\":\"$50 - $75 an hour\",\"salaryTextFormatted\":false},\"saveJobButtonContainerModel\":{\"alreadySavedButtonModel\":{\"actions\":[\"Saved\",\"Applied\",\"Interviewing\",\"Offered\",\"Hired\"],\"buttonSize\":\"block\",\"buttonType\":\"secondary\",\"contentHtml\":\"Saved\",\"href\":\"\\u002F\",\"iconSize\":null},\"applyFromComputerButtonModel\":null,\"applyFromComputerLogUrl\":\"\\u002Fm\\u002Frpc\\u002Flog\\u002Femailmyself?jk=4847b0f1c1ff3138&mobvjtk=1e6dauksuobol800&sbt=c6ce8635574b3b01ccac5f60b2f95045&ctk=1e6dauks3nn8i800&acctKey=\",\"currentJobState\":\"VISITED\",\"didYouApplyPromptModel\":{\"calloutModel\":{\"actionsMap\":{\"NO\":{\"children\":\"Not interested\",\"className\":null,\"href\":null,\"target\":null},\"LATER\":{\"children\":\"Maybe later\",\"className\":null,\"href\":null,\"target\":null},\"YES\":{\"children\":\"Yes\",\"className\":null,\"href\":null,\"target\":null}},\"caretPosition\":null,\"children\":null,\"dismissAriaLabel\":\"Close\",\"dismissAttributes\":null,\"dismissHref\":null,\"heading\":\"Did you apply?\"},\"jobKey\":\"4847b0f1c1ff3138\",\"possibleResponses\":{\"NO\":\"NO\",\"LATER\":\"LATER\",\"YES\":\"YES\"},\"userCanView\":false},\"didYouApplyResponseUrl\":\"\\u002Fm\\u002Frpc\\u002Fdidyouapply?tk=1e6dauksuobol800&jobKey=4847b0f1c1ff3138&originPage=viewjob&from=viewjob\",\"hashedCSRFToken\":\"c6ce8635574b3b01ccac5f60b2f95045\",\"isAlreadySavedButtonVisible\":false,\"isDisableJobStatusChange\":false,\"isLoggedIn\":false,\"isSaveWithoutLoginEnabled\":false,\"isSticky\":false,\"isSyncJobs\":false,\"mobtk\":\"1e6dauksuobol800\",\"myIndeedLoginLink\":\"https:\\u002F\\u002Fwww.indeed.com\\u002Faccount\\u002Flogin?dest=%2Fviewjob%3Fjk%3D4847b0f1c1ff3138\",\"myJobsAPIHref\":\"\\u002Frpc\\u002Flog\\u002Fmyjobs\\u002Ftransition_job_state?client=mobile&cause=statepicker&preserveTimestamp=false&tk=1e6dauksuobol800&jobKey=4847b0f1c1ff3138&originPage=viewjob\",\"myJobsURL\":\"\\u002Fmyjobs\\u002F?from=mobvj#\",\"pageId\":\"viewjob\",\"possibleJobActions\":{\"SAVED\":\"save\",\"APPLIED\":\"apply\",\"INTERVIEWING\":\"interview\",\"OFFERED\":\"offer\",\"HIRED\":\"hire\",\"VISITED\":\"visit\",\"ARCHIVED\":\"archive\"},\"possibleJobStates\":{\"SAVED\":\"Saved\",\"APPLIED\":\"Applied\",\"INTERVIEWING\":\"Interviewing\",\"OFFERED\":\"Offered\",\"HIRED\":\"Hired\",\"VISITED\":\"Visited\",\"ARCHIVED\":\"Archived\"},\"saveButtonModel\":{\"buttonSize\":\"block\",\"buttonType\":\"secondary\",\"contentHtml\":\"Save this job\",\"dataHref\":null,\"href\":\"\\u002F\",\"icon\":{\"iconTitle\":\"save-icon\",\"iconType\":\"favorite-border\"},\"isBlock\":false,\"largeScreenSizeText\":null,\"openInNewTab\":false,\"referrerpolicy\":null,\"rel\":null,\"sanitizedHref\":null,\"sanitizedHtml\":null,\"sticky\":false,\"target\":null,\"title\":null,\"viewJobDisplay\":\"DESKTOP_STANDALONE\"},\"showSaveJobInlineCallout\":true,\"smallButtonModel\":null,\"uistates\":{\"INTERVIEWING\":\"INTERVIEWING\",\"OFFERED\":\"OFFERED\",\"SAVED\":\"SAVED\",\"VISITED\":\"VISITED\",\"HIRED\":\"HIRED\",\"ARCHIVED\":\"ARCHIVED\",\"APPLIED\":\"APPLIED\"},\"viewJobDisplay\":\"DESKTOP_STANDALONE\"},\"saveJobCalloutModel\":{\"actionsMap\":{\"createaccount\":{\"children\":\"Create account (it's free)\",\"className\":null,\"href\":\"https:\\u002F\\u002Fwww.indeed.com\\u002Faccount\\u002Fregister?dest=%2Fviewjob%3Fjk%3D4847b0f1c1ff3138\",\"target\":\"self\"},\"signin\":{\"children\":\"Sign in\",\"className\":null,\"href\":\"https:\\u002F\\u002Fwww.indeed.com\\u002Faccount\\u002Flogin?dest=%2Fviewjob%3Fjk%3D4847b0f1c1ff3138\",\"target\":\"self\"}},\"caretPosition\":null,\"children\":\"You must sign in to save jobs:\",\"dismissAriaLabel\":\"Close\",\"dismissAttributes\":null,\"dismissHref\":null,\"heading\":\"Save jobs and view them from any computer.\"},\"saveJobFailureModalModel\":{\"closeAriaLabel\":\"Close\",\"closeButtonText\":\"Close\",\"message\":\"Please retry\",\"signInButtonText\":null,\"signInHref\":null,\"title\":\"Failed to Save Job\"},\"saveJobLimitExceededModalModel\":{\"closeAriaLabel\":\"Close\",\"closeButtonText\":null,\"message\":\"You reached the limit. Please log in to save additional jobs.\",\"signInButtonText\":\"Sign in\",\"signInHref\":\"https:\\u002F\\u002Fwww.indeed.com\\u002Faccount\\u002Flogin?dest=%2Fviewjob%3Fjk%3D4847b0f1c1ff3138&from=viewjob_savejoblimitmodal\",\"title\":\"You've already saved 20 jobs\"},\"shareJobButtonContainerModel\":{\"buttonIconModel\":{\"color\":\"blue\",\"position\":null,\"size\":\"md\",\"title\":\"Share this job\",\"type\":\"\\u002Fm\\u002Fimages\\u002Fnativeshare.svg\"},\"buttonModel\":{\"buttonSize\":null,\"buttonType\":\"secondary\",\"children\":\"Share this job\",\"disabled\":false,\"isBlock\":false,\"isResponsive\":false,\"size\":\"md\"},\"fallbackButtonIconModel\":{\"color\":\"blue\",\"position\":null,\"size\":\"md\",\"title\":\"Copy link\",\"type\":\"\\u002Fm\\u002Fimages\\u002Ficon-copy.svg\"},\"shareText\":\"Check out this job on Indeed:\\nCB5 Solutions LLC\\nSenior Microsoft Active Directory Migration Engineer\\nBoston, MA\\nhttps:\\u002F\\u002Fwww.indeed.com\\u002Fm\\u002Fviewjob?jk=4847b0f1c1ff3138&from=native\\n\\nYou can search for more jobs on WhatsApp!\\n=> wa.me\\u002F15128722274?text=Hello%20Indeed%21\",\"shareType\":\"native\",\"shareUrl\":\"https:\\u002F\\u002Fwww.indeed.com\\u002Fm\\u002Fviewjob?jk=4847b0f1c1ff3138&from=native\",\"showUnderSaveButton\":true},\"stickyType\":\"ALWAYS\",\"viewJobDisplay\":\"DESKTOP_STANDALONE\"};</script><div class=\"jobsearch-ViewJobLayout jobsearch-ViewJobLayout-changeTextSize jobsearch-ViewJobLayout-changeTextColor\"><script id=\"_indeed_gnav_config\" type=\"application/json\">{\"isEmployer\":false,\"primaryURL\":\"https://www.indeed.com/\",\"requestURL\":\"http://www.indeed.com/m/basecamp/viewjob?jk=4847b0f1c1ff3138\",\"from\":\"gnav-menu-viewjob\",\"isShowSmallHeader\":true,\"logClickTracking\":true,\"desktopPageLinks\":[{\"text\":\"Find jobs\",\"href\":\"https://www.indeed.com/\",\"dataHref\":\"https://www.indeed.com/?from=gnav-viewjob\",\"isHighlighted\":true,\"clickTrackingKey\":\"Find Jobs\"},{\"text\":\"Company reviews\",\"href\":\"https://www.indeed.com/companies\",\"dataHref\":\"https://www.indeed.com/companies?from=gnav-viewjob\",\"isHighlighted\":false,\"clickTrackingKey\":\"Company Reviews\"},{\"text\":\"Find salaries\",\"href\":\"https://www.indeed.com/salaries\",\"dataHref\":\"https://www.indeed.com/salaries?from=gnav-viewjob\",\"isHighlighted\":false,\"clickTrackingKey\":\"Find Salaries\"}],\"resumeLink\":{\"text\":\"Upload your resume\",\"href\":\"https://www.indeed.com/promo/resume\",\"dataHref\":\"https://www.indeed.com/promo/resume?from=gnav-viewjob\",\"isHighlighted\":false},\"variantToggleLink\":{\"text\":\"Employers / Post Job\",\"href\":\"https://www.indeed.com/hire?co=US\\u0026hl=en\",\"dataHref\":\"https://www.indeed.com/hire?co=US\\u0026hl=en\\u0026from=gnav-menu-viewjob\\u0026ikw=gnav-header-hire\\u0026isid=employerlink-US\",\"clickTrackingKey\":\"EmployersPostJob\"},\"country\":\"US\",\"logoHref\":\"/?from=gnav-viewjob\",\"logoName\":\"\",\"appName\":\"jobsearch--indeedmobile\",\"inboxApiHref\":\"https://messages.indeed.com/messaging/jobseekers/v2/summary?from=gnav-util-viewjob\\u0026gnavTK=1e6dauktdol9n800\\u0026tk=1e6dauksuobol800\\u0026co=US\\u0026hl=en\\u0026clientApp=GNAV\",\"inboxHref\":\"https://inbox.indeed.com/messages?from=gnav-util-viewjob\\u0026gnavTK=1e6dauktdol9n800\\u0026tk=1e6dauksuobol800\\u0026co=US\\u0026hl=en\",\"logRoute\":\"https://t.indeed.com/gnav/log?from=jobsearch--indeedmobile-viewjob\\u0026parentLogId=1e6dauktdol9n800\\u0026hostAppTk=1e6dauksuobol800\",\"inboxLogTuple\":\"gnavInbox:12140b7982d032f1660f59e3e976c72d\",\"isInboxTestActive\":false,\"isShowInboxIcon\":false,\"inboxTestBucket\":-1,\"selectedIcon\":\"\",\"shouldLowerNavIconMinWidth\":true,\"inboxLogType\":\"gnavInbox\",\"inboxLth\":\"12140b7982d032f1660f59e3e976c72d\",\"notificationApiHref\":\"https://www.indeed.com/notifications/api/1/getNotificationsCount?client=gnav\\u0026from=gnav-util-viewjob\\u0026gnavTK=1e6dauktdol9n800\\u0026tk=1e6dauksuobol800\",\"notificationHref\":\"https://www.indeed.com/notifications?from=gnav-util-viewjob\\u0026gnavTK=1e6dauktdol9n800\\u0026tk=1e6dauksuobol800\\u0026co=US\\u0026hl=en\",\"isNotificationTestActive\":false,\"isShowNotificationIcon\":false,\"notificationTestBucket\":-1,\"notificationLogType\":\"gnavNotification\",\"notificationLth\":\"6d669dfa33371660f3e683b38b9f3ddc\",\"jsErrorLogType\":\"gnavJSError\",\"jsErrorLth\":\"6411ec182c6acd8714dc2d03716eed1d\",\"jsEnabledLogType\":\"gnavJSEnabled\",\"jsEnabledLth\":\"5e9311c1001227ca5c6c32db123fb854\",\"interactionLogType\":\"gnavInteraction\",\"interactionLth\":\"87caa20c31fa9e447264b1615339f1ce\",\"passportAccountText\":\"Sign in\",\"passportAccountURL\":\"https://secure.indeed.com/account/login?hl=en_US\\u0026co=US\\u0026continue=http%3A%2F%2Fwww.indeed.com%2Fm%2Fbasecamp%2Fviewjob%3Fjk%3D4847b0f1c1ff3138\\u0026tmpl=desktop\\u0026service=mob\\u0026from=gnav-util-viewjob\",\"showSecondaryStyleSignInButton\":true,\"language\":\"en\",\"isShowLanguageSwitcher\":false}</script><link href=\"https://d3fw5vlhllyvee.cloudfront.net/dist/f3b59df34b69ea1c14c7/styles/desktop_jobseeker_header_external.css\" rel=\"stylesheet\" type=\"text/css\"/><div class=\"gnav\" id=\"gnav-main-container\"><div class=\"main\" data-reactroot=\"\"><div class=\"gnav-DesktopHeader is-small-header\"><div class=\"gnav-DesktopHeader-logo\"><a class=\"gnav-Logo\" href=\"/?from=gnav-viewjob\"><div aria-label=\"Indeed logo\" class=\"gnav-Logo-icon\"><span alt=\"Indeed logo\" class=\"icl-Logo icl-IndeedLogo icl-Logo--wordmark icl-Logo--wordmark--blue icl-Logo--wordmark--sm\"></span></div></a></div><div class=\"gnav-PageLinks\"><a class=\"gnav-PageLink is-highlighted with-border\" data-href=\"https://www.indeed.com/?from=gnav-viewjob\" href=\"https://www.indeed.com/\"><span class=\"gnav-PageLink-text\">Find jobs</span></a><a class=\"gnav-PageLink with-border\" data-href=\"https://www.indeed.com/companies?from=gnav-viewjob\" href=\"https://www.indeed.com/companies\"><span class=\"gnav-PageLink-text\">Company reviews</span></a><a class=\"gnav-PageLink with-border\" data-href=\"https://www.indeed.com/salaries?from=gnav-viewjob\" href=\"https://www.indeed.com/salaries\"><span class=\"gnav-PageLink-text\">Find salaries</span></a></div><div class=\"gnav-DesktopHeader-secondaryLinks\"><div class=\"gnav-ProfileNavLinks\"></div><div class=\"gnav-ResumeLink\"><a class=\"gnav-PageLink with-border\" data-href=\"https://www.indeed.com/promo/resume?from=gnav-viewjob\" href=\"https://www.indeed.com/promo/resume\"><span class=\"gnav-PageLink-text\">Upload your resume</span></a></div><div class=\"gnav-LoggedOutAccountLink\"><a class=\"gnav-LoggedOutAccountLink-signIn gnav-PageLink\" href=\"https://secure.indeed.com/account/login?hl=en_US&amp;co=US&amp;continue=http%3A%2F%2Fwww.indeed.com%2Fm%2Fbasecamp%2Fviewjob%3Fjk%3D4847b0f1c1ff3138&amp;tmpl=desktop&amp;service=mob&amp;from=gnav-util-viewjob\"><span class=\"gnav-LoggedOutAccountLink-text\">Sign in</span></a></div><span class=\"gnav-Separator gnav-Separator--grey\">|</span><div class=\"gnav-VariantToggleLink-forEmployers\"><a class=\"gnav-PageLink with-border\" data-href=\"https://www.indeed.com/hire?co=US&amp;hl=en&amp;from=gnav-menu-viewjob&amp;ikw=gnav-header-hire&amp;isid=employerlink-US\" href=\"https://www.indeed.com/hire?co=US&amp;hl=en\"><span class=\"gnav-PageLink-text\">Employers / Post Job</span></a></div></div></div></div></div><script>!function(e){var r={};function o(n){if(r[n])return r[n].exports;var t=r[n]={i:n,l:!1,exports:{}};return e[n].call(t.exports,t,t.exports,o),t.l=!0,t.exports}o.m=e,o.c=r,o.d=function(n,t,e){o.o(n,t)||Object.defineProperty(n,t,{enumerable:!0,get:e})},o.r=function(n){\"undefined\"!=typeof Symbol&&Symbol.toStringTag&&Object.defineProperty(n,Symbol.toStringTag,{value:\"Module\"}),Object.defineProperty(n,\"__esModule\",{value:!0})},o.t=function(t,n){if(1&n&&(t=o(t)),8&n)return t;if(4&n&&\"object\"==typeof t&&t&&t.__esModule)return t;var e=Object.create(null);if(o.r(e),Object.defineProperty(e,\"default\",{enumerable:!0,value:t}),2&n&&\"string\"!=typeof t)for(var r in t)o.d(e,r,function(n){return t[n]}.bind(null,r));return e},o.n=function(n){var t=n&&n.__esModule?function(){return n.default}:function(){return n};return o.d(t,\"a\",t),t},o.o=function(n,t){return Object.prototype.hasOwnProperty.call(n,t)},o.p=\"/static/\",o(o.s=113)}({113:function(n,t,e){n.exports=e(150)},150:function(n,t,e){\"use strict\";e.r(t);function r(n){var t=new i(o.a,{detail:{event:n}});document.dispatchEvent(t)}var o=e(2),i=function(){if(\"function\"==typeof window.CustomEvent)return window.CustomEvent;function n(n,t){t=t||{bubbles:!1,cancelable:!1,detail:{}};var e=document.createEvent(\"CustomEvent\");return e.initCustomEvent(n,t.bubbles,t.cancelable,t.detail),e}return n.prototype=window.Event.prototype,n}(),u=e(5),c=e(4);e.d(t,\"mainHeader\",function(){return d});var d=function(){var t;try{t=Object(u.a)(),window[o.d]=window[o.d]||{},document.querySelector(o.h).addEventListener(\"click\",r,!1),window[o.d].GLOBALNAV_CLICK_EVENT=o.a,window[o.d].initialized=!0,Object(c.a)(t)}catch(n){Object(c.a)(t),Object(c.b)(t,n)}};d()},2:function(n,t,e){\"use strict\";e.d(t,\"a\",function(){return r}),e.d(t,\"d\",function(){return o}),e.d(t,\"h\",function(){return i}),e.d(t,\"g\",function(){return u}),e.d(t,\"f\",function(){return c}),e.d(t,\"c\",function(){return d}),e.d(t,\"e\",function(){return a}),e.d(t,\"b\",function(){return f}),e.d(t,\"j\",function(){return l}),e.d(t,\"i\",function(){return s});var r=\"GLOBALNAV_CLICK_EVENT\",o=\"_INDEED_GNAV\",i=\"#gnav-main-container\",u=\"#gnav-footer-container\",c=\"#_indeed_gnav_config\",d=\"#_indeed_gnav_footer_config\",a=\"headerConfig\",f=\"footerConfig\",l=\"notifications\",s=\"inbox\"},4:function(n,t,e){\"use strict\";e.d(t,\"c\",function(){return c}),e.d(t,\"b\",function(){return r}),e.d(t,\"a\",function(){return i});var u=e(9),o=e(2),c=function(n){try{var t=document.head||document.body,e=document.createElement(\"script\");e.src=n,t.appendChild(e),t.removeChild(e)}catch(n){}},r=function(n,t){var e,r,o=Object(u.a)((r=t,{logType:(e=n).jsErrorLogType,lth:e.jsErrorLth,toString:r.toString(),message:r.message,stack:r.stack,name:r.name})),i=n.logRoute+o;return c(i)},i=function(n){if(!window[o.d].loggedJSEnabled){window[o.d].loggedJSEnabled=!0;var t,e=Object(u.a)({logType:(t=n).jsEnabledLogType,lth:t.jsEnabledLth,jsEnabled:1}),r=n.logRoute+e;return c(r)}}},5:function(n,t,e){\"use strict\";e.d(t,\"a\",function(){return r});var o=e(2),r=function(n,t){var e=0<arguments.length&&void 0!==n?n:o.f,r=1<arguments.length&&void 0!==t?t:o.e;try{return window[o.d]=window[o.d]||{},window[o.d][r]=window[o.d][r]||JSON.parse(document.querySelector(e).innerHTML),window[o.d][r]}catch(n){return{}}}},9:function(n,t,e){\"use strict\";e.d(t,\"a\",function(){return r});var r=function(n){var t=\"\";for(var e in n){var r=String(n[e]);t+=r?\"&\".concat(e,\"=\").concat(encodeURIComponent(r)):\"\"}return t}}});</script><script defer=\"\" src=\"https://d3fw5vlhllyvee.cloudfront.net/dist/7aef0855df466953c8e4/scripts/desktop_jobseeker_header_external.js\"></script><template data-json='{\"init\":{\"dsn\":\"https://2649acf65e0c47afba547cc0ea1f4846@sentry.indeed.com/43344\",\"release\":\"02751f9428ddec2b326ee1dc5a97d967fab20068\"},\"isEnabled\":true,\"tags\":{\"appName\":\"jobsearch--indeedmobile\"},\"ctk\":\"1e6dauks3nn8i800\",\"executionType\":\"defer\"}' id=\"sentry-json\" style=\"display: none\"></template>\n",
       "<script>\n",
       "window.IndeedSentry = window.IndeedSentry || {};\n",
       "window.IndeedSentry.preInitErrors = [];\n",
       "window.IndeedSentry.preInitErrorCatcher = function (error) {\n",
       "    window.IndeedSentry.preInitErrors.push(error);\n",
       "};\n",
       "window.addEventListener(\"error\", window.IndeedSentry.preInitErrorCatcher);\n",
       "</script>\n",
       "<script defer=\"\" src=\"https://d3fw5vlhllyvee.cloudfront.net/frontend-sentry-bundle/v1.1.2/js/sentry.js\"></script><div class=\"icl-Container--fluid icl-u-xs-p--sm jobsearch-ViewJobLayout-fluidContainer\"><div class=\"jobsearch-ViewJobLayout-whatWhere\"><div class=\"icl-Grid jobsearch-ViewJobLayout-content\"><div class=\"icl-Grid-col icl-u-xs-span12 icl-u-lg-span8 icl-u-lg-offset2\"><div class=\"icl-u-xs-hide icl-u-lg-block\"><form action=\"/jobs\" class=\"icl-WhatWhere jobsearch-EmbeddedLabelWhatWhereTest\" method=\"get\"></form><div class=\"jobsearch-EmbeddedLabelInput jobsearch-EmbeddedLabelInput--what\" id=\"what_container\"><label class=\"jobsearch-EmbeddedLabelInput-label\" for=\"text-input-what\" id=\"text-input-what-label\">What</label><input aria-label=\"what: job title, keywords, or company\" autocomplete=\"off\" class=\"jobsearch-EmbeddedLabelInput-input\" id=\"text-input-what\" name=\"q\" placeholder=\"Job title, keywords, or company\" type=\"text\" value=\"\"/></div><div class=\"jobsearch-EmbeddedLabelInput jobsearch-EmbeddedLabelInput--where\" id=\"where_container\"><label class=\"jobsearch-EmbeddedLabelInput-label\" for=\"text-input-where\" id=\"text-input-where-label\">Where</label><input aria-label=\"where: city, state, or zip code\" autocomplete=\"off\" class=\"jobsearch-EmbeddedLabelInput-input\" id=\"text-input-where\" name=\"l\" placeholder=\"City, state, or zip code\" type=\"text\" value=\"Long Beach, CA\"/></div><div class=\"icl-WhatWhere-buttonWrapper\"><button class=\"icl-Button icl-WhatWhere-button jobsearch-EmbeddedLabelWhatWhereTest-button\" type=\"submit\">Find Jobs</button></div><div class=\"icl-WhatWhere-advSearchWrapper\"><a class=\"icl-WhatWhere-advSearchLink\" href=\"/advanced_search\">Advanced Job Search</a></div></div></div></div></div></div></div></body></html>"
      ]
     },
     "execution_count": 9,
     "metadata": {},
     "output_type": "execute_result"
    }
   ],
   "source": [
    "soup.find()"
   ]
  },
  {
   "cell_type": "code",
   "execution_count": 66,
   "metadata": {},
   "outputs": [],
   "source": [
    "job_desc = soup.find('div', attrs={'class': 'jobsearch-jobDescriptionText'})"
   ]
  },
  {
   "cell_type": "code",
   "execution_count": 65,
   "metadata": {},
   "outputs": [
    {
     "data": {
      "text/plain": [
       "'Toyota'"
      ]
     },
     "execution_count": 65,
     "metadata": {},
     "output_type": "execute_result"
    }
   ],
   "source": [
    "company_name = soup.find('a', attrs={\"class\":\"jobsearch-CompanyAvatar-companyLink\"})\n",
    "company_name.text.strip()"
   ]
  },
  {
   "cell_type": "code",
   "execution_count": 67,
   "metadata": {},
   "outputs": [
    {
     "name": "stdout",
     "output_type": "stream",
     "text": [
      "<div class=\"jobsearch-jobDescriptionText\" id=\"jobDescriptionText\"><div><p><b>Who we are</b><b>\n",
      "</b></p><p>Collaborative. Respectful. A place to dream and do. These are just a few words that describe what life is like at Toyota. As one of the world?s most admired brands, Toyota is growing and leading the future of mobility through innovative, high-quality solutions designed to enhance lives and delight those we serve. We?re looking for diverse, talented team members who want to Dream. Do. Grow. with us.\n",
      "</p><p></p><p><b>Who we?re looking for\n",
      "</b></p><p>The leader of the Business Analytics team helps set Sales revenue growth strategy, and leads informed decision making through holistic, thoughtful analytics. Finds and implements revenue and profit generating opportunities within Marketing, Remarketing, and the Sales departments. Drives optimization through an informed and consultative approach in a fast paced and constantly evolving environment. Develops talent and leads a team across HQ and the Field.</p><p>\n",
      "</p><p>Reporting to the General Manager ? Finance &amp; Business Analytics the person in this role will support the department's objective.</p><p>\n",
      "</p><p><b>What you?ll be doing\n",
      "</b></p><p>The Sr. Manager, Business Analytics is responsible for the following critical functions:</p><ul><li>\n",
      "Partner with the Sales Leadership team on setting cross-segment revenue growth strategy</li><li>\n",
      "Identify strategy goals, tracking pace and areas of risk and opportunities</li><li>\n",
      "Identify opportunities within the Sales organization to deliver revenue generation, cost savings, customer and/or employee satisfaction improvements as specified by the business</li><li>\n",
      "Lead Sales reporting and analysis team to enable data-driven decision making</li><li>\n",
      "Produce weekly and monthly reports, consolidate, and validate data</li><li>\n",
      "Consolidate reporting intra-department finding synergies within reporting efforts and analytics within Sales</li><li>\n",
      "Provide leadership in developing best practices for analyzing segment and customer performance\n",
      "</li><li>Lead team efforts to build and automate management dashboards and other reporting tools that can be utilized across the Sales organization, shared with other departments as well as the Management team</li><li>\n",
      "Develop Sales pipeline performance reporting and analysis</li><li>\n",
      "Lead ad hoc projects to better understand customer behavior across all Sales segments</li><li>\n",
      "Manage efforts to align data between Sales, Revenue Management, Marketing and Finance groups</li><li>\n",
      "Build and maintain a strong relationship with the business leadership team</li><li>\n",
      "Become established as a recognized subject matter expert on all Sales segments and customers</li><li>\n",
      "Serve as a resource to the business, facilitating knowledge transfer and overseeing proper application of continuous improvement methodology and tools</li><li>\n",
      "Demonstrate end-to-end process perspective, providing data collection, analysis and thorough documentation of processes</li><li>\n",
      "Develop vision and set overall strategy to lead the enterprise towards achieving strategic goals. The Senior Leader will help set the course on the crafting of a strategy to ensure execution is done in a timely and appropriate level.</li><li><p>\n",
      "Lead a large and diverse team in the areas of technical, interpersonal, and financial acumen. The crafting of a team member development plan that includes organizational design and alignment of skillsets and career aspirations.</p></li><li><p>\n",
      "Taking the lead on driving and could outcomes that impact company performance. This includes. This includes gathering internal and external benchmarking to contextualize and drive the desired outcome</p></li><li><p>\n",
      "Attention to detail and provide accurate data</p></li><li>\n",
      "Work collaboratively with team members</li><li>\n",
      "Meet regular performance expectations</li><li>\n",
      "Ability to maintain regular and predictable attendance to support team and business objectives.</li><li>\n",
      "Capability to work flexible hours, which may include day, evening and weekend hours.</li><li>\n",
      "Ability to be at work on time, to return from breaks and lunch periods on time and to leave the work area after the end of their scheduled workday (applicable to jobs subject to attendance policy)</li></ul><p></p><div>\n",
      "<div><b>What you bring\n",
      "</b></div><ul><li>Bachelor?s degree; Bachelor of Arts or Bachelor of Science and Advanced Degree in Accounting</li>\n",
      "<li>10+ years of relevant work experience (in similar field and/or industry]</li>\n",
      "<li><p>Thought leadership and ability to influence outcomes\n",
      "</p></li><li><p>Written and oral communication\n",
      "</p></li><li><p>Strong analytical skills, initiative; ability to multi-task</p>\n",
      "</li><li><p>Consultative style with key constituents</p>\n",
      "</li></ul><div><b>What we?ll bring</b></div>\n",
      "<p>During your interview process, our team can fill you in on all the details of our industry-leading benefits and career development opportunities. A few highlights include:</p>\n",
      "<ul><li>A work environment built on teamwork, flexibility and respect</li>\n",
      "<li><p>Professional growth and development programs to help advance your career, as well as tuition reimbursement</p>\n",
      "</li><li><p>Vehicle purchase &amp; lease programs\n",
      "</p></li><li><p>Comprehensive health care and wellness plans for your entire family</p>\n",
      "</li><li><p>Flextime and virtual work options (if applicable)</p>\n",
      "</li><li><p>Toyota 401(k) Savings Plan featuring a company match, as well as an annual retirement contribution from Toyota regardless of whether you contribute</p>\n",
      "</li><li><p>Paid holidays and paid time off</p>\n",
      "</li><li><p>Referral services related to prenatal services, adoption, child care, schools and more</p>\n",
      "</li><li><p>Flexible spending accounts</p>\n",
      "</li><li><p>Relocation assistance (if applicable)</p>\n",
      "</li></ul><div><b>What you should know</b></div>\n",
      "<p>Our success begins and ends with our people. We embrace diverse perspectives and value unique human experiences. We are proud to be an equal opportunity employer that celebrates the diversity of the communities where we live and do business. Applicants for our positions are considered without regard to race, ethnicity, national origin, sex, sexual orientation, gender identity or expression, age, disability, religion, military or veteran status, or any other characteristics protected by law.</p>\n",
      "<div></div><p>Have a question or need assistance with your application? Check out the How to Apply section of our careers page on Toyota.com</p>\n",
      "<p><i>To save time applying, Toyota does not offer sponsorship of job applicants for employment-based visas or any other work authorization for this position at this time</i></p><p>\n",
      "#LI-TMNA</p></div></div></div>\n"
     ]
    }
   ],
   "source": [
    "print(job_desc)"
   ]
  },
  {
   "cell_type": "code",
   "execution_count": 68,
   "metadata": {},
   "outputs": [
    {
     "name": "stdout",
     "output_type": "stream",
     "text": [
      "Who we are\n",
      "Collaborative. Respectful. A place to dream and do. These are just a few words that describe what life is like at Toyota. As one of the world?s most admired brands, Toyota is growing and leading the future of mobility through innovative, high-quality solutions designed to enhance lives and delight those we serve. We?re looking for diverse, talented team members who want to Dream. Do. Grow. with us.\n",
      "Who we?re looking for\n",
      "The leader of the Business Analytics team helps set Sales revenue growth strategy, and leads informed decision making through holistic, thoughtful analytics. Finds and implements revenue and profit generating opportunities within Marketing, Remarketing, and the Sales departments. Drives optimization through an informed and consultative approach in a fast paced and constantly evolving environment. Develops talent and leads a team across HQ and the Field.\n",
      "Reporting to the General Manager ? Finance & Business Analytics the person in this role will support the department's objective.\n",
      "What you?ll be doing\n",
      "The Sr. Manager, Business Analytics is responsible for the following critical functions:\n",
      "Partner with the Sales Leadership team on setting cross-segment revenue growth strategy\n",
      "Identify strategy goals, tracking pace and areas of risk and opportunities\n",
      "Identify opportunities within the Sales organization to deliver revenue generation, cost savings, customer and/or employee satisfaction improvements as specified by the business\n",
      "Lead Sales reporting and analysis team to enable data-driven decision making\n",
      "Produce weekly and monthly reports, consolidate, and validate data\n",
      "Consolidate reporting intra-department finding synergies within reporting efforts and analytics within Sales\n",
      "Provide leadership in developing best practices for analyzing segment and customer performance\n",
      "Lead team efforts to build and automate management dashboards and other reporting tools that can be utilized across the Sales organization, shared with other departments as well as the Management team\n",
      "Develop Sales pipeline performance reporting and analysis\n",
      "Lead ad hoc projects to better understand customer behavior across all Sales segments\n",
      "Manage efforts to align data between Sales, Revenue Management, Marketing and Finance groups\n",
      "Build and maintain a strong relationship with the business leadership team\n",
      "Become established as a recognized subject matter expert on all Sales segments and customers\n",
      "Serve as a resource to the business, facilitating knowledge transfer and overseeing proper application of continuous improvement methodology and tools\n",
      "Demonstrate end-to-end process perspective, providing data collection, analysis and thorough documentation of processes\n",
      "Develop vision and set overall strategy to lead the enterprise towards achieving strategic goals. The Senior Leader will help set the course on the crafting of a strategy to ensure execution is done in a timely and appropriate level.\n",
      "Lead a large and diverse team in the areas of technical, interpersonal, and financial acumen. The crafting of a team member development plan that includes organizational design and alignment of skillsets and career aspirations.\n",
      "Taking the lead on driving and could outcomes that impact company performance. This includes. This includes gathering internal and external benchmarking to contextualize and drive the desired outcome\n",
      "Attention to detail and provide accurate data\n",
      "Work collaboratively with team members\n",
      "Meet regular performance expectations\n",
      "Ability to maintain regular and predictable attendance to support team and business objectives.\n",
      "Capability to work flexible hours, which may include day, evening and weekend hours.\n",
      "Ability to be at work on time, to return from breaks and lunch periods on time and to leave the work area after the end of their scheduled workday (applicable to jobs subject to attendance policy)\n",
      "What you bring\n",
      "Bachelor?s degree; Bachelor of Arts or Bachelor of Science and Advanced Degree in Accounting\n",
      "10+ years of relevant work experience (in similar field and/or industry]\n",
      "Thought leadership and ability to influence outcomes\n",
      "Written and oral communication\n",
      "Strong analytical skills, initiative; ability to multi-task\n",
      "Consultative style with key constituents\n",
      "What we?ll bring\n",
      "During your interview process, our team can fill you in on all the details of our industry-leading benefits and career development opportunities. A few highlights include:\n",
      "A work environment built on teamwork, flexibility and respect\n",
      "Professional growth and development programs to help advance your career, as well as tuition reimbursement\n",
      "Vehicle purchase & lease programs\n",
      "Comprehensive health care and wellness plans for your entire family\n",
      "Flextime and virtual work options (if applicable)\n",
      "Toyota 401(k) Savings Plan featuring a company match, as well as an annual retirement contribution from Toyota regardless of whether you contribute\n",
      "Paid holidays and paid time off\n",
      "Referral services related to prenatal services, adoption, child care, schools and more\n",
      "Flexible spending accounts\n",
      "Relocation assistance (if applicable)\n",
      "What you should know\n",
      "Our success begins and ends with our people. We embrace diverse perspectives and value unique human experiences. We are proud to be an equal opportunity employer that celebrates the diversity of the communities where we live and do business. Applicants for our positions are considered without regard to race, ethnicity, national origin, sex, sexual orientation, gender identity or expression, age, disability, religion, military or veteran status, or any other characteristics protected by law.\n",
      "Have a question or need assistance with your application? Check out the How to Apply section of our careers page on Toyota.com\n",
      "To save time applying, Toyota does not offer sponsorship of job applicants for employment-based visas or any other work authorization for this position at this time\n",
      "#LI-TMNA\n"
     ]
    }
   ],
   "source": [
    "print(job_desc.text.strip())"
   ]
  },
  {
   "cell_type": "code",
   "execution_count": 72,
   "metadata": {},
   "outputs": [
    {
     "data": {
      "text/plain": [
       "[<li>\n",
       " Partner with the Sales Leadership team on setting cross-segment revenue growth strategy</li>,\n",
       " <li>\n",
       " Identify strategy goals, tracking pace and areas of risk and opportunities</li>,\n",
       " <li>\n",
       " Identify opportunities within the Sales organization to deliver revenue generation, cost savings, customer and/or employee satisfaction improvements as specified by the business</li>,\n",
       " <li>\n",
       " Lead Sales reporting and analysis team to enable data-driven decision making</li>,\n",
       " <li>\n",
       " Produce weekly and monthly reports, consolidate, and validate data</li>,\n",
       " <li>\n",
       " Consolidate reporting intra-department finding synergies within reporting efforts and analytics within Sales</li>,\n",
       " <li>\n",
       " Provide leadership in developing best practices for analyzing segment and customer performance\n",
       " </li>,\n",
       " <li>Lead team efforts to build and automate management dashboards and other reporting tools that can be utilized across the Sales organization, shared with other departments as well as the Management team</li>,\n",
       " <li>\n",
       " Develop Sales pipeline performance reporting and analysis</li>,\n",
       " <li>\n",
       " Lead ad hoc projects to better understand customer behavior across all Sales segments</li>,\n",
       " <li>\n",
       " Manage efforts to align data between Sales, Revenue Management, Marketing and Finance groups</li>,\n",
       " <li>\n",
       " Build and maintain a strong relationship with the business leadership team</li>,\n",
       " <li>\n",
       " Become established as a recognized subject matter expert on all Sales segments and customers</li>,\n",
       " <li>\n",
       " Serve as a resource to the business, facilitating knowledge transfer and overseeing proper application of continuous improvement methodology and tools</li>,\n",
       " <li>\n",
       " Demonstrate end-to-end process perspective, providing data collection, analysis and thorough documentation of processes</li>,\n",
       " <li>\n",
       " Develop vision and set overall strategy to lead the enterprise towards achieving strategic goals. The Senior Leader will help set the course on the crafting of a strategy to ensure execution is done in a timely and appropriate level.</li>,\n",
       " <li><p>\n",
       " Lead a large and diverse team in the areas of technical, interpersonal, and financial acumen. The crafting of a team member development plan that includes organizational design and alignment of skillsets and career aspirations.</p></li>,\n",
       " <li><p>\n",
       " Taking the lead on driving and could outcomes that impact company performance. This includes. This includes gathering internal and external benchmarking to contextualize and drive the desired outcome</p></li>,\n",
       " <li><p>\n",
       " Attention to detail and provide accurate data</p></li>,\n",
       " <li>\n",
       " Work collaboratively with team members</li>,\n",
       " <li>\n",
       " Meet regular performance expectations</li>,\n",
       " <li>\n",
       " Ability to maintain regular and predictable attendance to support team and business objectives.</li>,\n",
       " <li>\n",
       " Capability to work flexible hours, which may include day, evening and weekend hours.</li>,\n",
       " <li>\n",
       " Ability to be at work on time, to return from breaks and lunch periods on time and to leave the work area after the end of their scheduled workday (applicable to jobs subject to attendance policy)</li>,\n",
       " <li>Bachelor?s degree; Bachelor of Arts or Bachelor of Science and Advanced Degree in Accounting</li>,\n",
       " <li>10+ years of relevant work experience (in similar field and/or industry]</li>,\n",
       " <li><p>Thought leadership and ability to influence outcomes\n",
       " </p></li>,\n",
       " <li><p>Written and oral communication\n",
       " </p></li>,\n",
       " <li><p>Strong analytical skills, initiative; ability to multi-task</p>\n",
       " </li>,\n",
       " <li><p>Consultative style with key constituents</p>\n",
       " </li>,\n",
       " <li>A work environment built on teamwork, flexibility and respect</li>,\n",
       " <li><p>Professional growth and development programs to help advance your career, as well as tuition reimbursement</p>\n",
       " </li>,\n",
       " <li><p>Vehicle purchase &amp; lease programs\n",
       " </p></li>,\n",
       " <li><p>Comprehensive health care and wellness plans for your entire family</p>\n",
       " </li>,\n",
       " <li><p>Flextime and virtual work options (if applicable)</p>\n",
       " </li>,\n",
       " <li><p>Toyota 401(k) Savings Plan featuring a company match, as well as an annual retirement contribution from Toyota regardless of whether you contribute</p>\n",
       " </li>,\n",
       " <li><p>Paid holidays and paid time off</p>\n",
       " </li>,\n",
       " <li><p>Referral services related to prenatal services, adoption, child care, schools and more</p>\n",
       " </li>,\n",
       " <li><p>Flexible spending accounts</p>\n",
       " </li>,\n",
       " <li><p>Relocation assistance (if applicable)</p>\n",
       " </li>]"
      ]
     },
     "execution_count": 72,
     "metadata": {},
     "output_type": "execute_result"
    }
   ],
   "source": [
    "job_desc.find_all('li')"
   ]
  },
  {
   "cell_type": "code",
   "execution_count": null,
   "metadata": {},
   "outputs": [],
   "source": [
    "\n",
    "In [8]:\n",
    "\n",
    "URL = \"https://www.indeed.com/jobs?q=data+scientist+%2420%2C000&l=New+York&start=10&sort=date\"    \n",
    "\n",
    "soup = BeautifulSoup(urllib.request.urlopen(URL).read(), 'html.parser')\n",
    "\n",
    "results = soup.find_all('div', attrs={'data-tn-component': 'organicJob'})\n",
    "\n",
    "for x in results:\n",
    "\n",
    "    company = x.find('span', attrs={\"class\":\"company\"})\n",
    "    if company:\n",
    "        print('company:', company.text.strip() )\n",
    "\n",
    "    job = x.find('a', attrs={'data-tn-element': \"jobTitle\"})\n",
    "    if job:\n",
    "        print('job:', job.text.strip())\n",
    "    \n",
    "    job_location = x.find('span',{'class':\"location\"}).text.replace('\\n', '')\n",
    "    if job_location:\n",
    "        print('location:', job_location)\n",
    "    \n",
    "    job_id = x.find('a').get('id')\n",
    "    if job_id:\n",
    "        print('job_id:',job_id)\n",
    "        print('job_id:',job_id[3:])\n",
    "        print('https://www.indeed.com/viewjob?jk='+job_id[3:])\n",
    "        job_url='https://www.indeed.com/viewjob?jk='+job_id[3:]\n",
    "        job_soup = BeautifulSoup(urllib.request.urlopen(job_url).read(), 'html.parser')\n",
    "        job_desc = job_soup.find_all('div', attrs={'class': 'jobsearch-jobDescriptionText'})\n",
    "        print(job_desc)\n",
    "\n",
    "    salary = x.find('nobr')\n",
    "    if salary:\n",
    "        print('salary:', salary.text.strip())\n",
    "\n",
    "    print ('----------')\n",
    "\n"
   ]
  },
  {
   "cell_type": "code",
   "execution_count": null,
   "metadata": {},
   "outputs": [],
   "source": []
  },
  {
   "cell_type": "code",
   "execution_count": 3,
   "metadata": {},
   "outputs": [],
   "source": [
    "import asyncio\n",
    "from aiohttp import ClientSession\n",
    "\n",
    "import pandas as pd\n",
    "import urllib.request\n",
    "from datetime import datetime\n",
    "from bs4 import BeautifulSoup\n",
    "import os"
   ]
  },
  {
   "cell_type": "code",
   "execution_count": 4,
   "metadata": {},
   "outputs": [],
   "source": [
    "gcp_creds_path = '/Users/jason/Documents/Jason/JobMatch/job-match-271401-74d3c9eb9112.json'\n",
    "if os.path.exists(gcp_creds_path):\n",
    "    os.environ['GOOGLE_APPLICATION_CREDENTIALS'] = r'/Users/jason/Documents/Jason/JobMatch/job-match-271401-74d3c9eb9112.json'\n"
   ]
  },
  {
   "cell_type": "code",
   "execution_count": 5,
   "metadata": {},
   "outputs": [],
   "source": [
    "\n",
    "def retrieve_job_id():\n",
    "    query_string = \"\"\"\n",
    "    select *\n",
    "    from job_search.job_id_new_list\n",
    "    where rand()<0.001\n",
    "    \"\"\"\n",
    "    df = pd.read_gbq(query=query_string, progress_bar_type=None)\n",
    "    return df\n",
    "\n",
    "async def fetch(url, session):\n",
    "    async with session.get(url) as response:\n",
    "        return await response.read()\n",
    "\n",
    "\n",
    "async def run_urls(job_id_list):\n",
    "    tasks = []\n",
    "\n",
    "    async with ClientSession() as session:\n",
    "        for job_id in job_id_list:\n",
    "            job_url = 'https://www.indeed.com/viewjob?jk='+job_id\n",
    "            async with session.get(job_url) as resp:\n",
    "                tasks.append(resp)\n",
    "        responses = await asyncio.gather(*tasks)\n",
    "        return responses"
   ]
  },
  {
   "cell_type": "code",
   "execution_count": 6,
   "metadata": {},
   "outputs": [
    {
     "name": "stderr",
     "output_type": "stream",
     "text": [
      "/Users/jason/opt/anaconda3/envs/jobmatch/lib/python3.8/site-packages/pandas_gbq/gbq.py:552: UserWarning: A progress bar was requested, but there was an error loading the tqdm library. Please install tqdm to use the progress bar functionality.\n",
      "  df = rows_iter.to_dataframe(\n"
     ]
    }
   ],
   "source": [
    "df = retrieve_job_id()"
   ]
  },
  {
   "cell_type": "code",
   "execution_count": 7,
   "metadata": {},
   "outputs": [
    {
     "ename": "RuntimeError",
     "evalue": "This event loop is already running",
     "output_type": "error",
     "traceback": [
      "\u001b[0;31m---------------------------------------------------------------------------\u001b[0m",
      "\u001b[0;31mRuntimeError\u001b[0m                              Traceback (most recent call last)",
      "\u001b[0;32m<ipython-input-7-3264fcc6489f>\u001b[0m in \u001b[0;36m<module>\u001b[0;34m\u001b[0m\n\u001b[1;32m      1\u001b[0m \u001b[0mloop\u001b[0m \u001b[0;34m=\u001b[0m \u001b[0masyncio\u001b[0m\u001b[0;34m.\u001b[0m\u001b[0mget_event_loop\u001b[0m\u001b[0;34m(\u001b[0m\u001b[0;34m)\u001b[0m\u001b[0;34m\u001b[0m\u001b[0;34m\u001b[0m\u001b[0m\n\u001b[0;32m----> 2\u001b[0;31m \u001b[0mresponses\u001b[0m \u001b[0;34m=\u001b[0m \u001b[0mloop\u001b[0m\u001b[0;34m.\u001b[0m\u001b[0mrun_until_complete\u001b[0m\u001b[0;34m(\u001b[0m\u001b[0mrun_urls\u001b[0m\u001b[0;34m(\u001b[0m\u001b[0mdf\u001b[0m\u001b[0;34m.\u001b[0m\u001b[0mjob_id\u001b[0m\u001b[0;34m.\u001b[0m\u001b[0mto_list\u001b[0m\u001b[0;34m(\u001b[0m\u001b[0;34m)\u001b[0m\u001b[0;34m)\u001b[0m\u001b[0;34m)\u001b[0m\u001b[0;34m\u001b[0m\u001b[0;34m\u001b[0m\u001b[0m\n\u001b[0m",
      "\u001b[0;32m~/opt/anaconda3/envs/jobmatch/lib/python3.8/asyncio/base_events.py\u001b[0m in \u001b[0;36mrun_until_complete\u001b[0;34m(self, future)\u001b[0m\n\u001b[1;32m    597\u001b[0m         \u001b[0mfuture\u001b[0m\u001b[0;34m.\u001b[0m\u001b[0madd_done_callback\u001b[0m\u001b[0;34m(\u001b[0m\u001b[0m_run_until_complete_cb\u001b[0m\u001b[0;34m)\u001b[0m\u001b[0;34m\u001b[0m\u001b[0;34m\u001b[0m\u001b[0m\n\u001b[1;32m    598\u001b[0m         \u001b[0;32mtry\u001b[0m\u001b[0;34m:\u001b[0m\u001b[0;34m\u001b[0m\u001b[0;34m\u001b[0m\u001b[0m\n\u001b[0;32m--> 599\u001b[0;31m             \u001b[0mself\u001b[0m\u001b[0;34m.\u001b[0m\u001b[0mrun_forever\u001b[0m\u001b[0;34m(\u001b[0m\u001b[0;34m)\u001b[0m\u001b[0;34m\u001b[0m\u001b[0;34m\u001b[0m\u001b[0m\n\u001b[0m\u001b[1;32m    600\u001b[0m         \u001b[0;32mexcept\u001b[0m\u001b[0;34m:\u001b[0m\u001b[0;34m\u001b[0m\u001b[0;34m\u001b[0m\u001b[0m\n\u001b[1;32m    601\u001b[0m             \u001b[0;32mif\u001b[0m \u001b[0mnew_task\u001b[0m \u001b[0;32mand\u001b[0m \u001b[0mfuture\u001b[0m\u001b[0;34m.\u001b[0m\u001b[0mdone\u001b[0m\u001b[0;34m(\u001b[0m\u001b[0;34m)\u001b[0m \u001b[0;32mand\u001b[0m \u001b[0;32mnot\u001b[0m \u001b[0mfuture\u001b[0m\u001b[0;34m.\u001b[0m\u001b[0mcancelled\u001b[0m\u001b[0;34m(\u001b[0m\u001b[0;34m)\u001b[0m\u001b[0;34m:\u001b[0m\u001b[0;34m\u001b[0m\u001b[0;34m\u001b[0m\u001b[0m\n",
      "\u001b[0;32m~/opt/anaconda3/envs/jobmatch/lib/python3.8/asyncio/base_events.py\u001b[0m in \u001b[0;36mrun_forever\u001b[0;34m(self)\u001b[0m\n\u001b[1;32m    552\u001b[0m         \u001b[0mself\u001b[0m\u001b[0;34m.\u001b[0m\u001b[0m_check_closed\u001b[0m\u001b[0;34m(\u001b[0m\u001b[0;34m)\u001b[0m\u001b[0;34m\u001b[0m\u001b[0;34m\u001b[0m\u001b[0m\n\u001b[1;32m    553\u001b[0m         \u001b[0;32mif\u001b[0m \u001b[0mself\u001b[0m\u001b[0;34m.\u001b[0m\u001b[0mis_running\u001b[0m\u001b[0;34m(\u001b[0m\u001b[0;34m)\u001b[0m\u001b[0;34m:\u001b[0m\u001b[0;34m\u001b[0m\u001b[0;34m\u001b[0m\u001b[0m\n\u001b[0;32m--> 554\u001b[0;31m             \u001b[0;32mraise\u001b[0m \u001b[0mRuntimeError\u001b[0m\u001b[0;34m(\u001b[0m\u001b[0;34m'This event loop is already running'\u001b[0m\u001b[0;34m)\u001b[0m\u001b[0;34m\u001b[0m\u001b[0;34m\u001b[0m\u001b[0m\n\u001b[0m\u001b[1;32m    555\u001b[0m         \u001b[0;32mif\u001b[0m \u001b[0mevents\u001b[0m\u001b[0;34m.\u001b[0m\u001b[0m_get_running_loop\u001b[0m\u001b[0;34m(\u001b[0m\u001b[0;34m)\u001b[0m \u001b[0;32mis\u001b[0m \u001b[0;32mnot\u001b[0m \u001b[0;32mNone\u001b[0m\u001b[0;34m:\u001b[0m\u001b[0;34m\u001b[0m\u001b[0;34m\u001b[0m\u001b[0m\n\u001b[1;32m    556\u001b[0m             raise RuntimeError(\n",
      "\u001b[0;31mRuntimeError\u001b[0m: This event loop is already running"
     ]
    }
   ],
   "source": [
    "loop = asyncio.get_event_loop()\n",
    "responses = loop.run_until_complete(run_urls(df.job_id.to_list()))"
   ]
  },
  {
   "cell_type": "code",
   "execution_count": 9,
   "metadata": {},
   "outputs": [
    {
     "data": {
      "text/plain": [
       "<_UnixSelectorEventLoop running=True closed=False debug=False>"
      ]
     },
     "execution_count": 9,
     "metadata": {},
     "output_type": "execute_result"
    }
   ],
   "source": [
    "loop"
   ]
  },
  {
   "cell_type": "code",
   "execution_count": 1,
   "metadata": {},
   "outputs": [
    {
     "ename": "NameError",
     "evalue": "name 'loop' is not defined",
     "output_type": "error",
     "traceback": [
      "\u001b[0;31m---------------------------------------------------------------------------\u001b[0m",
      "\u001b[0;31mNameError\u001b[0m                                 Traceback (most recent call last)",
      "\u001b[0;32m<ipython-input-1-b5c66bfeb405>\u001b[0m in \u001b[0;36m<module>\u001b[0;34m\u001b[0m\n\u001b[0;32m----> 1\u001b[0;31m \u001b[0mloop\u001b[0m\u001b[0;34m.\u001b[0m\u001b[0mrun_until_complete\u001b[0m\u001b[0;34m(\u001b[0m\u001b[0mfuture\u001b[0m\u001b[0;34m)\u001b[0m\u001b[0;34m\u001b[0m\u001b[0;34m\u001b[0m\u001b[0m\n\u001b[0m",
      "\u001b[0;31mNameError\u001b[0m: name 'loop' is not defined"
     ]
    }
   ],
   "source": [
    "loop.run_until_complete(future)"
   ]
  },
  {
   "cell_type": "code",
   "execution_count": null,
   "metadata": {},
   "outputs": [],
   "source": []
  }
 ],
 "metadata": {
  "kernelspec": {
   "display_name": "Python 3",
   "language": "python",
   "name": "python3"
  },
  "language_info": {
   "codemirror_mode": {
    "name": "ipython",
    "version": 3
   },
   "file_extension": ".py",
   "mimetype": "text/x-python",
   "name": "python",
   "nbconvert_exporter": "python",
   "pygments_lexer": "ipython3",
   "version": "3.8.1"
  }
 },
 "nbformat": 4,
 "nbformat_minor": 2
}
