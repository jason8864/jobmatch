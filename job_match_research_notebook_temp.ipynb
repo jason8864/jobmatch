{
 "cells": [
  {
   "cell_type": "code",
   "execution_count": 1,
   "metadata": {},
   "outputs": [],
   "source": [
    "URL = \"http://www.indeed.com/jobs?q=data+scientist+%2420%2C000&l=New+York&start=10\""
   ]
  },
  {
   "cell_type": "code",
   "execution_count": 2,
   "metadata": {},
   "outputs": [],
   "source": [
    "import urllib.request\n",
    "from bs4 import BeautifulSoup"
   ]
  },
  {
   "cell_type": "code",
   "execution_count": 8,
   "metadata": {},
   "outputs": [
    {
     "output_type": "stream",
     "name": "stdout",
     "text": " services, and wealth management. Our core activities are safeguarding assets, lending money, making payments and accessing the capital markets on behalf of our clients.</p><p>\nCiti’s Mission and Value Proposition explains what we do and Citi Leadership Standards explain how we do it. Our mission is to serve as a trusted partner to our clients by responsibly providing financial services that enable growth and economic progress. We strive to earn and maintain our clients’ and the public’s trust by constantly adhering to the highest ethical standards and making a positive impact on the communities we serve. Our Leadership Standards is a common set of skills and expected behaviors that illustrate how our employees should work every day to be successful and strengthens our ability to execute against our strategic priorities.</p><p></p><p>\nDiversity is a key business imperative and a source of strength at Citi. We serve clients from every walk of life, every background and every origin. Our goal is to have our workforce reflect this same diversity at all levels. Citi has made it a priority to foster a culture where the best people want to work, where individuals are promoted based on merit, where we value and demand respect for others and where opportunities to develop are widely available to all.</p><p></p><br/>\n<p>\n-</p>\nGrade :All Job Level - All Job FunctionsAll Job Level - All Job Functions - US<p>\n-</p>\nTime Type :<p>\n-</p><p>\nCiti is an equal opportunity and affirmative action employer.<br/>\nMinority/Female/Veteran/Individuals with Disabilities/Sexual Orientation/Gender Identity.</p><p></p><p>\nCitigroup Inc. and its subsidiaries (\"Citi”) invite all qualified interested applicants to apply for career opportunities. If you are a person with a disability and need a reasonable accommodation to use our search tools and/or apply for a career opportunity .</p><p></p><p>\nTo view the \"EEO is the Law\" poster . To view the EEO is the Law Supplement .<br/>\nTo view the EEO Policy Statement .<br/>\nTo view the Pay Transparency Posting .</p></div></div>]\n----------\ncompany: NYU Langone\njob: Data Science Analyst/Engineer\nlocation: New York, NY 10003 (Gramercy area)\njob_id: jl_c9f374f35c63c761\njob_id: c9f374f35c63c761\nhttps://www.indeed.com/viewjob?jk=c9f374f35c63c761\n[<div class=\"jobsearch-jobDescriptionText\" id=\"jobDescriptionText\"><div><p><b>NYU Grossman School of Medicine</b> is one of the nation's top-ranked medical schools. For 175 years, NYU Grossman School of Medicine has trained thousands of physicians and scientists who have helped to shape the course of medical history and enrich the lives of countless people. An integral part of NYU Langone Health, the Grossman School of Medicine at its core is committed to improving the human condition through medical education, scientific research, and direct patient care. For more information, go to med.nyu.edu, and interact with us on Facebook, Twitter and Instagram.</p><br/>\n<p></p>\n<p><b>\nPosition Summary:</b></p><br/>\n<p></p><p>\nWe have an exciting opportunity to join our team as a Data Science Analyst/Engineer.</p>\n<p>\nThe individual will be positioned to contribute to analytics efforts at NYULH. By teaming up with clinicians, operations and administrative teams, the individual will develop innovative and impactful data-driven healthcare solutions. The Data Scientist/Engineer will report to Dr. Johnson, while working closely with other members of the Division of Healthcare Delivery Science, Datacore, MCIT, and NYU healthcare community at large.</p><br/>\n<p></p>\n<p><b>\nJob Responsibilities:</b></p><br/>\n<p></p>\n<ul>\n<li>Performs other duties as assigned.</li>\n<li>Lead specific dataoriented projects of high importance, including development, deployment, and evaluation</li>\n<li>Design and build data solutions using state of the art machine learning and informatics methods; deploy and integrate these products within the larger ecosystem of healthcare infrastructure at NYULMC</li>\n<li>Work with large, complex and noisy clinical datasets for solving challenging problems in the healthcare domain</li>\n<li>Build and engineer workflows to collect, store, clean and process structured as well as unstructured data, verify their integrity and appropriateness for specific business processes and analytics systems</li>\n<li>Manage associate data scientists, engineers, and clinically trained professionals for testing novel approaches, implementation, maintenance, and improvement of predictive models.</li>\n<li>Collaborate with the overall NYULMC healthcare community and contribute to ongoing predictive modeling / analytics efforts</li>\n<li>Prepare and present results, reports, both oral and written, to a variety of audiences, concerning processes, models, evaluation, and impact (ROI)</li><br/>\n</ul><p></p>\n<p><b>\nMinimum Qualifications:</b></p><br/>\n<p></p>\n<ul>\n<li>To qualify you must have a Master degree in a quantitative discipline (Biomedical Informatics, Computer Science, Machine Learning, Applied Statistics, Mathematics or similar field) and 3 years of<br/>\nexperience in machine learning/ data science.</li>\n<li>Proficiency in at least one programming language (Python, R) and machine learning tools.</li>\n<li>Knowledge of predictive modeling and machine learning concepts, including design, development, evaluation, deployment and scaling to large datasets.</li>\n<li>Familiarity with computing models for big data - Hadoop / MapReduce, Spark etc.</li>\n<li>Knowledge of databases (Relational / SQL, NOSQL, MongoDB etc.)</li>\n<li>Good grasp of software engineering principles. Experience in integrating modern software architectures.</li>\n<li>Knowledge and some experience in operational aspects of software development and deployment, including automation, testing, virtualization and container technology.</li>\n<li>Knowledge of clinical and operational aspects of healthcare delivery.</li>\n<li>Excellent written and oral communication skills for a variety of audiences.</li><br/>\n</ul><p></p>\n<p><b>\nPreferred Qualifications:</b></p><br/>\n<p></p>\n<ul>\n<li>PhD degree in a quantitative field (Biomedical Informatics, Computer Science, Machine Learning, Applied Statistics, Mathematics or similar field) + 2 years experience.</li>\n<li>Demonstrated skills in design and implementation of complex machine learning models.</li>\n<li>Demonstrated knowledge of software engineering and operational skills through prior projects.</li><br/>\n</ul><p></p>\n<p><i>\nQualified candidates must be able to effectively communicate with all levels of the organization.</i><br/>\n<br/>\nNYU Grossman School of Medicine provides its staff with far more than just a place to work. Rather, we are an institution you can be proud of, an institution where you'll feel good about devoting your time and your talents.<br/>\n<br/>\nNYU Grossman School of Medicine is an equal opportunity and affirmative action employer committed to diversity and inclusion in all aspects of recruiting and employment. All qualified individuals are encouraged to apply and will receive consideration without regard to race, color, gender, gender identity or expression, sex, sexual orientation, transgender status, gender dysphoria, national origin, age, religion, disability, military and veteran status, marital or parental status, citizenship status, genetic information or any other factor which cannot lawfully be used as a basis for an employment decision. We require applications to be completed online.</p><br/>\n<p>\nIf you wish to view NYU Grossman School of Medicine's EEO policies, please click here. Please click here to view the Federal \"EEO is the law\" poster or visit https://www.dol.gov/ofccp/regs/compliance/posters/ofccpost.htm for more information. To view the Pay Transparency Notice, please click here.</p><br/>\nRequired Skills<br/>\n<br/>\nRequired Experience</div></div>]\n----------\ncompany: J.P. Morgan\njob: CIB Global Research - Applied AI & Machine Learning Lead\nlocation: New York, NY 10179 (Midtown area)\njob_id: jl_8d1a0c1662eaf699\njob_id: 8d1a0c1662eaf699\nhttps://www.indeed.com/viewjob?jk=8d1a0c1662eaf699\n[<div class=\"jobsearch-jobDescriptionText\" id=\"jobDescriptionText\"><div><div><b>About J.P. Morgan Corporate &amp; Investment Bank\n</b><br/>\nJ.P. Morgan’s Corporate &amp; Investment Bank is a global leader across banking, markets, securities services and wholesale payments. The world’s most important corporations, governments and institutions entrust us with their business in more than 100 countries. The Corporate &amp; Investment Bank provides strategic advice, raises capital, manages risk and extends liquidity in markets around the world.</div><br/>\n<div><br/>\n<b>About</b> <b>Data Analytics at JPMorgan CIB</b></div>\n<div>Data Analytics at JPMorgan Corporate Investment Bank combines cutting edge machine learning techniques with the company’s unique data assets to optimize all the business decisions we make. In this role, you will be part of our industry-leading data analytics team, and advance the state-of-the-art in financial applications ranging from generating business intelligence to predictive models and automated decision making.</div><br/>\n<div></div>\n<div><b>The role will be in the firm’s Applied AI and Machine Learning organization and will involve working closely with Global Research.</b></div><br/>\n<div></div>\n<div><b>The successful candidate will apply data analytics techniques from both traditional statistics and machine learning to a combination of third party, publically available and JPMorgan proprietary datasets, with the goal of answering questions relevant to our Research analysts and the firm’s clients.</b><br/>\n</div><div><b>About Global Research</b></div>\n<div>The firm's Research team provides clients with informed views and actionable ideas on economic indicators, markets, companies and asset classes around the world. Its top ranked research analysts, strategists and economists are located in 27 countries in developed and emerging economies. CIB Research strives to be a leader in articulating its unique and independent perspectives in the regions where we want to do business.\n</div><div>Clients of the CIB, Asset Management, and other lines of business value the expertise of Research in helping them achieve their objectives. They recognize its commitment with top-tier rankings in surveys conducted by Institutional Investor, Greenwich Associates, Orion and many others.</div><br/>\n<div></div>\n<div><b>Responsibilities</b></div>\n<ul><li><div>Collaborate with Research analysts to formulate relevant financial and business questions that can be answered by data analysis.</div></li><li><div>\nResearch and analyze data sets using a variety of statistical and machine learning techniques</div></li><li><div>\nCommunicate final results and give context.</div></li><li><div>\nDocument approach and techniques used.\n</div></li><li><div>Work on longer term projects, building tooling that can be used to scale certain types of analyses across multiple datasets and business use cases.</div></li><li><div>\nCollaborate with other JP Morgan machine learning teams.</div></li></ul>\n<div><b>Required Technical Qualifications and experience</b><br/>\n<ul><li>MS or PhD in a quantitative discipline, e.g. Computer Science, Mathematics, Statistics, Operations Research, Data Science, or similar BS with experience in a highly quantitative position.</li><li>Hands-on experience analyzing data.\n</li><li>Strong ability to develop and debug in Python or similar professional programming language.</li></ul></div><ul><li>Experience with natural language processing (NLP).\n</li></ul><ul><li>Ideally, some experience with machine learning APIs and computational packages (examples: TensorFlow, Theano, PyTorch, Keras, Scikit-Learn, NumPy, SciPy, Pandas, statsmodels).</li><li>Experience with big-data technologies such as Hadoop, Spark, SparkML, etc.</li></ul><br/>\n<div><b>Problem Solving&amp; Collaboration</b></div>\n<ul><li>Should be able to work both individually and collaboratively in teams, in order to achieve project goals.</li><li>Must be curious, hardworking and detail-oriented, and motivated by complex analytical problems.</li><li>Must have the ability to design or evaluate intrinsic and extrinsic metrics of your model’s performance which are aligned with business goals.</li><li>Must be able to independently research and propose alternatives with some guidance as to problem relevance.</li><li>Must be able to undertake basic and advanced EDA, may require some direction from more senior team; should be aware of limitation and implication of methodology choices.</li><li>Ensures re-use and sharing of ideas within team and locale.</li><li>Able to work with non-specialists in a partnership model, conveys information clearly and creates a sense of trust with stakeholders.</li><li>Shows institutional awareness and some understanding of applied problem solving, may require coaching and guidance as to how to most rapidly reach a satisfactory conclusion</li></ul></div></div>]\n----------\ncompany: AETNA\njob: Data Scientist\nlocation: New York, NY 10016 (Gramercy area)\njob_id: jl_8faf6cdc97acc97b\njob_id: 8faf6cdc97acc97b\nhttps://www.indeed.com/viewjob?jk=8faf6cdc97acc97b\n[<div class=\"jobsearch-jobDescriptionText\" id=\"jobDescriptionText\"><div><b>Description:\n</b><br/>\n<i>It’s a new day in health care.</i><br/>\n<br/>\n<i>Combining CVS Health and Aetna was a transformative moment for our company and our industry, establishing CVS Health as the nation’s premier health innovation company. Through our health services, insurance plans and community pharmacists, we’re pioneering a bold new approach to total health. As a CVS Health colleague, you’ll be at the center of it all.</i><br/>\n<br/>\n<i>We offer a diverse work experience that empowers colleagues for career success. In addition to skill and experience, we also seek to attract and retain colleagues whose beliefs and behaviors are in alignment with our core values of collaboration, innovation, caring, integrity and accountability.</i>\n69481<br/>\n<b>\nFundamental Components:\n</b><br/>\n<ul><li>Participates in the development, validation and delivery of algorithms, statistical models and reporting tools. Solves moderately complex analytical problems.</li><li>\nDevelops, validates and executes algorithms and predictive models to investigate problems, detect patterns and recommend solutions.</li><li>\nExplores, examines and interprets large volumes of data in various forms.</li><li>\nPerforms analyses of structured and unstructured data to solve moderately complex business problems. utilizing advanced statistical techniques and mathematical analyses.</li><li>\nDevelops data structures and pipelines to organize, collect and standardize data that helps generate insights and addresses reporting needs.</li><li>\nUses data visualization techniques to effectively communicate analytical results and support business decisions.</li><li>\nCreates and evaluates the data needs of assigned projects and assures the integrity of the data.</li><li>\nExplores existing data and recommends additional sources of data for improvements.</li><li>\nDocuments projects including business objectives, data gathering and processing, detailed set of results and analytical metrics.</li></ul><br/>\n<b>\nBackground Experience:\n</b><br/>\n<ul><li>Demonstrates good written and verbal communication skills.</li><li>\nAble to present information to various audiences.</li><li>\nEffectively resolves problems and roadblocks as they occur.</li><li>\nDemonstrates proficiency in several areas of data modeling, machine learning algorithms, statistical analysis, data engineering and data visualization.</li><li>\nAbility to work with large data sets from multiple data sources.3 years of relevant programming or analytic experience.</li><li>\nMasters degree preferred.Bachelor's degree or equivalent work experience in Mathematics, Statistics, Computer Science, Business Analytics, Economics, Physics, Engineering, or related discipline.</li></ul><br/>\n<b>\nPotential Telework Position:\n</b><br/>\nNo<br/>\n<br/>\n<b>Percent of Travel Required:\n</b><br/>\n0 - 10%<br/>\n<br/>\n<b>EEO Statement:\n</b><br/>\nAetna is an Equal Opportunity, Affirmative Action Employer<br/>\n<br/>\n<b>Benefit Eligibility:\n</b><br/>\nBenefit eligibility may vary by position.<br/>\n<br/>\n<b>Candidate Privacy Information:\n</b><br/>\nAetna takes our candidate's data privacy seriously. At no time will any Aetna recruiter or employee request any financial or personal information (Social Security Number, Credit card information for direct deposit, etc.) from you via e-mail. Any requests for information will be discussed prior and will be conducted through a secure website provided by the recruiter. Should you be asked for such information, please notify us immediately.</div></div>]\n----------\ncompany: AETNA\njob: Senior Data Scientist\nlocation: New York, NY 10016 (Murray Hill area)\njob_id: jl_6d94094c55645112\njob_id: 6d94094c55645112\nhttps://www.indeed.com/viewjob?jk=6d94094c55645112\n[<div class=\"jobsearch-jobDescriptionText\" id=\"jobDescriptionText\"><p><b>Description:\n</b><br/>\nLeads and participates in the development, validation and delivery of algorithms, statistical models and reporting tools. Solves complex analytical problems.\n69547<br/>\n<b>\nFundamental Components:\n</b><br/>\nDevelops and/or uses algorithms and statistical predictive models and determines analytical approaches and modeling techniques to evaluate scenarios and potential future outcomes. Performs analyses of structured and unstructured data to solve multiple and/or complex business problems utilizing advanced statistical techniques and mathematical analyses and broad knowledge of the organization and/or industry. Collaborates with business partners to understand their problems and goals, develop predictive modeling, statistical analysis, data reports and performance metrics. Develops and participates in presentations and consultations to existing and prospective constituents on analytics results and solutions. Interacts with internal and external peers and managers to exchange complex information related to areas of specialization. Use strong knowledge in algorithms and predictive models to investigate problems, detect patterns and recommend solutions. Use strong programming skills to explore, examine and interpret large volumes of data in various forms.<br/>\n<br/>\n<b>Background Experience:\n</b><br/>\nDemonstrates strong ability to communicate technical concepts and implications to business partners.Anticipates and prevents problems and roadblocks before they occur.Strong knowledge of advanced analytics tools and languages to analyze large data sets from multiple data sources.Demonstrates proficiency in most areas of mathematical analysis methods, machine learning, statistical analyses, and predictive modeling and in-depth specialization in some areas.5 or more years of progressively complex related experience. Bachelor's degree or equivalent work experience in Mathematics, Statistics, Computer Science, Business Analytics, Economics, Physics, Engineering, or related discipline.Master’s degree or PhD preferred.<br/>\n<br/>\n<b>Potential Telework Position:\n</b><br/>\nNo<br/>\n<br/>\n<b>Percent of Travel Required:\n</b><br/>\n0 - 10%<br/>\n<br/>\n<b>EEO Statement:\n</b><br/>\nAetna is an Equal Opportunity, Affirmative Action Employer<br/>\n<br/>\n<b>Benefit Eligibility:\n</b><br/>\nBenefit eligibility may vary by position.<br/>\n<br/>\n<b>Candidate Privacy Information:\n</b><br/>\nAetna takes our candidate's data privacy seriously. At no time will any Aetna recruiter or employee request any financial or personal information (Social Security Number, Credit card information for direct deposit, etc.) from you via e-mail. Any requests for information will be discussed prior and will be conducted through a secure website provided by the recruiter. Should you be asked for such information, please notify us immediately.</p></div>]\n----------\n"
    }
   ],
   "source": [
    "URL = \"https://www.indeed.com/jobs?q=data+scientist+%2420%2C000&l=New+York&start=10&sort=date\"    \n",
    "\n",
    "soup = BeautifulSoup(urllib.request.urlopen(URL).read(), 'html.parser')\n",
    "\n",
    "results = soup.find_all('div', attrs={'data-tn-component': 'organicJob'})\n",
    "\n",
    "for x in results:\n",
    "\n",
    "    company = x.find('span', attrs={\"class\":\"company\"})\n",
    "    if company:\n",
    "        print('company:', company.text.strip() )\n",
    "\n",
    "    job = x.find('a', attrs={'data-tn-element': \"jobTitle\"})\n",
    "    if job:\n",
    "        print('job:', job.text.strip())\n",
    "    \n",
    "    job_location = x.find('span',{'class':\"location\"}).text.replace('\\n', '')\n",
    "    if job_location:\n",
    "        print('location:', job_location)\n",
    "    \n",
    "    job_id = x.find('a').get('id')\n",
    "    if job_id:\n",
    "        print('job_id:',job_id)\n",
    "        print('job_id:',job_id[3:])\n",
    "        print('https://www.indeed.com/viewjob?jk='+job_id[3:])\n",
    "        job_url='https://www.indeed.com/viewjob?jk='+job_id[3:]\n",
    "        job_soup = BeautifulSoup(urllib.request.urlopen(job_url).read(), 'html.parser')\n",
    "        job_desc = job_soup.find_all('div', attrs={'class': 'jobsearch-jobDescriptionText'})\n",
    "        print(job_desc)\n",
    "\n",
    "    salary = x.find('nobr')\n",
    "    if salary:\n",
    "        print('salary:', salary.text.strip())\n",
    "\n",
    "    print ('----------')"
   ]
  },
  {
   "cell_type": "code",
   "execution_count": null,
   "metadata": {},
   "outputs": [],
   "source": [
    "job_url='https://www.indeed.com/viewjob?jk=dcb2db2401c70876'\n",
    "job_soup = BeautifulSoup(urllib.request.urlopen(job_url).read(), 'html.parser')\n",
    "job_desc = job_soup.find_all('div', attrs={'class': 'jobsearch-jobDescriptionText'})"
   ]
  },
  {
   "cell_type": "code",
   "execution_count": null,
   "metadata": {},
   "outputs": [],
   "source": [
    "result = job_soup.find_all(['p'])"
   ]
  },
  {
   "cell_type": "code",
   "execution_count": null,
   "metadata": {},
   "outputs": [],
   "source": [
    "# https://towardsdatascience.com/a-practitioners-guide-to-natural-language-processing-part-i-processing-understanding-text-9f4abfd13e72\n",
    "def strip_html_tags(text):\n",
    "    soup = BeautifulSoup(text, \"html.parser\")\n",
    "    stripped_text = soup.get_text()\n",
    "    return stripped_text\n",
    "\n",
    "strip_html_tags(str(job_desc[0]))"
   ]
  },
  {
   "cell_type": "code",
   "execution_count": null,
   "metadata": {},
   "outputs": [],
   "source": [
    "job_desc.count"
   ]
  },
  {
   "cell_type": "code",
   "execution_count": null,
   "metadata": {},
   "outputs": [],
   "source": []
  }
 ],
 "metadata": {
  "kernelspec": {
   "display_name": "Python 3",
   "language": "python",
   "name": "python3"
  },
  "language_info": {
   "codemirror_mode": {
    "name": "ipython",
    "version": 3
   },
   "file_extension": ".py",
   "mimetype": "text/x-python",
   "name": "python",
   "nbconvert_exporter": "python",
   "pygments_lexer": "ipython3",
   "version": "3.8.1-final"
  }
 },
 "nbformat": 4,
 "nbformat_minor": 2
}